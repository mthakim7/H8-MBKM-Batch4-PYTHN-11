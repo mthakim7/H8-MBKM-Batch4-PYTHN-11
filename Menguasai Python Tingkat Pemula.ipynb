{
 "cells": [
  {
   "cell_type": "markdown",
   "id": "8c4c94b9",
   "metadata": {},
   "source": [
    "# Hello Python"
   ]
  },
  {
   "cell_type": "markdown",
   "id": "74d57e1f",
   "metadata": {},
   "source": [
    "Variables merupakan suatu nama yang merujuk pada suatu data atau kumpulan data. \n",
    "Variabel dapat mewakili beragai type data.\n",
    "Variabel bisa berubah secara dinamis"
   ]
  },
  {
   "cell_type": "markdown",
   "id": "ad692d7e",
   "metadata": {},
   "source": [
    "# Data Structures"
   ]
  },
  {
   "cell_type": "markdown",
   "id": "5b1e88f0",
   "metadata": {},
   "source": [
    "## List"
   ]
  },
  {
   "cell_type": "code",
   "execution_count": 1,
   "id": "c69e4a40-80d3-4c47-a6f2-b5ffb17e5cd6",
   "metadata": {},
   "outputs": [
    {
     "data": {
      "text/plain": [
       "[1, 2, 3]"
      ]
     },
     "execution_count": 1,
     "metadata": {},
     "output_type": "execute_result"
    }
   ],
   "source": [
    "my_list = [1,2,3]\n",
    "my_list"
   ]
  },
  {
   "cell_type": "markdown",
   "id": "c3670eef-ec47-4864-b4ca-609762aad1bb",
   "metadata": {},
   "source": [
    "List hanya bisa ditambahkan dengan list tidak bisa dengan angka saja atau integer saja"
   ]
  },
  {
   "cell_type": "code",
   "execution_count": 2,
   "id": "deee19a5-bde1-4502-a3c4-d0eb0bbe78f8",
   "metadata": {},
   "outputs": [
    {
     "ename": "TypeError",
     "evalue": "can only concatenate list (not \"int\") to list",
     "output_type": "error",
     "traceback": [
      "\u001b[1;31m---------------------------------------------------------------------------\u001b[0m",
      "\u001b[1;31mTypeError\u001b[0m                                 Traceback (most recent call last)",
      "Cell \u001b[1;32mIn[2], line 1\u001b[0m\n\u001b[1;32m----> 1\u001b[0m \u001b[43mmy_list\u001b[49m\u001b[43m \u001b[49m\u001b[38;5;241;43m+\u001b[39;49m\u001b[43m \u001b[49m\u001b[38;5;241;43m4\u001b[39;49m\n",
      "\u001b[1;31mTypeError\u001b[0m: can only concatenate list (not \"int\") to list"
     ]
    }
   ],
   "source": [
    "my_list + 4"
   ]
  },
  {
   "cell_type": "code",
   "execution_count": 4,
   "id": "fa12957e-40b1-4eff-b400-f8c595d9dfc9",
   "metadata": {},
   "outputs": [
    {
     "data": {
      "text/plain": [
       "[1, 2, 3, 4.5]"
      ]
     },
     "execution_count": 4,
     "metadata": {},
     "output_type": "execute_result"
    }
   ],
   "source": [
    "my_list + [4.5]"
   ]
  },
  {
   "cell_type": "code",
   "execution_count": 5,
   "id": "e6e7b3e4-3206-4b09-a787-493cc2fa7ad2",
   "metadata": {},
   "outputs": [
    {
     "name": "stdout",
     "output_type": "stream",
     "text": [
      "[1, 2, 3, 1, 2, 3]\n"
     ]
    }
   ],
   "source": [
    "print(my_list * 2)"
   ]
  },
  {
   "cell_type": "code",
   "execution_count": 6,
   "id": "a90d1fce-49af-4bd7-959d-aa4b12b87322",
   "metadata": {},
   "outputs": [
    {
     "data": {
      "text/plain": [
       "[1, 2, 3, 4]"
      ]
     },
     "execution_count": 6,
     "metadata": {},
     "output_type": "execute_result"
    }
   ],
   "source": [
    "my_list.append(4)\n",
    "my_list"
   ]
  },
  {
   "cell_type": "code",
   "execution_count": 7,
   "id": "c7401ff7-745f-466a-bc65-01ff703df4f4",
   "metadata": {},
   "outputs": [
    {
     "ename": "TypeError",
     "evalue": "list.append() takes exactly one argument (2 given)",
     "output_type": "error",
     "traceback": [
      "\u001b[1;31m---------------------------------------------------------------------------\u001b[0m",
      "\u001b[1;31mTypeError\u001b[0m                                 Traceback (most recent call last)",
      "Cell \u001b[1;32mIn[7], line 1\u001b[0m\n\u001b[1;32m----> 1\u001b[0m \u001b[43mmy_list\u001b[49m\u001b[38;5;241;43m.\u001b[39;49m\u001b[43mappend\u001b[49m\u001b[43m(\u001b[49m\u001b[38;5;241;43m4\u001b[39;49m\u001b[43m,\u001b[49m\u001b[38;5;241;43m5\u001b[39;49m\u001b[43m)\u001b[49m\n",
      "\u001b[1;31mTypeError\u001b[0m: list.append() takes exactly one argument (2 given)"
     ]
    }
   ],
   "source": [
    "my_list.append(4,5)"
   ]
  },
  {
   "cell_type": "code",
   "execution_count": 17,
   "id": "13db41f1-f302-4515-b2ab-4a767580faca",
   "metadata": {},
   "outputs": [
    {
     "data": {
      "text/plain": [
       "[1, 2, 3, 4, [4, 5]]"
      ]
     },
     "execution_count": 17,
     "metadata": {},
     "output_type": "execute_result"
    }
   ],
   "source": [
    "my_list.append([4,5])\n",
    "my_list"
   ]
  },
  {
   "cell_type": "code",
   "execution_count": 12,
   "id": "25dbfd38-5af9-49ee-ad53-0c68658e0645",
   "metadata": {},
   "outputs": [
    {
     "data": {
      "text/plain": [
       "[1, 2, 3]"
      ]
     },
     "execution_count": 12,
     "metadata": {},
     "output_type": "execute_result"
    }
   ],
   "source": [
    "mylist = [1,2,3]\n",
    "mylist"
   ]
  },
  {
   "cell_type": "code",
   "execution_count": 13,
   "id": "b6b6d801-3feb-42b4-9620-cc4d533c54de",
   "metadata": {},
   "outputs": [
    {
     "data": {
      "text/plain": [
       "[1, 2, 3, 4, 5, 6]"
      ]
     },
     "execution_count": 13,
     "metadata": {},
     "output_type": "execute_result"
    }
   ],
   "source": [
    "mylist.extend([4,5,6])\n",
    "mylist"
   ]
  },
  {
   "cell_type": "code",
   "execution_count": 18,
   "id": "3be5d8ac-4857-4842-83bd-bcd44cb3b751",
   "metadata": {},
   "outputs": [
    {
     "data": {
      "text/plain": [
       "[1, 2, 3, 4]"
      ]
     },
     "execution_count": 18,
     "metadata": {},
     "output_type": "execute_result"
    }
   ],
   "source": [
    "my_list.remove([4,5])\n",
    "my_list"
   ]
  },
  {
   "cell_type": "code",
   "execution_count": 19,
   "id": "9ca80244-5bdc-494c-a689-06532c876835",
   "metadata": {},
   "outputs": [
    {
     "data": {
      "text/plain": [
       "[1, 2, 3, 5, 6]"
      ]
     },
     "execution_count": 19,
     "metadata": {},
     "output_type": "execute_result"
    }
   ],
   "source": [
    "mylist.remove(4)\n",
    "mylist"
   ]
  },
  {
   "cell_type": "markdown",
   "id": "09d07dc7",
   "metadata": {},
   "source": [
    "## Dictionaries"
   ]
  },
  {
   "cell_type": "markdown",
   "id": "c75d5684-18b0-4ae3-b56c-830aebb18b30",
   "metadata": {},
   "source": [
    "Lebih fleksibel karena menggunakan key dan value"
   ]
  },
  {
   "cell_type": "code",
   "execution_count": 25,
   "id": "da81ad26-353d-4871-baad-6632ca285f5c",
   "metadata": {},
   "outputs": [
    {
     "name": "stdout",
     "output_type": "stream",
     "text": [
      "{'name': 'Raka', 'age': 18} {'cto': {'name': 'raka', 'age': '18'}}\n"
     ]
    }
   ],
   "source": [
    "student = {'name': 'Raka', 'age' : 18}\n",
    "employee = {'cto': {'name':'raka','age':'18'}}\n",
    "print(student , employee)"
   ]
  },
  {
   "cell_type": "code",
   "execution_count": 26,
   "id": "23101cee-99e4-48da-8ee2-30728b872de5",
   "metadata": {},
   "outputs": [
    {
     "data": {
      "text/plain": [
       "{'name': 'Billy', 'age': 38}"
      ]
     },
     "execution_count": 26,
     "metadata": {},
     "output_type": "execute_result"
    }
   ],
   "source": [
    "student=dict(name='Billy',age=38)\n",
    "student"
   ]
  },
  {
   "cell_type": "code",
   "execution_count": 27,
   "id": "c7f47d93-9d7d-4462-a130-20254d4c66f1",
   "metadata": {},
   "outputs": [
    {
     "name": "stdout",
     "output_type": "stream",
     "text": [
      "Billy\n"
     ]
    }
   ],
   "source": [
    "print(student['name'])"
   ]
  },
  {
   "cell_type": "code",
   "execution_count": 28,
   "id": "4cefcee8-f69e-4809-8384-47421f5bbaaf",
   "metadata": {},
   "outputs": [
    {
     "name": "stdout",
     "output_type": "stream",
     "text": [
      "38\n"
     ]
    }
   ],
   "source": [
    "print(student['age'])"
   ]
  },
  {
   "cell_type": "code",
   "execution_count": 30,
   "id": "49a050d2-d2dc-46b6-8eb1-1c6280df8d9f",
   "metadata": {},
   "outputs": [
    {
     "name": "stdout",
     "output_type": "stream",
     "text": [
      "{'name': 'Billy', 'age': 38}\n"
     ]
    }
   ],
   "source": [
    "print(student)"
   ]
  },
  {
   "cell_type": "code",
   "execution_count": 31,
   "id": "f344c58c-6ddc-4472-afd4-21fc514272d2",
   "metadata": {},
   "outputs": [
    {
     "data": {
      "text/plain": [
       "{'name': 'Billy'}"
      ]
     },
     "execution_count": 31,
     "metadata": {},
     "output_type": "execute_result"
    }
   ],
   "source": [
    "del student['age']\n",
    "student"
   ]
  },
  {
   "cell_type": "code",
   "execution_count": 32,
   "id": "63dcc7ea-c962-45a7-a448-c3522c292d9c",
   "metadata": {},
   "outputs": [
    {
     "data": {
      "text/plain": [
       "dict_keys(['name', 'age'])"
      ]
     },
     "execution_count": 32,
     "metadata": {},
     "output_type": "execute_result"
    }
   ],
   "source": [
    "student = {'name':'Raka','age':17}\n",
    "student.keys()"
   ]
  },
  {
   "cell_type": "code",
   "execution_count": 33,
   "id": "22670680-5c23-45b6-8dcf-daba0ede7169",
   "metadata": {},
   "outputs": [
    {
     "data": {
      "text/plain": [
       "dict_values(['Raka', 17])"
      ]
     },
     "execution_count": 33,
     "metadata": {},
     "output_type": "execute_result"
    }
   ],
   "source": [
    "student.values()"
   ]
  },
  {
   "cell_type": "markdown",
   "id": "0d2c8d4b-559c-4b49-af45-efb19e39212e",
   "metadata": {},
   "source": [
    "Dictionary tidak bersifat berurutan, tipe data bisa menggunakan type data lain"
   ]
  },
  {
   "cell_type": "markdown",
   "id": "811264ce",
   "metadata": {},
   "source": [
    "## Tuples"
   ]
  },
  {
   "cell_type": "markdown",
   "id": "ffb3f7c8-0a28-49aa-af26-3ebd2d71ff03",
   "metadata": {},
   "source": [
    "tuples menggunakan tanda kurung () diawal dan diakhir, mengaksesnya menggunakan index, dan datanya tidak bisa diubah-ubah (imuteable)"
   ]
  },
  {
   "cell_type": "code",
   "execution_count": 35,
   "id": "194cbc34-ae53-42df-af70-d6f4c971dec4",
   "metadata": {},
   "outputs": [
    {
     "data": {
      "text/plain": [
       "('Raka', ('kode', 'random'))"
      ]
     },
     "execution_count": 35,
     "metadata": {},
     "output_type": "execute_result"
    }
   ],
   "source": [
    "people = ('Raka',('kode','random'))\n",
    "people"
   ]
  },
  {
   "cell_type": "code",
   "execution_count": 39,
   "id": "2f0491e7-c2ea-4819-828a-1700c6ab7ac4",
   "metadata": {},
   "outputs": [
    {
     "name": "stdout",
     "output_type": "stream",
     "text": [
      "('kode', 'random')\n",
      "Raka\n",
      "kode\n",
      "random\n"
     ]
    }
   ],
   "source": [
    "print(people[1])\n",
    "print(people[0])\n",
    "print(people[1][0])\n",
    "print(people[1][1])"
   ]
  },
  {
   "cell_type": "code",
   "execution_count": 41,
   "id": "e6266880-ee1f-460f-a14c-1663189cc629",
   "metadata": {},
   "outputs": [
    {
     "name": "stdout",
     "output_type": "stream",
     "text": [
      "(1, 2, 3, 4) (1, (2, 3))\n"
     ]
    }
   ],
   "source": [
    "numbers = (1,2,3,4)\n",
    "new_numbers = numbers[0],numbers[1:3]\n",
    "print(numbers, new_numbers)"
   ]
  },
  {
   "cell_type": "markdown",
   "id": "c49745b2-d656-4123-8a08-5dd7ad35abd2",
   "metadata": {},
   "source": [
    "jika melakukan operasi pada tuples maka akan membuat tuples baru tidak mempengaruhi tuples sebelumnya"
   ]
  },
  {
   "cell_type": "code",
   "execution_count": 42,
   "id": "8019113f-8da2-4b8f-b6e1-7e1a2e3832cf",
   "metadata": {},
   "outputs": [
    {
     "data": {
      "text/plain": [
       "['bcc', 'body', 'cc', 'from', 'subject', 'to']"
      ]
     },
     "execution_count": 42,
     "metadata": {},
     "output_type": "execute_result"
    }
   ],
   "source": [
    "email_attr = ('to','from','cc','bcc','subject','body')\n",
    "email_attr_list = list(email_attr)\n",
    "email_attr_list.sort()\n",
    "email_attr_list"
   ]
  },
  {
   "cell_type": "markdown",
   "id": "612f9ef7",
   "metadata": {},
   "source": [
    "## Files"
   ]
  },
  {
   "cell_type": "markdown",
   "id": "f7864a2a-b99a-46ea-8708-43eec9e8b011",
   "metadata": {},
   "source": [
    "Python bisa membuka file dengan beberapa mode read, write, append, binary, dan +."
   ]
  },
  {
   "cell_type": "code",
   "execution_count": 43,
   "id": "5257c72f",
   "metadata": {},
   "outputs": [],
   "source": [
    "myfile = open('text.txt','w')"
   ]
  },
  {
   "cell_type": "code",
   "execution_count": 44,
   "id": "e406eaba-a30a-4332-9e4e-1cfba6556423",
   "metadata": {},
   "outputs": [
    {
     "data": {
      "text/plain": [
       "14"
      ]
     },
     "execution_count": 44,
     "metadata": {},
     "output_type": "execute_result"
    }
   ],
   "source": [
    "myfile.write('Hello World !\\n')"
   ]
  },
  {
   "cell_type": "code",
   "execution_count": 45,
   "id": "1b5f84ae-0b0f-4f8c-8020-45ea1c87961b",
   "metadata": {},
   "outputs": [
    {
     "data": {
      "text/plain": [
       "27"
      ]
     },
     "execution_count": 45,
     "metadata": {},
     "output_type": "execute_result"
    }
   ],
   "source": [
    "myfile.write('Selamat Tinggal text file!\\n')"
   ]
  },
  {
   "cell_type": "markdown",
   "id": "a7666eb7-0d71-4bd4-bf82-d500c416b864",
   "metadata": {},
   "source": [
    "baru dibuffer dimemori dan belum disimpan dalam file sehingga harus diclose"
   ]
  },
  {
   "cell_type": "code",
   "execution_count": 46,
   "id": "551dc150-50a9-4f3d-95f4-1e8c6efac431",
   "metadata": {},
   "outputs": [],
   "source": [
    "myfile.close()"
   ]
  },
  {
   "cell_type": "code",
   "execution_count": 48,
   "id": "7b774f78-c7ff-48e2-88c2-d03e29eaded3",
   "metadata": {},
   "outputs": [],
   "source": [
    "myfile = open('text.txt')"
   ]
  },
  {
   "cell_type": "code",
   "execution_count": 49,
   "id": "6c3028ba-61b5-4c67-b442-57c5e6467c65",
   "metadata": {},
   "outputs": [
    {
     "data": {
      "text/plain": [
       "'Hello World !\\n'"
      ]
     },
     "execution_count": 49,
     "metadata": {},
     "output_type": "execute_result"
    }
   ],
   "source": [
    "myfile.readline()"
   ]
  },
  {
   "cell_type": "code",
   "execution_count": 50,
   "id": "9875f280-5cb4-402e-aae1-b2163a3adf71",
   "metadata": {},
   "outputs": [
    {
     "data": {
      "text/plain": [
       "'Selamat Tinggal text file!\\n'"
      ]
     },
     "execution_count": 50,
     "metadata": {},
     "output_type": "execute_result"
    }
   ],
   "source": [
    "myfile.readline()"
   ]
  },
  {
   "cell_type": "code",
   "execution_count": 52,
   "id": "61686d2a-1f3d-4bb4-8d78-33a58f1fbbaa",
   "metadata": {},
   "outputs": [
    {
     "data": {
      "text/plain": [
       "'Hello World !\\nSelamat Tinggal text file!\\n'"
      ]
     },
     "execution_count": 52,
     "metadata": {},
     "output_type": "execute_result"
    }
   ],
   "source": [
    "open('text.txt').read()"
   ]
  },
  {
   "cell_type": "code",
   "execution_count": 53,
   "id": "13e86d07-8253-4337-9359-c76c271526f7",
   "metadata": {},
   "outputs": [
    {
     "name": "stdout",
     "output_type": "stream",
     "text": [
      "Hello World !\n",
      "Selamat Tinggal text file!\n",
      "\n"
     ]
    }
   ],
   "source": [
    "print(open('text.txt').read())"
   ]
  },
  {
   "cell_type": "markdown",
   "id": "a1f0000d-d9be-4f16-8247-8e7e216ae472",
   "metadata": {},
   "source": [
    "Files hanya bisa menerima type data dalam string, sehingga seluruh data harus diubah menjadi string"
   ]
  },
  {
   "cell_type": "code",
   "execution_count": 55,
   "id": "5a2c2022-62de-4642-895c-c0d5f70aaf4a",
   "metadata": {},
   "outputs": [],
   "source": [
    "x,y,z = 43,44,45\n",
    "massage = 'Spam'\n",
    "data = {'a':1,'b':2}\n",
    "list = [1,2,3]"
   ]
  },
  {
   "cell_type": "code",
   "execution_count": 56,
   "id": "66f31451-a15c-4a2d-b169-96a41311b4e7",
   "metadata": {},
   "outputs": [],
   "source": [
    "file = open('text.txt', 'w')"
   ]
  },
  {
   "cell_type": "code",
   "execution_count": 57,
   "id": "f7244938-78df-4193-a46a-50a2cef3e03b",
   "metadata": {},
   "outputs": [
    {
     "data": {
      "text/plain": [
       "5"
      ]
     },
     "execution_count": 57,
     "metadata": {},
     "output_type": "execute_result"
    }
   ],
   "source": [
    "file.write(massage + '\\n')"
   ]
  },
  {
   "cell_type": "code",
   "execution_count": 58,
   "id": "01fae9d7-4ba8-408c-ae9d-74134dee33cc",
   "metadata": {},
   "outputs": [
    {
     "data": {
      "text/plain": [
       "11"
      ]
     },
     "execution_count": 58,
     "metadata": {},
     "output_type": "execute_result"
    }
   ],
   "source": [
    "file.write('%s, %s, %s\\n' %(x,y,z))"
   ]
  },
  {
   "cell_type": "code",
   "execution_count": 59,
   "id": "ac77d476-3fcc-4171-bca8-b6096570a3b5",
   "metadata": {},
   "outputs": [
    {
     "data": {
      "text/plain": [
       "27"
      ]
     },
     "execution_count": 59,
     "metadata": {},
     "output_type": "execute_result"
    }
   ],
   "source": [
    "file.write(str(list)+ '$' + str(data) + '\\n')"
   ]
  },
  {
   "cell_type": "code",
   "execution_count": 60,
   "id": "008fe5dd-3b1e-422c-af30-52f6a687c854",
   "metadata": {},
   "outputs": [],
   "source": [
    "file.close()"
   ]
  },
  {
   "cell_type": "code",
   "execution_count": 61,
   "id": "a29f1650-d5cb-41cc-82dd-23902f5debc0",
   "metadata": {},
   "outputs": [
    {
     "name": "stdout",
     "output_type": "stream",
     "text": [
      "Spam\n",
      "43, 44, 45\n",
      "[1, 2, 3]${'a': 1, 'b': 2}\n",
      "\n"
     ]
    }
   ],
   "source": [
    "print(open('text.txt').read())"
   ]
  },
  {
   "cell_type": "markdown",
   "id": "a576c4dc",
   "metadata": {},
   "source": [
    "# Loop & Iterators"
   ]
  },
  {
   "cell_type": "markdown",
   "id": "f14d81ed",
   "metadata": {},
   "source": [
    "## While Loops"
   ]
  },
  {
   "cell_type": "markdown",
   "id": "78f17a2a-ea90-4956-af56-93f239720a91",
   "metadata": {},
   "source": [
    "iterasi yang paling umum, terus melakukan pengulangan selama kondisi pertama terpenuhi"
   ]
  },
  {
   "cell_type": "raw",
   "id": "7def31db-d76c-4051-ac13-91abf7962049",
   "metadata": {},
   "source": [
    "while test:\n",
    "    statements"
   ]
  },
  {
   "cell_type": "raw",
   "id": "e839eed3-0557-4308-9104-384e3aef1f23",
   "metadata": {},
   "source": [
    "while True:\n",
    "    print('Print Ctr-C to stop me!')r\n",
    "    \n",
    "suatu loop yang tidak akan berhenti"
   ]
  },
  {
   "cell_type": "code",
   "execution_count": 63,
   "id": "f119f35a-61ac-4386-b1c7-c65fc3f872c7",
   "metadata": {},
   "outputs": [
    {
     "name": "stdout",
     "output_type": "stream",
     "text": [
      "spam pam am m "
     ]
    }
   ],
   "source": [
    "message = \"spam\"\n",
    "while message != '':\n",
    "    print(message, end=' ')\n",
    "    message = message[1:]"
   ]
  },
  {
   "cell_type": "code",
   "execution_count": 64,
   "id": "f32dddc5-a852-4b56-a39c-7b5c245af9b0",
   "metadata": {},
   "outputs": [
    {
     "name": "stdout",
     "output_type": "stream",
     "text": [
      "spam pam am m "
     ]
    }
   ],
   "source": [
    "message = \"spam\"\n",
    "while message:\n",
    "    print(message, end=' ')\n",
    "    message = message[1:]"
   ]
  },
  {
   "cell_type": "code",
   "execution_count": 65,
   "id": "7d6841e1-c051-41bc-9f42-05d925f95c42",
   "metadata": {},
   "outputs": [
    {
     "name": "stdout",
     "output_type": "stream",
     "text": [
      "0 1 2 3 4 5 6 7 8 9 10 11 12 "
     ]
    }
   ],
   "source": [
    "a = 0\n",
    "b = 13\n",
    "while a<b:\n",
    "    print(a, end=' ')\n",
    "    a=a+1"
   ]
  },
  {
   "cell_type": "raw",
   "id": "cd6ee87c-d268-4f78-81a9-7800c555adc8",
   "metadata": {},
   "source": [
    "break keluar dari loop\n",
    "continue kembali ke blok teratas dan mengulang loop\n",
    "pass akan melewati satu loop \n",
    "else kondisi jika tidak sesuai dengan statement loop"
   ]
  },
  {
   "cell_type": "raw",
   "id": "bf88b4c7-6d06-4cd5-9c34-a2ca5a41969e",
   "metadata": {},
   "source": [
    "while test:\n",
    "    statements\n",
    "    if test: break\n",
    "    if test: continue\n",
    "else:\n",
    "    statemtns"
   ]
  },
  {
   "cell_type": "code",
   "execution_count": 67,
   "id": "baf44433-0f33-448c-9daa-d15314fd4ba8",
   "metadata": {},
   "outputs": [
    {
     "name": "stdin",
     "output_type": "stream",
     "text": [
      "Enter name:  ha\n",
      "Enter age:  2\n"
     ]
    },
    {
     "name": "stdout",
     "output_type": "stream",
     "text": [
      "Hello ha => 4\n"
     ]
    },
    {
     "name": "stdin",
     "output_type": "stream",
     "text": [
      "Enter name:  hi\n",
      "Enter age:  3\n"
     ]
    },
    {
     "name": "stdout",
     "output_type": "stream",
     "text": [
      "Hello hi => 9\n"
     ]
    },
    {
     "name": "stdin",
     "output_type": "stream",
     "text": [
      "Enter name:  hu\n",
      "Enter age:  4\n"
     ]
    },
    {
     "name": "stdout",
     "output_type": "stream",
     "text": [
      "Hello hu => 16\n"
     ]
    },
    {
     "name": "stdin",
     "output_type": "stream",
     "text": [
      "Enter name:  stop\n"
     ]
    }
   ],
   "source": [
    "while True: \n",
    "    name = input('Enter name: ')\n",
    "    if name == 'stop':break\n",
    "    age = input('Enter age: ')\n",
    "    print('Hello', name, '=>',int(age)**2)"
   ]
  },
  {
   "cell_type": "markdown",
   "id": "e1d18574",
   "metadata": {},
   "source": [
    "## For Loops"
   ]
  },
  {
   "cell_type": "markdown",
   "id": "750a13ba-6475-4dad-ac0e-55ef6e795a47",
   "metadata": {},
   "source": [
    "For diawali dengan target dari suatu objek atau variabel "
   ]
  },
  {
   "cell_type": "raw",
   "id": "dffe8951-4a34-4c1d-b4c5-f00fec0fe000",
   "metadata": {},
   "source": [
    "for target in object:\n",
    "    statement"
   ]
  },
  {
   "cell_type": "code",
   "execution_count": 68,
   "id": "efe4a1c5-7278-4f77-800d-694d13c00a7d",
   "metadata": {},
   "outputs": [
    {
     "name": "stdout",
     "output_type": "stream",
     "text": [
      "raka\n",
      "billy\n",
      "kode\n"
     ]
    }
   ],
   "source": [
    "for word in ['raka','billy','kode']:\n",
    "    print(word, end='\\n')"
   ]
  },
  {
   "cell_type": "code",
   "execution_count": 69,
   "id": "0155d3d8-1a71-4d3b-bc9b-39ac9bb8f790",
   "metadata": {},
   "outputs": [
    {
     "data": {
      "text/plain": [
       "10"
      ]
     },
     "execution_count": 69,
     "metadata": {},
     "output_type": "execute_result"
    }
   ],
   "source": [
    "sum = 0\n",
    "for i in [1,2,3,4]:\n",
    "    sum=sum+i\n",
    "sum"
   ]
  },
  {
   "cell_type": "code",
   "execution_count": 71,
   "id": "bf9b5906-ce69-43f0-ae74-97be98056eb1",
   "metadata": {},
   "outputs": [
    {
     "data": {
      "text/plain": [
       "24"
      ]
     },
     "execution_count": 71,
     "metadata": {},
     "output_type": "execute_result"
    }
   ],
   "source": [
    "prod = 1\n",
    "for item in [1,2,3,4]: prod *= item\n",
    "prod"
   ]
  },
  {
   "cell_type": "code",
   "execution_count": 72,
   "id": "c7842930-6885-42db-805a-05ef33df839b",
   "metadata": {},
   "outputs": [
    {
     "name": "stdout",
     "output_type": "stream",
     "text": [
      "f o x y   f o x "
     ]
    }
   ],
   "source": [
    "text = 'foxy fox'\n",
    "words = ('is','great','animal')\n",
    "for chara in text: print(chara, end=' ')"
   ]
  },
  {
   "cell_type": "code",
   "execution_count": 73,
   "id": "517b5703-9694-4edf-8f5c-fad3ce4dd325",
   "metadata": {},
   "outputs": [
    {
     "name": "stdout",
     "output_type": "stream",
     "text": [
      "is...great...animal..."
     ]
    }
   ],
   "source": [
    "for word in words: print(word, end='...')"
   ]
  },
  {
   "cell_type": "markdown",
   "id": "10595024-b386-4769-a5df-1486efd806e5",
   "metadata": {},
   "source": [
    "For looping bisa digunakan untuk berbagai type data"
   ]
  },
  {
   "cell_type": "code",
   "execution_count": 74,
   "id": "ba13ea5f-0c32-4c5b-a444-a7dfa12ef0f8",
   "metadata": {},
   "outputs": [
    {
     "name": "stdout",
     "output_type": "stream",
     "text": [
      "1 2\n",
      "3 4\n",
      "5 6\n"
     ]
    }
   ],
   "source": [
    "accor = [(1,2),(3,4),(5,6)]\n",
    "for(x,y)in accor: print(x,y)"
   ]
  },
  {
   "cell_type": "markdown",
   "id": "810477ab",
   "metadata": {},
   "source": [
    "# Branching in Python"
   ]
  },
  {
   "cell_type": "markdown",
   "id": "63839d4a",
   "metadata": {},
   "source": [
    "# If Statement"
   ]
  },
  {
   "cell_type": "markdown",
   "id": "0022e2cd-36dc-475e-8245-36fb2884e035",
   "metadata": {},
   "source": [
    "if erat dengan type data bolean yaitu true dan false`r "
   ]
  },
  {
   "cell_type": "raw",
   "id": "95d15acc-1d56-4aba-be16-1c3d77a3265d",
   "metadata": {},
   "source": [
    "if kondisi1:\n",
    "    kode1\n",
    "elif kondisi2:\n",
    "    kode2\n",
    "else: (kondisi diluar if dan else if)\n",
    "    kode3"
   ]
  },
  {
   "cell_type": "code",
   "execution_count": 77,
   "id": "75b0b086-6216-4f71-99a9-61777957c241",
   "metadata": {},
   "outputs": [
    {
     "name": "stdout",
     "output_type": "stream",
     "text": [
      "true\n"
     ]
    }
   ],
   "source": [
    "if 1: #(angka 1 artinya bolean = true)\n",
    "    print('true')"
   ]
  },
  {
   "cell_type": "code",
   "execution_count": 78,
   "id": "7f7e83b5-3f6a-4963-805f-a6aa70143522",
   "metadata": {},
   "outputs": [
    {
     "name": "stdout",
     "output_type": "stream",
     "text": [
      "false\n"
     ]
    }
   ],
   "source": [
    "if not 1:\n",
    "    print('true')\n",
    "else: \n",
    "    print('false')"
   ]
  },
  {
   "cell_type": "code",
   "execution_count": 92,
   "id": "baea1078-174c-434f-a32a-cd41b5c7603e",
   "metadata": {},
   "outputs": [
    {
     "name": "stdin",
     "output_type": "stream",
     "text": [
      "Enter age:  5\n"
     ]
    },
    {
     "name": "stdout",
     "output_type": "stream",
     "text": [
      "Time to get started!\n"
     ]
    }
   ],
   "source": [
    "age = input('Enter age: ')\n",
    "if int(age)*300>20000:\n",
    "    print('Time to retire!')\n",
    "elif int(age)*365>10000:\n",
    "    print('Lots of time left!')\n",
    "else:\n",
    "    print('Time to get started!')"
   ]
  },
  {
   "cell_type": "raw",
   "id": "b28cd733-8759-4bb8-a44e-bd50b55f6b67",
   "metadata": {},
   "source": [
    "operator logika and, or, not\n",
    "selain operator =,>,<,<=,>=,=="
   ]
  },
  {
   "cell_type": "code",
   "execution_count": 95,
   "id": "8dc9ba28-9b79-47da-a53f-8fe490ef8dba",
   "metadata": {},
   "outputs": [
    {
     "name": "stdin",
     "output_type": "stream",
     "text": [
      "Enter your age:  50\n"
     ]
    },
    {
     "name": "stdout",
     "output_type": "stream",
     "text": [
      "You are a Jedi Master now. Go learn from master yoda!!!\n"
     ]
    }
   ],
   "source": [
    "user_age = input('Enter your age: ')\n",
    "age=int(user_age)*365\n",
    "\n",
    "if age>= 9490:\n",
    "    print('You are a Jedi Master now. Go learn from master yoda!!!')\n",
    "elif age>= 8395 and age<9490:\n",
    "    print('Become Jedi Knight')\n",
    "else:\n",
    "    print('You are a young Pandawas')"
   ]
  },
  {
   "cell_type": "markdown",
   "id": "c6c5811c",
   "metadata": {},
   "source": [
    "# Functions & Packages"
   ]
  },
  {
   "cell_type": "markdown",
   "id": "36272cd5",
   "metadata": {},
   "source": [
    "## Functions"
   ]
  },
  {
   "cell_type": "markdown",
   "id": "6a178bb1-87ea-4a53-be27-6bd01552e2df",
   "metadata": {},
   "source": [
    "sekumpuluan perintah yang bisa digunakan berulang-ulang\n",
    "\n",
    "runtutan perintah yang bisa digunakan untuk mengerjakan suatu kode pemrograman dengan hanya memanggil function tersebut"
   ]
  },
  {
   "cell_type": "raw",
   "id": "13212e93-45e5-489a-9840-8d0e6c42d3cd",
   "metadata": {},
   "source": [
    "def funcname(self, parameter_list):blok kode\n",
    "def funcname(self, parameter_list):\n",
    "    pass"
   ]
  },
  {
   "cell_type": "code",
   "execution_count": 96,
   "id": "911fc088-fd66-46f8-a1b1-a6f693995698",
   "metadata": {},
   "outputs": [],
   "source": [
    "def add(a,b):\n",
    "    return a+b"
   ]
  },
  {
   "cell_type": "code",
   "execution_count": 97,
   "id": "43ac2aa2-970b-4bde-9c20-bbadd7d87419",
   "metadata": {},
   "outputs": [
    {
     "data": {
      "text/plain": [
       "9"
      ]
     },
     "execution_count": 97,
     "metadata": {},
     "output_type": "execute_result"
    }
   ],
   "source": [
    "add(5,4)"
   ]
  },
  {
   "cell_type": "code",
   "execution_count": 98,
   "id": "1e77b950-b21f-40e0-952b-8297be8c26a5",
   "metadata": {},
   "outputs": [],
   "source": [
    "add_things = add(10,4)"
   ]
  },
  {
   "cell_type": "code",
   "execution_count": 100,
   "id": "43566070-9549-4e0b-9982-0c8208011824",
   "metadata": {},
   "outputs": [
    {
     "data": {
      "text/plain": [
       "14"
      ]
     },
     "execution_count": 100,
     "metadata": {},
     "output_type": "execute_result"
    }
   ],
   "source": [
    "add_things"
   ]
  },
  {
   "cell_type": "code",
   "execution_count": 101,
   "id": "aaa1a6b1-aa61-4e2b-82bc-2ca8ea9443f7",
   "metadata": {},
   "outputs": [],
   "source": [
    "def add_and_print(a,b):\n",
    "    print(a+b)"
   ]
  },
  {
   "cell_type": "code",
   "execution_count": 102,
   "id": "bec75949-3398-4f89-b0c9-4be6be3fdf1f",
   "metadata": {},
   "outputs": [
    {
     "name": "stdout",
     "output_type": "stream",
     "text": [
      "4\n"
     ]
    }
   ],
   "source": [
    "add_and_print(1,3)"
   ]
  },
  {
   "cell_type": "code",
   "execution_count": 103,
   "id": "0b7ca89d-ae0f-45ef-bd57-859947207777",
   "metadata": {},
   "outputs": [
    {
     "name": "stdout",
     "output_type": "stream",
     "text": [
      "8\n"
     ]
    }
   ],
   "source": [
    "x = add_and_print(5,3)"
   ]
  },
  {
   "cell_type": "code",
   "execution_count": 104,
   "id": "a361403b-de7f-4496-9593-0be2abbfa04f",
   "metadata": {},
   "outputs": [
    {
     "name": "stdout",
     "output_type": "stream",
     "text": [
      "None\n"
     ]
    }
   ],
   "source": [
    "print(x)"
   ]
  },
  {
   "cell_type": "code",
   "execution_count": 105,
   "id": "314d21c6-6a72-437d-a783-380db0dd931b",
   "metadata": {},
   "outputs": [],
   "source": [
    "def intersection(first_word, second_word):\n",
    "    result = []\n",
    "    for x in first_word:\n",
    "        if x in second_word:\n",
    "            result.append(x)\n",
    "    return result"
   ]
  },
  {
   "cell_type": "code",
   "execution_count": 106,
   "id": "a2afcedd-7b73-4f61-8d6e-e9e4728342ab",
   "metadata": {},
   "outputs": [
    {
     "name": "stdout",
     "output_type": "stream",
     "text": [
      "['s', 'a', 'm']\n"
     ]
    }
   ],
   "source": [
    "word1 = 'spam'\n",
    "word2 = 'scam'\n",
    "char_of_intersect = intersection(word1 ,word2)\n",
    "print(char_of_intersect)"
   ]
  },
  {
   "cell_type": "markdown",
   "id": "5566fe9e-d380-4d35-bb0a-8af5f2c2681b",
   "metadata": {},
   "source": [
    "jika ada return maka function akan mengembalikan nilai tersebut"
   ]
  },
  {
   "cell_type": "markdown",
   "id": "88142a5b",
   "metadata": {},
   "source": [
    "## Modules & Built-in Function"
   ]
  },
  {
   "cell_type": "markdown",
   "id": "9476399d-b7a3-48de-a44d-80a92b9e4e79",
   "metadata": {},
   "source": [
    "built in Function adalah function yang dibuat oleh para kontributor python yang bisa kita gunakan"
   ]
  },
  {
   "cell_type": "code",
   "execution_count": 107,
   "id": "9b2f7302-172e-4994-a5e3-0fd86d52a91c",
   "metadata": {},
   "outputs": [
    {
     "name": "stdout",
     "output_type": "stream",
     "text": [
      "123\n"
     ]
    }
   ],
   "source": [
    "print(abs(-123))"
   ]
  },
  {
   "cell_type": "code",
   "execution_count": 121,
   "id": "0d0455bc-743a-44f0-aa6f-0638b7b8caa7",
   "metadata": {},
   "outputs": [
    {
     "name": "stdout",
     "output_type": "stream",
     "text": [
      "False\n"
     ]
    }
   ],
   "source": [
    "numbers = [1,2,3]\n",
    "print(isinstance(numbers, tuple))"
   ]
  },
  {
   "cell_type": "code",
   "execution_count": 123,
   "id": "b5f474cd-a54f-484f-9851-94b024015ebf",
   "metadata": {},
   "outputs": [
    {
     "name": "stdout",
     "output_type": "stream",
     "text": [
      "False\n"
     ]
    }
   ],
   "source": [
    "print(isinstance(numbers, dict))"
   ]
  },
  {
   "cell_type": "raw",
   "id": "44c6d97a-b69d-49bb-90c0-197c2e73b66c",
   "metadata": {},
   "source": [
    "max (untuk mencari nilai terbesar dari data)\n",
    "min (untuk mencari nilai terkecil dari data)"
   ]
  },
  {
   "cell_type": "code",
   "execution_count": 125,
   "id": "7a29a92c-cbd8-4f4a-a904-17c4e0f57568",
   "metadata": {},
   "outputs": [
    {
     "name": "stdout",
     "output_type": "stream",
     "text": [
      "7\n",
      "1\n"
     ]
    }
   ],
   "source": [
    "numbers = [1,2,3,4,5,6,7]\n",
    "print(max(numbers))\n",
    "print(min(numbers))"
   ]
  },
  {
   "cell_type": "code",
   "execution_count": 127,
   "id": "8b375552-e165-48c1-adc5-a535e52c0acc",
   "metadata": {},
   "outputs": [
    {
     "name": "stdout",
     "output_type": "stream",
     "text": [
      "z\n",
      "a\n"
     ]
    }
   ],
   "source": [
    "alphas=['a','b','z']\n",
    "print(max(alphas))\n",
    "print(min(alphas))"
   ]
  },
  {
   "cell_type": "raw",
   "id": "aee87f9b-6499-4f70-8eeb-885e810da10c",
   "metadata": {},
   "source": [
    "Build in method untuk list"
   ]
  },
  {
   "cell_type": "code",
   "execution_count": 129,
   "id": "3649e2f8-7b55-46e1-8ae4-66fe289e37e5",
   "metadata": {},
   "outputs": [
    {
     "name": "stdout",
     "output_type": "stream",
     "text": [
      "2\n"
     ]
    }
   ],
   "source": [
    "languages = ['py','js','go','c']\n",
    "print(languages.index('go'))"
   ]
  },
  {
   "cell_type": "code",
   "execution_count": 130,
   "id": "9c85b2ff-baeb-49db-8177-70744eee6bbf",
   "metadata": {},
   "outputs": [
    {
     "data": {
      "text/plain": [
       "['c', 'go', 'js', 'py']"
      ]
     },
     "execution_count": 130,
     "metadata": {},
     "output_type": "execute_result"
    }
   ],
   "source": [
    "languages.sort()\n",
    "languages"
   ]
  },
  {
   "cell_type": "code",
   "execution_count": 131,
   "id": "94bc5b04-3fa0-468f-8be1-07e35f275f39",
   "metadata": {},
   "outputs": [
    {
     "data": {
      "text/plain": [
       "'riki'"
      ]
     },
     "execution_count": 131,
     "metadata": {},
     "output_type": "execute_result"
    }
   ],
   "source": [
    "name = 'raka'\n",
    "name.replace('a','i')"
   ]
  },
  {
   "cell_type": "code",
   "execution_count": 132,
   "id": "037a0afc-6338-493b-9590-15905568a8a9",
   "metadata": {},
   "outputs": [
    {
     "data": {
      "text/plain": [
       "'Raka'"
      ]
     },
     "execution_count": 132,
     "metadata": {},
     "output_type": "execute_result"
    }
   ],
   "source": [
    "name.capitalize()"
   ]
  },
  {
   "cell_type": "code",
   "execution_count": 133,
   "id": "9167060c-3561-4704-ad99-49ac525d2011",
   "metadata": {},
   "outputs": [
    {
     "data": {
      "text/plain": [
       "'RAKA'"
      ]
     },
     "execution_count": 133,
     "metadata": {},
     "output_type": "execute_result"
    }
   ],
   "source": [
    "name.upper()"
   ]
  },
  {
   "cell_type": "code",
   "execution_count": 136,
   "id": "199d4ed7-7680-42fe-a5a3-c48138c08c8b",
   "metadata": {},
   "outputs": [
    {
     "data": {
      "text/plain": [
       "'raka'"
      ]
     },
     "execution_count": 136,
     "metadata": {},
     "output_type": "execute_result"
    }
   ],
   "source": [
    "name.lower()"
   ]
  },
  {
   "cell_type": "raw",
   "id": "bb1ac353-6031-4fe2-a6c5-4e44f5f9a566",
   "metadata": {},
   "source": [
    "import (untuk mengimpor semua module)\n",
    "from (untuk mengimport beberapa bagian saja dalam module)"
   ]
  },
  {
   "cell_type": "markdown",
   "id": "867b9826",
   "metadata": {},
   "source": [
    "## Packages"
   ]
  },
  {
   "cell_type": "markdown",
   "id": "be3a2f48-a848-4b62-bebb-cf718ab10345",
   "metadata": {},
   "source": [
    "Thirth party library atau contributor eksternal yang membuat packages"
   ]
  },
  {
   "cell_type": "code",
   "execution_count": 138,
   "id": "feecfd18-697e-4cf8-a280-7d2e51e7ef34",
   "metadata": {},
   "outputs": [
    {
     "name": "stdout",
     "output_type": "stream",
     "text": [
      "pip 22.3.1 from E:\\Anaconda3\\lib\\site-packages\\pip (python 3.10)\n",
      "\n"
     ]
    }
   ],
   "source": [
    "!pip3 -V"
   ]
  },
  {
   "cell_type": "code",
   "execution_count": 148,
   "id": "7759af3e-b83d-433f-b6a1-3020d530935f",
   "metadata": {},
   "outputs": [
    {
     "name": "stdout",
     "output_type": "stream",
     "text": [
      "Requirement already satisfied: requests in e:\\anaconda3\\lib\\site-packages (2.28.1)\n",
      "Requirement already satisfied: urllib3<1.27,>=1.21.1 in e:\\anaconda3\\lib\\site-packages (from requests) (1.26.14)\n",
      "Requirement already satisfied: charset-normalizer<3,>=2 in e:\\anaconda3\\lib\\site-packages (from requests) (2.0.4)\n",
      "Requirement already satisfied: certifi>=2017.4.17 in e:\\anaconda3\\lib\\site-packages (from requests) (2022.12.7)\n",
      "Requirement already satisfied: idna<4,>=2.5 in e:\\anaconda3\\lib\\site-packages (from requests) (3.4)\n"
     ]
    }
   ],
   "source": [
    "!pip3 install requests"
   ]
  },
  {
   "cell_type": "code",
   "execution_count": 140,
   "id": "758cd492-3aa3-47be-9778-a9255249df19",
   "metadata": {},
   "outputs": [],
   "source": [
    "import requests "
   ]
  },
  {
   "cell_type": "code",
   "execution_count": 142,
   "id": "261a1296-28b4-426c-8267-8110f94dc837",
   "metadata": {},
   "outputs": [
    {
     "name": "stdout",
     "output_type": "stream",
     "text": [
      "200\n"
     ]
    }
   ],
   "source": [
    "r = requests.get('https://api.github.com/events')\n",
    "print(r.status_code)"
   ]
  },
  {
   "cell_type": "code",
   "execution_count": 149,
   "id": "a0e83ec2-773a-41fb-95ee-1315501cd5f4",
   "metadata": {},
   "outputs": [
    {
     "name": "stdout",
     "output_type": "stream",
     "text": [
      "[{'id': '28363321815', 'type': 'CreateEvent', 'actor': {'id': 89629698, 'login': 'mikaelgus', 'display_login': 'mikaelgus', 'gravatar_id': '', 'url': 'https://api.github.com/users/mikaelgus', 'avatar_url': 'https://avatars.githubusercontent.com/u/89629698?'}, 'repo': {'id': 626916622, 'name': 'mikaelgus/mahdmaisbck', 'url': 'https://api.github.com/repos/mikaelgus/mahdmaisbck'}, 'payload': {'ref': 'main', 'ref_type': 'branch', 'master_branch': 'main', 'description': None, 'pusher_type': 'user'}, 'public': True, 'created_at': '2023-04-12T12:21:52Z'}, {'id': '28363321806', 'type': 'PullRequestEvent', 'actor': {'id': 84877045, 'login': 'DanilLevkov', 'display_login': 'DanilLevkov', 'gravatar_id': '', 'url': 'https://api.github.com/users/DanilLevkov', 'avatar_url': 'https://avatars.githubusercontent.com/u/84877045?'}, 'repo': {'id': 581105321, 'name': 'spbu-se/mag_practices_2022-2024', 'url': 'https://api.github.com/repos/spbu-se/mag_practices_2022-2024'}, 'payload': {'action': 'opened', 'number': 23, 'pull_request': {'url': 'https://api.github.com/repos/spbu-se/mag_practices_2022-2024/pulls/23', 'id': 1310783433, 'node_id': 'PR_kwDOIqL2qc5OIPfJ', 'html_url': 'https://github.com/spbu-se/mag_practices_2022-2024/pull/23', 'diff_url': 'https://github.com/spbu-se/mag_practices_2022-2024/pull/23.diff', 'patch_url': 'https://github.com/spbu-se/mag_practices_2022-2024/pull/23.patch', 'issue_url': 'https://api.github.com/repos/spbu-se/mag_practices_2022-2024/issues/23', 'number': 23, 'state': 'open', 'locked': False, 'title': 'Levkov report and review', 'user': {'login': 'DanilLevkov', 'id': 84877045, 'node_id': 'MDQ6VXNlcjg0ODc3MDQ1', 'avatar_url': 'https://avatars.githubusercontent.com/u/84877045?v=4', 'gravatar_id': '', 'url': 'https://api.github.com/users/DanilLevkov', 'html_url': 'https://github.com/DanilLevkov', 'followers_url': 'https://api.github.com/users/DanilLevkov/followers', 'following_url': 'https://api.github.com/users/DanilLevkov/following{/other_user}', 'gists_url': 'https://api.github.com/users/DanilLevkov/gists{/gist_id}', 'starred_url': 'https://api.github.com/users/DanilLevkov/starred{/owner}{/repo}', 'subscriptions_url': 'https://api.github.com/users/DanilLevkov/subscriptions', 'organizations_url': 'https://api.github.com/users/DanilLevkov/orgs', 'repos_url': 'https://api.github.com/users/DanilLevkov/repos', 'events_url': 'https://api.github.com/users/DanilLevkov/events{/privacy}', 'received_events_url': 'https://api.github.com/users/DanilLevkov/received_events', 'type': 'User', 'site_admin': False}, 'body': None, 'created_at': '2023-04-12T12:21:51Z', 'updated_at': '2023-04-12T12:21:51Z', 'closed_at': None, 'merged_at': None, 'merge_commit_sha': None, 'assignee': None, 'assignees': [], 'requested_reviewers': [], 'requested_teams': [], 'labels': [], 'milestone': None, 'draft': False, 'commits_url': 'https://api.github.com/repos/spbu-se/mag_practices_2022-2024/pulls/23/commits', 'review_comments_url': 'https://api.github.com/repos/spbu-se/mag_practices_2022-2024/pulls/23/comments', 'review_comment_url': 'https://api.github.com/repos/spbu-se/mag_practices_2022-2024/pulls/comments{/number}', 'comments_url': 'https://api.github.com/repos/spbu-se/mag_practices_2022-2024/issues/23/comments', 'statuses_url': 'https://api.github.com/repos/spbu-se/mag_practices_2022-2024/statuses/3fc057159199ff8e3d8234cb16f70f4cca952272', 'head': {'label': 'DanilLevkov:main', 'ref': 'main', 'sha': '3fc057159199ff8e3d8234cb16f70f4cca952272', 'user': {'login': 'DanilLevkov', 'id': 84877045, 'node_id': 'MDQ6VXNlcjg0ODc3MDQ1', 'avatar_url': 'https://avatars.githubusercontent.com/u/84877045?v=4', 'gravatar_id': '', 'url': 'https://api.github.com/users/DanilLevkov', 'html_url': 'https://github.com/DanilLevkov', 'followers_url': 'https://api.github.com/users/DanilLevkov/followers', 'following_url': 'https://api.github.com/users/DanilLevkov/following{/other_user}', 'gists_url': 'https://api.github.com/users/DanilLevkov/gists{/gist_id}', 'starred_url': 'https://api.github.com/users/DanilLevkov/starred{/owner}{/repo}', 'subscriptions_url': 'https://api.github.com/users/DanilLevkov/subscriptions', 'organizations_url': 'https://api.github.com/users/DanilLevkov/orgs', 'repos_url': 'https://api.github.com/users/DanilLevkov/repos', 'events_url': 'https://api.github.com/users/DanilLevkov/events{/privacy}', 'received_events_url': 'https://api.github.com/users/DanilLevkov/received_events', 'type': 'User', 'site_admin': False}, 'repo': {'id': 626910931, 'node_id': 'R_kgDOJV3m0w', 'name': 'mag_practices_2022-2024', 'full_name': 'DanilLevkov/mag_practices_2022-2024', 'private': False, 'owner': {'login': 'DanilLevkov', 'id': 84877045, 'node_id': 'MDQ6VXNlcjg0ODc3MDQ1', 'avatar_url': 'https://avatars.githubusercontent.com/u/84877045?v=4', 'gravatar_id': '', 'url': 'https://api.github.com/users/DanilLevkov', 'html_url': 'https://github.com/DanilLevkov', 'followers_url': 'https://api.github.com/users/DanilLevkov/followers', 'following_url': 'https://api.github.com/users/DanilLevkov/following{/other_user}', 'gists_url': 'https://api.github.com/users/DanilLevkov/gists{/gist_id}', 'starred_url': 'https://api.github.com/users/DanilLevkov/starred{/owner}{/repo}', 'subscriptions_url': 'https://api.github.com/users/DanilLevkov/subscriptions', 'organizations_url': 'https://api.github.com/users/DanilLevkov/orgs', 'repos_url': 'https://api.github.com/users/DanilLevkov/repos', 'events_url': 'https://api.github.com/users/DanilLevkov/events{/privacy}', 'received_events_url': 'https://api.github.com/users/DanilLevkov/received_events', 'type': 'User', 'site_admin': False}, 'html_url': 'https://github.com/DanilLevkov/mag_practices_2022-2024', 'description': 'Отчёты и отзывы о прохождении практик магистрантами 2021–2023 гг.', 'fork': True, 'url': 'https://api.github.com/repos/DanilLevkov/mag_practices_2022-2024', 'forks_url': 'https://api.github.com/repos/DanilLevkov/mag_practices_2022-2024/forks', 'keys_url': 'https://api.github.com/repos/DanilLevkov/mag_practices_2022-2024/keys{/key_id}', 'collaborators_url': 'https://api.github.com/repos/DanilLevkov/mag_practices_2022-2024/collaborators{/collaborator}', 'teams_url': 'https://api.github.com/repos/DanilLevkov/mag_practices_2022-2024/teams', 'hooks_url': 'https://api.github.com/repos/DanilLevkov/mag_practices_2022-2024/hooks', 'issue_events_url': 'https://api.github.com/repos/DanilLevkov/mag_practices_2022-2024/issues/events{/number}', 'events_url': 'https://api.github.com/repos/DanilLevkov/mag_practices_2022-2024/events', 'assignees_url': 'https://api.github.com/repos/DanilLevkov/mag_practices_2022-2024/assignees{/user}', 'branches_url': 'https://api.github.com/repos/DanilLevkov/mag_practices_2022-2024/branches{/branch}', 'tags_url': 'https://api.github.com/repos/DanilLevkov/mag_practices_2022-2024/tags', 'blobs_url': 'https://api.github.com/repos/DanilLevkov/mag_practices_2022-2024/git/blobs{/sha}', 'git_tags_url': 'https://api.github.com/repos/DanilLevkov/mag_practices_2022-2024/git/tags{/sha}', 'git_refs_url': 'https://api.github.com/repos/DanilLevkov/mag_practices_2022-2024/git/refs{/sha}', 'trees_url': 'https://api.github.com/repos/DanilLevkov/mag_practices_2022-2024/git/trees{/sha}', 'statuses_url': 'https://api.github.com/repos/DanilLevkov/mag_practices_2022-2024/statuses/{sha}', 'languages_url': 'https://api.github.com/repos/DanilLevkov/mag_practices_2022-2024/languages', 'stargazers_url': 'https://api.github.com/repos/DanilLevkov/mag_practices_2022-2024/stargazers', 'contributors_url': 'https://api.github.com/repos/DanilLevkov/mag_practices_2022-2024/contributors', 'subscribers_url': 'https://api.github.com/repos/DanilLevkov/mag_practices_2022-2024/subscribers', 'subscription_url': 'https://api.github.com/repos/DanilLevkov/mag_practices_2022-2024/subscription', 'commits_url': 'https://api.github.com/repos/DanilLevkov/mag_practices_2022-2024/commits{/sha}', 'git_commits_url': 'https://api.github.com/repos/DanilLevkov/mag_practices_2022-2024/git/commits{/sha}', 'comments_url': 'https://api.github.com/repos/DanilLevkov/mag_practices_2022-2024/comments{/number}', 'issue_comment_url': 'https://api.github.com/repos/DanilLevkov/mag_practices_2022-2024/issues/comments{/number}', 'contents_url': 'https://api.github.com/repos/DanilLevkov/mag_practices_2022-2024/contents/{+path}', 'compare_url': 'https://api.github.com/repos/DanilLevkov/mag_practices_2022-2024/compare/{base}...{head}', 'merges_url': 'https://api.github.com/repos/DanilLevkov/mag_practices_2022-2024/merges', 'archive_url': 'https://api.github.com/repos/DanilLevkov/mag_practices_2022-2024/{archive_format}{/ref}', 'downloads_url': 'https://api.github.com/repos/DanilLevkov/mag_practices_2022-2024/downloads', 'issues_url': 'https://api.github.com/repos/DanilLevkov/mag_practices_2022-2024/issues{/number}', 'pulls_url': 'https://api.github.com/repos/DanilLevkov/mag_practices_2022-2024/pulls{/number}', 'milestones_url': 'https://api.github.com/repos/DanilLevkov/mag_practices_2022-2024/milestones{/number}', 'notifications_url': 'https://api.github.com/repos/DanilLevkov/mag_practices_2022-2024/notifications{?since,all,participating}', 'labels_url': 'https://api.github.com/repos/DanilLevkov/mag_practices_2022-2024/labels{/name}', 'releases_url': 'https://api.github.com/repos/DanilLevkov/mag_practices_2022-2024/releases{/id}', 'deployments_url': 'https://api.github.com/repos/DanilLevkov/mag_practices_2022-2024/deployments', 'created_at': '2023-04-12T12:05:50Z', 'updated_at': '2022-12-24T18:22:49Z', 'pushed_at': '2023-04-12T12:20:25Z', 'git_url': 'git://github.com/DanilLevkov/mag_practices_2022-2024.git', 'ssh_url': 'git@github.com:DanilLevkov/mag_practices_2022-2024.git', 'clone_url': 'https://github.com/DanilLevkov/mag_practices_2022-2024.git', 'svn_url': 'https://github.com/DanilLevkov/mag_practices_2022-2024', 'homepage': None, 'size': 33620, 'stargazers_count': 0, 'watchers_count': 0, 'language': None, 'has_issues': False, 'has_projects': True, 'has_downloads': True, 'has_wiki': True, 'has_pages': False, 'has_discussions': False, 'forks_count': 0, 'mirror_url': None, 'archived': False, 'disabled': False, 'open_issues_count': 0, 'license': None, 'allow_forking': True, 'is_template': False, 'web_commit_signoff_required': False, 'topics': [], 'visibility': 'public', 'forks': 0, 'open_issues': 0, 'watchers': 0, 'default_branch': 'main'}}, 'base': {'label': 'spbu-se:main', 'ref': 'main', 'sha': '9c10200b9908dada3db3975a790c0292a417e8e2', 'user': {'login': 'spbu-se', 'id': 1835160, 'node_id': 'MDEyOk9yZ2FuaXphdGlvbjE4MzUxNjA=', 'avatar_url': 'https://avatars.githubusercontent.com/u/1835160?v=4', 'gravatar_id': '', 'url': 'https://api.github.com/users/spbu-se', 'html_url': 'https://github.com/spbu-se', 'followers_url': 'https://api.github.com/users/spbu-se/followers', 'following_url': 'https://api.github.com/users/spbu-se/following{/other_user}', 'gists_url': 'https://api.github.com/users/spbu-se/gists{/gist_id}', 'starred_url': 'https://api.github.com/users/spbu-se/starred{/owner}{/repo}', 'subscriptions_url': 'https://api.github.com/users/spbu-se/subscriptions', 'organizations_url': 'https://api.github.com/users/spbu-se/orgs', 'repos_url': 'https://api.github.com/users/spbu-se/repos', 'events_url': 'https://api.github.com/users/spbu-se/events{/privacy}', 'received_events_url': 'https://api.github.com/users/spbu-se/received_events', 'type': 'Organization', 'site_admin': False}, 'repo': {'id': 581105321, 'node_id': 'R_kgDOIqL2qQ', 'name': 'mag_practices_2022-2024', 'full_name': 'spbu-se/mag_practices_2022-2024', 'private': False, 'owner': {'login': 'spbu-se', 'id': 1835160, 'node_id': 'MDEyOk9yZ2FuaXphdGlvbjE4MzUxNjA=', 'avatar_url': 'https://avatars.githubusercontent.com/u/1835160?v=4', 'gravatar_id': '', 'url': 'https://api.github.com/users/spbu-se', 'html_url': 'https://github.com/spbu-se', 'followers_url': 'https://api.github.com/users/spbu-se/followers', 'following_url': 'https://api.github.com/users/spbu-se/following{/other_user}', 'gists_url': 'https://api.github.com/users/spbu-se/gists{/gist_id}', 'starred_url': 'https://api.github.com/users/spbu-se/starred{/owner}{/repo}', 'subscriptions_url': 'https://api.github.com/users/spbu-se/subscriptions', 'organizations_url': 'https://api.github.com/users/spbu-se/orgs', 'repos_url': 'https://api.github.com/users/spbu-se/repos', 'events_url': 'https://api.github.com/users/spbu-se/events{/privacy}', 'received_events_url': 'https://api.github.com/users/spbu-se/received_events', 'type': 'Organization', 'site_admin': False}, 'html_url': 'https://github.com/spbu-se/mag_practices_2022-2024', 'description': 'Отчёты и отзывы о прохождении практик магистрантами 2021–2023 гг.', 'fork': False, 'url': 'https://api.github.com/repos/spbu-se/mag_practices_2022-2024', 'forks_url': 'https://api.github.com/repos/spbu-se/mag_practices_2022-2024/forks', 'keys_url': 'https://api.github.com/repos/spbu-se/mag_practices_2022-2024/keys{/key_id}', 'collaborators_url': 'https://api.github.com/repos/spbu-se/mag_practices_2022-2024/collaborators{/collaborator}', 'teams_url': 'https://api.github.com/repos/spbu-se/mag_practices_2022-2024/teams', 'hooks_url': 'https://api.github.com/repos/spbu-se/mag_practices_2022-2024/hooks', 'issue_events_url': 'https://api.github.com/repos/spbu-se/mag_practices_2022-2024/issues/events{/number}', 'events_url': 'https://api.github.com/repos/spbu-se/mag_practices_2022-2024/events', 'assignees_url': 'https://api.github.com/repos/spbu-se/mag_practices_2022-2024/assignees{/user}', 'branches_url': 'https://api.github.com/repos/spbu-se/mag_practices_2022-2024/branches{/branch}', 'tags_url': 'https://api.github.com/repos/spbu-se/mag_practices_2022-2024/tags', 'blobs_url': 'https://api.github.com/repos/spbu-se/mag_practices_2022-2024/git/blobs{/sha}', 'git_tags_url': 'https://api.github.com/repos/spbu-se/mag_practices_2022-2024/git/tags{/sha}', 'git_refs_url': 'https://api.github.com/repos/spbu-se/mag_practices_2022-2024/git/refs{/sha}', 'trees_url': 'https://api.github.com/repos/spbu-se/mag_practices_2022-2024/git/trees{/sha}', 'statuses_url': 'https://api.github.com/repos/spbu-se/mag_practices_2022-2024/statuses/{sha}', 'languages_url': 'https://api.github.com/repos/spbu-se/mag_practices_2022-2024/languages', 'stargazers_url': 'https://api.github.com/repos/spbu-se/mag_practices_2022-2024/stargazers', 'contributors_url': 'https://api.github.com/repos/spbu-se/mag_practices_2022-2024/contributors', 'subscribers_url': 'https://api.github.com/repos/spbu-se/mag_practices_2022-2024/subscribers', 'subscription_url': 'https://api.github.com/repos/spbu-se/mag_practices_2022-2024/subscription', 'commits_url': 'https://api.github.com/repos/spbu-se/mag_practices_2022-2024/commits{/sha}', 'git_commits_url': 'https://api.github.com/repos/spbu-se/mag_practices_2022-2024/git/commits{/sha}', 'comments_url': 'https://api.github.com/repos/spbu-se/mag_practices_2022-2024/comments{/number}', 'issue_comment_url': 'https://api.github.com/repos/spbu-se/mag_practices_2022-2024/issues/comments{/number}', 'contents_url': 'https://api.github.com/repos/spbu-se/mag_practices_2022-2024/contents/{+path}', 'compare_url': 'https://api.github.com/repos/spbu-se/mag_practices_2022-2024/compare/{base}...{head}', 'merges_url': 'https://api.github.com/repos/spbu-se/mag_practices_2022-2024/merges', 'archive_url': 'https://api.github.com/repos/spbu-se/mag_practices_2022-2024/{archive_format}{/ref}', 'downloads_url': 'https://api.github.com/repos/spbu-se/mag_practices_2022-2024/downloads', 'issues_url': 'https://api.github.com/repos/spbu-se/mag_practices_2022-2024/issues{/number}', 'pulls_url': 'https://api.github.com/repos/spbu-se/mag_practices_2022-2024/pulls{/number}', 'milestones_url': 'https://api.github.com/repos/spbu-se/mag_practices_2022-2024/milestones{/number}', 'notifications_url': 'https://api.github.com/repos/spbu-se/mag_practices_2022-2024/notifications{?since,all,participating}', 'labels_url': 'https://api.github.com/repos/spbu-se/mag_practices_2022-2024/labels{/name}', 'releases_url': 'https://api.github.com/repos/spbu-se/mag_practices_2022-2024/releases{/id}', 'deployments_url': 'https://api.github.com/repos/spbu-se/mag_practices_2022-2024/deployments', 'created_at': '2022-12-22T09:36:58Z', 'updated_at': '2022-12-24T18:22:49Z', 'pushed_at': '2023-04-12T12:21:52Z', 'git_url': 'git://github.com/spbu-se/mag_practices_2022-2024.git', 'ssh_url': 'git@github.com:spbu-se/mag_practices_2022-2024.git', 'clone_url': 'https://github.com/spbu-se/mag_practices_2022-2024.git', 'svn_url': 'https://github.com/spbu-se/mag_practices_2022-2024', 'homepage': None, 'size': 33620, 'stargazers_count': 0, 'watchers_count': 0, 'language': None, 'has_issues': True, 'has_projects': True, 'has_downloads': True, 'has_wiki': True, 'has_pages': False, 'has_discussions': False, 'forks_count': 19, 'mirror_url': None, 'archived': False, 'disabled': False, 'open_issues_count': 2, 'license': None, 'allow_forking': True, 'is_template': False, 'web_commit_signoff_required': False, 'topics': [], 'visibility': 'public', 'forks': 19, 'open_issues': 2, 'watchers': 0, 'default_branch': 'main'}}, '_links': {'self': {'href': 'https://api.github.com/repos/spbu-se/mag_practices_2022-2024/pulls/23'}, 'html': {'href': 'https://github.com/spbu-se/mag_practices_2022-2024/pull/23'}, 'issue': {'href': 'https://api.github.com/repos/spbu-se/mag_practices_2022-2024/issues/23'}, 'comments': {'href': 'https://api.github.com/repos/spbu-se/mag_practices_2022-2024/issues/23/comments'}, 'review_comments': {'href': 'https://api.github.com/repos/spbu-se/mag_practices_2022-2024/pulls/23/comments'}, 'review_comment': {'href': 'https://api.github.com/repos/spbu-se/mag_practices_2022-2024/pulls/comments{/number}'}, 'commits': {'href': 'https://api.github.com/repos/spbu-se/mag_practices_2022-2024/pulls/23/commits'}, 'statuses': {'href': 'https://api.github.com/repos/spbu-se/mag_practices_2022-2024/statuses/3fc057159199ff8e3d8234cb16f70f4cca952272'}}, 'author_association': 'NONE', 'auto_merge': None, 'active_lock_reason': None, 'merged': False, 'mergeable': None, 'rebaseable': None, 'mergeable_state': 'unknown', 'merged_by': None, 'comments': 0, 'review_comments': 0, 'maintainer_can_modify': True, 'commits': 1, 'additions': 8, 'deletions': 0, 'changed_files': 9}}, 'public': True, 'created_at': '2023-04-12T12:21:52Z', 'org': {'id': 1835160, 'login': 'spbu-se', 'gravatar_id': '', 'url': 'https://api.github.com/orgs/spbu-se', 'avatar_url': 'https://avatars.githubusercontent.com/u/1835160?'}}, {'id': '28363321746', 'type': 'PushEvent', 'actor': {'id': 9037723, 'login': 'targeral', 'display_login': 'targeral', 'gravatar_id': '', 'url': 'https://api.github.com/users/targeral', 'avatar_url': 'https://avatars.githubusercontent.com/u/9037723?'}, 'repo': {'id': 608927713, 'name': 'targeral/TarGeraL', 'url': 'https://api.github.com/repos/targeral/TarGeraL'}, 'payload': {'repository_id': 608927713, 'push_id': 13272812704, 'size': 1, 'distinct_size': 1, 'ref': 'refs/heads/output', 'head': '89545081ef17835d511620ad51d809f22a841d8d', 'before': '703de936bc7b06117b51a1611d6cecbcac5cd10b', 'commits': [{'sha': '89545081ef17835d511620ad51d809f22a841d8d', 'author': {'email': '41898282+github-actions[bot]@users.noreply.github.com', 'name': 'github-actions[bot]'}, 'message': 'Deploy to GitHub pages', 'distinct': True, 'url': 'https://api.github.com/repos/targeral/TarGeraL/commits/89545081ef17835d511620ad51d809f22a841d8d'}]}, 'public': True, 'created_at': '2023-04-12T12:21:52Z'}, {'id': '28363321689', 'type': 'PushEvent', 'actor': {'id': 41898282, 'login': 'github-actions[bot]', 'display_login': 'github-actions', 'gravatar_id': '', 'url': 'https://api.github.com/users/github-actions[bot]', 'avatar_url': 'https://avatars.githubusercontent.com/u/41898282?'}, 'repo': {'id': 610531446, 'name': 'alcantaraneto/alcantaraneto', 'url': 'https://api.github.com/repos/alcantaraneto/alcantaraneto'}, 'payload': {'repository_id': 610531446, 'push_id': 13272812749, 'size': 1, 'distinct_size': 1, 'ref': 'refs/heads/output', 'head': '2ab43139db2e9035ee90b20f51decfa0d5226130', 'before': 'c617814a96fbc8058582eaed9fe4a899c7ea7b18', 'commits': [{'sha': '2ab43139db2e9035ee90b20f51decfa0d5226130', 'author': {'email': '41898282+github-actions[bot]@users.noreply.github.com', 'name': 'github-actions[bot]'}, 'message': 'Deploy to GitHub pages', 'distinct': True, 'url': 'https://api.github.com/repos/alcantaraneto/alcantaraneto/commits/2ab43139db2e9035ee90b20f51decfa0d5226130'}]}, 'public': True, 'created_at': '2023-04-12T12:21:52Z'}, {'id': '28363321741', 'type': 'PushEvent', 'actor': {'id': 41898282, 'login': 'github-actions[bot]', 'display_login': 'github-actions', 'gravatar_id': '', 'url': 'https://api.github.com/users/github-actions[bot]', 'avatar_url': 'https://avatars.githubusercontent.com/u/41898282?'}, 'repo': {'id': 440686941, 'name': 'krollopes/krollopes', 'url': 'https://api.github.com/repos/krollopes/krollopes'}, 'payload': {'repository_id': 440686941, 'push_id': 13272812752, 'size': 1, 'distinct_size': 1, 'ref': 'refs/heads/output', 'head': 'c3b01ae8e22d50923363d94765b6f9b615a82304', 'before': '076234b283165261299eaaeab6c9bcd5002e02e2', 'commits': [{'sha': 'c3b01ae8e22d50923363d94765b6f9b615a82304', 'author': {'email': '41898282+github-actions[bot]@users.noreply.github.com', 'name': 'github-actions[bot]'}, 'message': 'Deploy to GitHub pages', 'distinct': True, 'url': 'https://api.github.com/repos/krollopes/krollopes/commits/c3b01ae8e22d50923363d94765b6f9b615a82304'}]}, 'public': True, 'created_at': '2023-04-12T12:21:52Z'}, {'id': '28363321756', 'type': 'PushEvent', 'actor': {'id': 75622946, 'login': 'BruhNav', 'display_login': 'BruhNav', 'gravatar_id': '', 'url': 'https://api.github.com/users/BruhNav', 'avatar_url': 'https://avatars.githubusercontent.com/u/75622946?'}, 'repo': {'id': 609609308, 'name': 'BruhNav/NasscomFrontend', 'url': 'https://api.github.com/repos/BruhNav/NasscomFrontend'}, 'payload': {'repository_id': 609609308, 'push_id': 13272812728, 'size': 1, 'distinct_size': 1, 'ref': 'refs/heads/main', 'head': 'ec86c717fe62426c0099589063e262a4a0e65bea', 'before': '18ce3187fb979db905bde8b50912204b9ba645e0', 'commits': [{'sha': 'ec86c717fe62426c0099589063e262a4a0e65bea', 'author': {'email': 'pranav20100@iiitnr.edu.in', 'name': 'Bruhnav'}, 'message': ' added my name in about us', 'distinct': True, 'url': 'https://api.github.com/repos/BruhNav/NasscomFrontend/commits/ec86c717fe62426c0099589063e262a4a0e65bea'}]}, 'public': True, 'created_at': '2023-04-12T12:21:52Z'}, {'id': '28363321722', 'type': 'PushEvent', 'actor': {'id': 109579119, 'login': 'ChuenSan', 'display_login': 'ChuenSan', 'gravatar_id': '', 'url': 'https://api.github.com/users/ChuenSan', 'avatar_url': 'https://avatars.githubusercontent.com/u/109579119?'}, 'repo': {'id': 597302224, 'name': 'ChuenSan/photo', 'url': 'https://api.github.com/repos/ChuenSan/photo'}, 'payload': {'repository_id': 597302224, 'push_id': 13272812735, 'size': 1, 'distinct_size': 1, 'ref': 'refs/heads/main', 'head': '6ad7e911505e58bc8f2ea7b6f0d886c9a30dd969', 'before': 'c3a0cd2d41a1b11fd5fbe63f4e726080c50a1f12', 'commits': [{'sha': '6ad7e911505e58bc8f2ea7b6f0d886c9a30dd969', 'author': {'email': '109579119+ChuenSan@users.noreply.github.com', 'name': 'ChuenSan'}, 'message': 'Upload by PicGo', 'distinct': True, 'url': 'https://api.github.com/repos/ChuenSan/photo/commits/6ad7e911505e58bc8f2ea7b6f0d886c9a30dd969'}]}, 'public': True, 'created_at': '2023-04-12T12:21:52Z'}, {'id': '28363321679', 'type': 'PushEvent', 'actor': {'id': 251665, 'login': 'ericpaulbishop', 'display_login': 'ericpaulbishop', 'gravatar_id': '', 'url': 'https://api.github.com/users/ericpaulbishop', 'avatar_url': 'https://avatars.githubusercontent.com/u/251665?'}, 'repo': {'id': 677290, 'name': 'ericpaulbishop/gargoyle', 'url': 'https://api.github.com/repos/ericpaulbishop/gargoyle'}, 'payload': {'repository_id': 677290, 'push_id': 13272812708, 'size': 3, 'distinct_size': 3, 'ref': 'refs/heads/master', 'head': '622604254124c19051b5fb260fed8e4cd6dcc933', 'before': '9eb70957fdcca80c182c972eb5244badcd31e810', 'commits': [{'sha': '4c549167fdd74cd287b2c0ef8916ac44e2013fae', 'author': {'email': 'andymac@pcug.org.au', 'name': 'Andrew MacIntyre'}, 'message': 'ramips.mt7621: add Mercusys MR70Xv1 and TP-Link Archer AX23v1\\n\\nSupport for these AX1800 class devices was backported to OpenWrt 22.03\\nshortly before 22.03.4 was tagged, so bump to commit for 22.03.4\\nas part of adding them.', 'distinct': True, 'url': 'https://api.github.com/repos/ericpaulbishop/gargoyle/commits/4c549167fdd74cd287b2c0ef8916ac44e2013fae'}, {'sha': '054c00f18a6af9293431448289c0ddeda94d841d', 'author': {'email': 'andymac@pcug.org.au', 'name': 'Andrew MacIntyre'}, 'message': 'ath79.default: add Belkin f9j1108-v2', 'distinct': True, 'url': 'https://api.github.com/repos/ericpaulbishop/gargoyle/commits/054c00f18a6af9293431448289c0ddeda94d841d'}, {'sha': '622604254124c19051b5fb260fed8e4cd6dcc933', 'author': {'email': 'andymac@pcug.org.au', 'name': 'Andrew MacIntyre'}, 'message': 'qosmon: work around occasional pathological behaviour of select()\\n\\nAlso enhance debug output to record sample times.\\n\\nPatch by lantis1008, tested by aimacintyre.', 'distinct': True, 'url': 'https://api.github.com/repos/ericpaulbishop/gargoyle/commits/622604254124c19051b5fb260fed8e4cd6dcc933'}]}, 'public': True, 'created_at': '2023-04-12T12:21:52Z'}, {'id': '28363321686', 'type': 'PushEvent', 'actor': {'id': 39814207, 'login': 'pull[bot]', 'display_login': 'pull', 'gravatar_id': '', 'url': 'https://api.github.com/users/pull[bot]', 'avatar_url': 'https://avatars.githubusercontent.com/u/39814207?'}, 'repo': {'id': 544423996, 'name': 'gsaxlysy/ssr-pac', 'url': 'https://api.github.com/repos/gsaxlysy/ssr-pac'}, 'payload': {'repository_id': 544423996, 'push_id': 13272812710, 'size': 1, 'distinct_size': 1, 'ref': 'refs/heads/master', 'head': 'e839ce18bbb168eae821e958a9fe315cab882230', 'before': 'caaf4ef405a70b71293f6359f39f0078c4897f2e', 'commits': [{'sha': 'e839ce18bbb168eae821e958a9fe315cab882230', 'author': {'email': '12132898+Alvin9999@users.noreply.github.com', 'name': '自由上网'}, 'message': 'Update CloudFlare优质IP', 'distinct': True, 'url': 'https://api.github.com/repos/gsaxlysy/ssr-pac/commits/e839ce18bbb168eae821e958a9fe315cab882230'}]}, 'public': True, 'created_at': '2023-04-12T12:21:52Z'}, {'id': '28363321685', 'type': 'PushEvent', 'actor': {'id': 41898282, 'login': 'github-actions[bot]', 'display_login': 'github-actions', 'gravatar_id': '', 'url': 'https://api.github.com/users/github-actions[bot]', 'avatar_url': 'https://avatars.githubusercontent.com/u/41898282?'}, 'repo': {'id': 563132594, 'name': 'EduardoKaio/EduardoKaio', 'url': 'https://api.github.com/repos/EduardoKaio/EduardoKaio'}, 'payload': {'repository_id': 563132594, 'push_id': 13272812721, 'size': 1, 'distinct_size': 1, 'ref': 'refs/heads/output', 'head': '4238baddc9e100b2743b790fc83bddbeb70f7ae4', 'before': 'd7746c98f57b426deaafb8cfe5ab636f47bcdea1', 'commits': [{'sha': '4238baddc9e100b2743b790fc83bddbeb70f7ae4', 'author': {'email': '41898282+github-actions[bot]@users.noreply.github.com', 'name': 'github-actions[bot]'}, 'message': 'Deploy to GitHub pages', 'distinct': True, 'url': 'https://api.github.com/repos/EduardoKaio/EduardoKaio/commits/4238baddc9e100b2743b790fc83bddbeb70f7ae4'}]}, 'public': True, 'created_at': '2023-04-12T12:21:52Z'}, {'id': '28363321706', 'type': 'DeleteEvent', 'actor': {'id': 130565558, 'login': 'juan-test13', 'display_login': 'juan-test13', 'gravatar_id': '', 'url': 'https://api.github.com/users/juan-test13', 'avatar_url': 'https://avatars.githubusercontent.com/u/130565558?'}, 'repo': {'id': 488546176, 'name': 'CGA-stellenbosch/dummy-repo', 'url': 'https://api.github.com/repos/CGA-stellenbosch/dummy-repo'}, 'payload': {'ref': 'juan_test', 'ref_type': 'branch', 'pusher_type': 'user'}, 'public': True, 'created_at': '2023-04-12T12:21:52Z', 'org': {'id': 104900402, 'login': 'CGA-stellenbosch', 'gravatar_id': '', 'url': 'https://api.github.com/orgs/CGA-stellenbosch', 'avatar_url': 'https://avatars.githubusercontent.com/u/104900402?'}}, {'id': '28363321646', 'type': 'PushEvent', 'actor': {'id': 90779259, 'login': 'Valentin-nasone', 'display_login': 'Valentin-nasone', 'gravatar_id': '', 'url': 'https://api.github.com/users/Valentin-nasone', 'avatar_url': 'https://avatars.githubusercontent.com/u/90779259?'}, 'repo': {'id': 614399459, 'name': 'IgorMelnykSI/IHM-Planets-Game', 'url': 'https://api.github.com/repos/IgorMelnykSI/IHM-Planets-Game'}, 'payload': {'repository_id': 614399459, 'push_id': 13272812714, 'size': 3, 'distinct_size': 3, 'ref': 'refs/heads/main', 'head': 'ac8126b60c4a3573b96babad1a92b8fa89982989', 'before': 'f4b98cd398eaa8c742b9ee8ac606eb0b50768e85', 'commits': [{'sha': 'ac73aa7bc693bae86662a6e316b67d957341bf5a', 'author': {'email': '90779259+Valentin-nasone@users.noreply.github.com', 'name': 'Valentin-nasone'}, 'message': 'hello', 'distinct': True, 'url': 'https://api.github.com/repos/IgorMelnykSI/IHM-Planets-Game/commits/ac73aa7bc693bae86662a6e316b67d957341bf5a'}, {'sha': '6e19cf8c14bb573304ef24fdde6bfb9f9111524b', 'author': {'email': '90779259+Valentin-nasone@users.noreply.github.com', 'name': 'Valentin-nasone'}, 'message': 'hello', 'distinct': True, 'url': 'https://api.github.com/repos/IgorMelnykSI/IHM-Planets-Game/commits/6e19cf8c14bb573304ef24fdde6bfb9f9111524b'}, {'sha': 'ac8126b60c4a3573b96babad1a92b8fa89982989', 'author': {'email': '90779259+Valentin-nasone@users.noreply.github.com', 'name': 'Valentin-nasone'}, 'message': 'heelo', 'distinct': True, 'url': 'https://api.github.com/repos/IgorMelnykSI/IHM-Planets-Game/commits/ac8126b60c4a3573b96babad1a92b8fa89982989'}]}, 'public': True, 'created_at': '2023-04-12T12:21:52Z'}, {'id': '28363321709', 'type': 'WatchEvent', 'actor': {'id': 66330942, 'login': 'Jaiderinn04', 'display_login': 'Jaiderinn04', 'gravatar_id': '', 'url': 'https://api.github.com/users/Jaiderinn04', 'avatar_url': 'https://avatars.githubusercontent.com/u/66330942?'}, 'repo': {'id': 624561437, 'name': 'filipe234441/Cheat-For-Apex-Legends-Free-Aimbot-Wallhack-Tutorial', 'url': 'https://api.github.com/repos/filipe234441/Cheat-For-Apex-Legends-Free-Aimbot-Wallhack-Tutorial'}, 'payload': {'action': 'started'}, 'public': True, 'created_at': '2023-04-12T12:21:52Z'}, {'id': '28363321664', 'type': 'PushEvent', 'actor': {'id': 126098917, 'login': 'engineerdataanalyst', 'display_login': 'engineerdataanalyst', 'gravatar_id': '', 'url': 'https://api.github.com/users/engineerdataanalyst', 'avatar_url': 'https://avatars.githubusercontent.com/u/126098917?'}, 'repo': {'id': 622151953, 'name': 'engineerdataanalyst/LeetCode', 'url': 'https://api.github.com/repos/engineerdataanalyst/LeetCode'}, 'payload': {'repository_id': 622151953, 'push_id': 13272812736, 'size': 1, 'distinct_size': 1, 'ref': 'refs/heads/main', 'head': 'dcfa4b3dfc866c61f427a811920970c3c2e164b6', 'before': '91223f952f94f4bff6cc3bf649652f1f1e58159c', 'commits': [{'sha': 'dcfa4b3dfc866c61f427a811920970c3c2e164b6', 'author': {'email': '126098917+engineerdataanalyst@users.noreply.github.com', 'name': 'Chris Barnett'}, 'message': 'Create Monthly Transactions I.sql', 'distinct': True, 'url': 'https://api.github.com/repos/engineerdataanalyst/LeetCode/commits/dcfa4b3dfc866c61f427a811920970c3c2e164b6'}]}, 'public': True, 'created_at': '2023-04-12T12:21:52Z'}, {'id': '28363321649', 'type': 'PushEvent', 'actor': {'id': 112133986, 'login': 'Aquiles-b', 'display_login': 'Aquiles-b', 'gravatar_id': '', 'url': 'https://api.github.com/users/Aquiles-b', 'avatar_url': 'https://avatars.githubusercontent.com/u/112133986?'}, 'repo': {'id': 589779588, 'name': 'Aquiles-b/nvim', 'url': 'https://api.github.com/repos/Aquiles-b/nvim'}, 'payload': {'repository_id': 589779588, 'push_id': 13272812703, 'size': 10, 'distinct_size': 1, 'ref': 'refs/heads/main', 'head': 'abb78c8e7111d1fd08e2a980fcac691afd3f948f', 'before': '1d96ab9d499854e490cedc2f2f34e22439234f62', 'commits': [{'sha': 'abd47bb020a32c5baa0cf8e1d07c42351eb063b5', 'author': {'email': 'brunoaquiles@ufpr.br', 'name': 'Aquiles-bb'}, 'message': 'Inicio da transição para lazyload', 'distinct': False, 'url': 'https://api.github.com/repos/Aquiles-b/nvim/commits/abd47bb020a32c5baa0cf8e1d07c42351eb063b5'}, {'sha': '6211380c271e65504c430ef35d321162173c3bc5', 'author': {'email': 'brunoaquiles@ufpr.br', 'name': 'Aquiles-bb'}, 'message': 'Carregar ao iniciar o colorscheme', 'distinct': False, 'url': 'https://api.github.com/repos/Aquiles-b/nvim/commits/6211380c271e65504c430ef35d321162173c3bc5'}, {'sha': 'ca360ee98fcb95ab4277412a52eb5a34b2e42cff', 'author': {'email': 'bal22@inf.ufpr.br', 'name': 'BRUNO AQUILES DE LIMA'}, 'message': 'colorcolumn adicionado.', 'distinct': False, 'url': 'https://api.github.com/repos/Aquiles-b/nvim/commits/ca360ee98fcb95ab4277412a52eb5a34b2e42cff'}, {'sha': '64901e01db40fbd5f9ce26835d43138f0c940374', 'author': {'email': 'bal22@inf.ufpr.br', 'name': 'BRUNO AQUILES DE LIMA'}, 'message': 'Novas configs no lualine\\n\\nprecisa desinstalar o barbar', 'distinct': False, 'url': 'https://api.github.com/repos/Aquiles-b/nvim/commits/64901e01db40fbd5f9ce26835d43138f0c940374'}, {'sha': 'aa25a0d20ad0038187b853c4a2d096ea4afccb75', 'author': {'email': 'bal22@inf.ufpr.br', 'name': 'BRUNO AQUILES DE LIMA'}, 'message': 'keybinds corrigidas', 'distinct': False, 'url': 'https://api.github.com/repos/Aquiles-b/nvim/commits/aa25a0d20ad0038187b853c4a2d096ea4afccb75'}, {'sha': '9916a758f9adc9779695fb45ed9caa1a56d2527c', 'author': {'email': 'brunoaquiles@ufpr.br', 'name': 'Aquiles-bb'}, 'message': 'Adicionado comando de autoindent altgr+c', 'distinct': False, 'url': 'https://api.github.com/repos/Aquiles-b/nvim/commits/9916a758f9adc9779695fb45ed9caa1a56d2527c'}, {'sha': 'e997ace53674005ff7bd1552a630da12ff10ff02', 'author': {'email': 'bal22@inf.ufpr.br', 'name': 'BRUNO AQUILES DE LIMA'}, 'message': 'Comando de autoindent arrumado.', 'distinct': False, 'url': 'https://api.github.com/repos/Aquiles-b/nvim/commits/e997ace53674005ff7bd1552a630da12ff10ff02'}, {'sha': '8cb91759e16864b70e5f1f24403d52a747e05cd9', 'author': {'email': '112133986+Aquiles-b@users.noreply.github.com', 'name': 'Aquiles'}, 'message': 'Update README.md', 'distinct': False, 'url': 'https://api.github.com/repos/Aquiles-b/nvim/commits/8cb91759e16864b70e5f1f24403d52a747e05cd9'}, {'sha': '1b56d909c12a2446618d03d25f733d933fd4e55b', 'author': {'email': '112133986+Aquiles-b@users.noreply.github.com', 'name': 'Aquiles'}, 'message': \"Merge branch 'main' into lazy\", 'distinct': False, 'url': 'https://api.github.com/repos/Aquiles-b/nvim/commits/1b56d909c12a2446618d03d25f733d933fd4e55b'}, {'sha': 'abb78c8e7111d1fd08e2a980fcac691afd3f948f', 'author': {'email': '112133986+Aquiles-b@users.noreply.github.com', 'name': 'Aquiles'}, 'message': 'Merge pull request #1 from Aquiles-b/lazy\\n\\nLazy', 'distinct': True, 'url': 'https://api.github.com/repos/Aquiles-b/nvim/commits/abb78c8e7111d1fd08e2a980fcac691afd3f948f'}]}, 'public': True, 'created_at': '2023-04-12T12:21:52Z'}, {'id': '28363321737', 'type': 'PushEvent', 'actor': {'id': 41898282, 'login': 'github-actions[bot]', 'display_login': 'github-actions', 'gravatar_id': '', 'url': 'https://api.github.com/users/github-actions[bot]', 'avatar_url': 'https://avatars.githubusercontent.com/u/41898282?'}, 'repo': {'id': 533851013, 'name': 'it985/zhihu-trending-top-search', 'url': 'https://api.github.com/repos/it985/zhihu-trending-top-search'}, 'payload': {'repository_id': 533851013, 'push_id': 13272812729, 'size': 1, 'distinct_size': 1, 'ref': 'refs/heads/main', 'head': '7cb7958d12194048aa3e2a9fc16dd769f061e156', 'before': '7eb46eaba45b044fb675fd3d1f322f476cf22ded', 'commits': [{'sha': '7cb7958d12194048aa3e2a9fc16dd769f061e156', 'author': {'email': '2071916845@qq.com', 'name': 'it985'}, 'message': 'update by github action zhihutrendingtop', 'distinct': True, 'url': 'https://api.github.com/repos/it985/zhihu-trending-top-search/commits/7cb7958d12194048aa3e2a9fc16dd769f061e156'}]}, 'public': True, 'created_at': '2023-04-12T12:21:52Z'}, {'id': '28363321693', 'type': 'PushEvent', 'actor': {'id': 119604456, 'login': 'mattyfirth', 'display_login': 'mattyfirth', 'gravatar_id': '', 'url': 'https://api.github.com/users/mattyfirth', 'avatar_url': 'https://avatars.githubusercontent.com/u/119604456?'}, 'repo': {'id': 494375686, 'name': 'NHSDigital/service-search-api', 'url': 'https://api.github.com/repos/NHSDigital/service-search-api'}, 'payload': {'repository_id': 494375686, 'push_id': 13272812748, 'size': 2, 'distinct_size': 1, 'ref': 'refs/heads/master', 'head': '85fdd22276de25db3aecc872895537c228c1ae32', 'before': 'd322ef9990f8c084ccf80138773c2ea8151dca9e', 'commits': [{'sha': '66c71f4c21b803dc3334ff6870baa3e51354168a', 'author': {'email': '69149996+mick-sch@users.noreply.github.com', 'name': 'Mick Schonhut'}, 'message': 'Update service-search-api.yaml', 'distinct': False, 'url': 'https://api.github.com/repos/NHSDigital/service-search-api/commits/66c71f4c21b803dc3334ff6870baa3e51354168a'}, {'sha': '85fdd22276de25db3aecc872895537c228c1ae32', 'author': {'email': '119604456+mattyfirth@users.noreply.github.com', 'name': 'mattyfirth'}, 'message': 'Merge pull request #95 from NHSDigital/ms-APM-000-AMP-1252-fix-2-broken-links\\n\\nUpdate service-search-api.yaml', 'distinct': True, 'url': 'https://api.github.com/repos/NHSDigital/service-search-api/commits/85fdd22276de25db3aecc872895537c228c1ae32'}]}, 'public': True, 'created_at': '2023-04-12T12:21:52Z', 'org': {'id': 6683590, 'login': 'NHSDigital', 'gravatar_id': '', 'url': 'https://api.github.com/orgs/NHSDigital', 'avatar_url': 'https://avatars.githubusercontent.com/u/6683590?'}}, {'id': '28363321669', 'type': 'PushEvent', 'actor': {'id': 129597268, 'login': 'Gitkalle123', 'display_login': 'Gitkalle123', 'gravatar_id': '', 'url': 'https://api.github.com/users/Gitkalle123', 'avatar_url': 'https://avatars.githubusercontent.com/u/129597268?'}, 'repo': {'id': 626833267, 'name': 'Gitkalle123/projectagile', 'url': 'https://api.github.com/repos/Gitkalle123/projectagile'}, 'payload': {'repository_id': 626833267, 'push_id': 13272812740, 'size': 1, 'distinct_size': 1, 'ref': 'refs/heads/master', 'head': 'dbd76ac5640b6a148a7a8cb4ddaf83efe5de9720', 'before': '16dc33db955e2beadcb1b5fa2d4b6c292ddfc1eb', 'commits': [{'sha': 'dbd76ac5640b6a148a7a8cb4ddaf83efe5de9720', 'author': {'email': 'ssh714@gmail.com', 'name': 'Shalini Singh'}, 'message': 'pdffiles folder ignored', 'distinct': True, 'url': 'https://api.github.com/repos/Gitkalle123/projectagile/commits/dbd76ac5640b6a148a7a8cb4ddaf83efe5de9720'}]}, 'public': True, 'created_at': '2023-04-12T12:21:52Z'}, {'id': '28363321655', 'type': 'CreateEvent', 'actor': {'id': 93928989, 'login': 'srishty3june', 'display_login': 'srishty3june', 'gravatar_id': '', 'url': 'https://api.github.com/users/srishty3june', 'avatar_url': 'https://avatars.githubusercontent.com/u/93928989?'}, 'repo': {'id': 626917183, 'name': 'srishty3june/AI-Object-Finder-app', 'url': 'https://api.github.com/repos/srishty3june/AI-Object-Finder-app'}, 'payload': {'ref': 'main', 'ref_type': 'branch', 'master_branch': 'main', 'description': None, 'pusher_type': 'user'}, 'public': True, 'created_at': '2023-04-12T12:21:52Z'}, {'id': '28363321626', 'type': 'PushEvent', 'actor': {'id': 45483116, 'login': 'LeeHyogon', 'display_login': 'LeeHyogon', 'gravatar_id': '', 'url': 'https://api.github.com/users/LeeHyogon', 'avatar_url': 'https://avatars.githubusercontent.com/u/45483116?'}, 'repo': {'id': 620400301, 'name': 'LeeHyogon/summer', 'url': 'https://api.github.com/repos/LeeHyogon/summer'}, 'payload': {'repository_id': 620400301, 'push_id': 13272812683, 'size': 1, 'distinct_size': 1, 'ref': 'refs/heads/master', 'head': 'd7f5d420051c8cf55cebe11723a5e563c0328658', 'before': 'b34bbfcb08a701a884a48f5e5ec7c01935948d50', 'commits': [{'sha': 'd7f5d420051c8cf55cebe11723a5e563c0328658', 'author': {'email': 'gon109m@gmail.com', 'name': '이효곤'}, 'message': 'Implement logic Delete Post with comment and favorite, But I need to think about whether Changing Comment.Status for User is an efficient way.', 'distinct': True, 'url': 'https://api.github.com/repos/LeeHyogon/summer/commits/d7f5d420051c8cf55cebe11723a5e563c0328658'}]}, 'public': True, 'created_at': '2023-04-12T12:21:52Z'}, {'id': '28363321602', 'type': 'PushEvent', 'actor': {'id': 108094683, 'login': 'mainstory', 'display_login': 'mainstory', 'gravatar_id': '', 'url': 'https://api.github.com/users/mainstory', 'avatar_url': 'https://avatars.githubusercontent.com/u/108094683?'}, 'repo': {'id': 622122320, 'name': 'mainstory/major-projects', 'url': 'https://api.github.com/repos/mainstory/major-projects'}, 'payload': {'repository_id': 622122320, 'push_id': 13272812682, 'size': 1, 'distinct_size': 1, 'ref': 'refs/heads/main', 'head': 'cc801bb02835c88c1ce1aa343162693ef329a47d', 'before': '66758de7f43a83536368f04dd0e66815b76f679b', 'commits': [{'sha': 'cc801bb02835c88c1ce1aa343162693ef329a47d', 'author': {'email': '108094683+mainstory@users.noreply.github.com', 'name': 'mainstory'}, 'message': 'Add files via upload', 'distinct': True, 'url': 'https://api.github.com/repos/mainstory/major-projects/commits/cc801bb02835c88c1ce1aa343162693ef329a47d'}]}, 'public': True, 'created_at': '2023-04-12T12:21:52Z'}, {'id': '28363321662', 'type': 'PushEvent', 'actor': {'id': 30760636, 'login': 'ssrlive', 'display_login': 'ssrlive', 'gravatar_id': '', 'url': 'https://api.github.com/users/ssrlive', 'avatar_url': 'https://avatars.githubusercontent.com/u/30760636?'}, 'repo': {'id': 626915551, 'name': 'ssrlive/json-c', 'url': 'https://api.github.com/repos/ssrlive/json-c'}, 'payload': {'repository_id': 626915551, 'push_id': 13272812719, 'size': 1, 'distinct_size': 1, 'ref': 'refs/heads/patch-1', 'head': 'd4c9ac28ce05a116ca3dc39e3c4ca1be38d256d9', 'before': 'd0f32a5a43d1b9dc0b2cd6af310e5f09b97c3423', 'commits': [{'sha': 'd4c9ac28ce05a116ca3dc39e3c4ca1be38d256d9', 'author': {'email': '30760636+ssrlive@users.noreply.github.com', 'name': 'ssrlive'}, 'message': 'Build apps only in project itself.', 'distinct': True, 'url': 'https://api.github.com/repos/ssrlive/json-c/commits/d4c9ac28ce05a116ca3dc39e3c4ca1be38d256d9'}]}, 'public': True, 'created_at': '2023-04-12T12:21:52Z'}, {'id': '28363321660', 'type': 'PushEvent', 'actor': {'id': 80586242, 'login': 'Magic3910', 'display_login': 'Magic3910', 'gravatar_id': '', 'url': 'https://api.github.com/users/Magic3910', 'avatar_url': 'https://avatars.githubusercontent.com/u/80586242?'}, 'repo': {'id': 626884614, 'name': 'Magic3910/kac', 'url': 'https://api.github.com/repos/Magic3910/kac'}, 'payload': {'repository_id': 626884614, 'push_id': 13272812717, 'size': 1, 'distinct_size': 1, 'ref': 'refs/heads/main', 'head': '87c53310137b53b13459686c585f36c8a464272b', 'before': '3a725e0f5288b2b49d9d327fd6425f484d6b24b2', 'commits': [{'sha': '87c53310137b53b13459686c585f36c8a464272b', 'author': {'email': 'kim3834000p@gmail.com', 'name': 'KCS'}, 'message': 'Update app.js', 'distinct': True, 'url': 'https://api.github.com/repos/Magic3910/kac/commits/87c53310137b53b13459686c585f36c8a464272b'}]}, 'public': True, 'created_at': '2023-04-12T12:21:52Z'}, {'id': '28363321642', 'type': 'DeleteEvent', 'actor': {'id': 49699333, 'login': 'dependabot[bot]', 'display_login': 'dependabot', 'gravatar_id': '', 'url': 'https://api.github.com/users/dependabot[bot]', 'avatar_url': 'https://avatars.githubusercontent.com/u/49699333?'}, 'repo': {'id': 487559148, 'name': 'DuckySoLucky/hypixel-discord-chat-bridge', 'url': 'https://api.github.com/repos/DuckySoLucky/hypixel-discord-chat-bridge'}, 'payload': {'ref': 'dependabot/npm_and_yarn/xml2js-and-rss-parser-0.5.0', 'ref_type': 'branch', 'pusher_type': 'user'}, 'public': True, 'created_at': '2023-04-12T12:21:52Z'}, {'id': '28363321600', 'type': 'PullRequestReviewEvent', 'actor': {'id': 8900251, 'login': 'onebytegone', 'display_login': 'onebytegone', 'gravatar_id': '', 'url': 'https://api.github.com/users/onebytegone', 'avatar_url': 'https://avatars.githubusercontent.com/u/8900251?'}, 'repo': {'id': 99160324, 'name': 'silvermine/dynamodb-table-sync', 'url': 'https://api.github.com/repos/silvermine/dynamodb-table-sync'}, 'payload': {'action': 'created', 'review': {'id': 1381195072, 'node_id': 'PRR_kwDOBekRBM5SU11A', 'user': {'login': 'onebytegone', 'id': 8900251, 'node_id': 'MDQ6VXNlcjg5MDAyNTE=', 'avatar_url': 'https://avatars.githubusercontent.com/u/8900251?v=4', 'gravatar_id': '', 'url': 'https://api.github.com/users/onebytegone', 'html_url': 'https://github.com/onebytegone', 'followers_url': 'https://api.github.com/users/onebytegone/followers', 'following_url': 'https://api.github.com/users/onebytegone/following{/other_user}', 'gists_url': 'https://api.github.com/users/onebytegone/gists{/gist_id}', 'starred_url': 'https://api.github.com/users/onebytegone/starred{/owner}{/repo}', 'subscriptions_url': 'https://api.github.com/users/onebytegone/subscriptions', 'organizations_url': 'https://api.github.com/users/onebytegone/orgs', 'repos_url': 'https://api.github.com/users/onebytegone/repos', 'events_url': 'https://api.github.com/users/onebytegone/events{/privacy}', 'received_events_url': 'https://api.github.com/users/onebytegone/received_events', 'type': 'User', 'site_admin': False}, 'body': '', 'commit_id': 'be169c92edb1bfe5c1e3cfae1ad3573ae0224c52', 'submitted_at': '2023-04-12T12:21:51Z', 'state': 'approved', 'html_url': 'https://github.com/silvermine/dynamodb-table-sync/pull/29#pullrequestreview-1381195072', 'pull_request_url': 'https://api.github.com/repos/silvermine/dynamodb-table-sync/pulls/29', 'author_association': 'CONTRIBUTOR', '_links': {'html': {'href': 'https://github.com/silvermine/dynamodb-table-sync/pull/29#pullrequestreview-1381195072'}, 'pull_request': {'href': 'https://api.github.com/repos/silvermine/dynamodb-table-sync/pulls/29'}}}, 'pull_request': {'url': 'https://api.github.com/repos/silvermine/dynamodb-table-sync/pulls/29', 'id': 1306172072, 'node_id': 'PR_kwDOBekRBM5N2pqo', 'html_url': 'https://github.com/silvermine/dynamodb-table-sync/pull/29', 'diff_url': 'https://github.com/silvermine/dynamodb-table-sync/pull/29.diff', 'patch_url': 'https://github.com/silvermine/dynamodb-table-sync/pull/29.patch', 'issue_url': 'https://api.github.com/repos/silvermine/dynamodb-table-sync/issues/29', 'number': 29, 'state': 'open', 'locked': False, 'title': 'ci: add GitHub Actions configuration', 'user': {'login': 'pbredenberg', 'id': 590757, 'node_id': 'MDQ6VXNlcjU5MDc1Nw==', 'avatar_url': 'https://avatars.githubusercontent.com/u/590757?v=4', 'gravatar_id': '', 'url': 'https://api.github.com/users/pbredenberg', 'html_url': 'https://github.com/pbredenberg', 'followers_url': 'https://api.github.com/users/pbredenberg/followers', 'following_url': 'https://api.github.com/users/pbredenberg/following{/other_user}', 'gists_url': 'https://api.github.com/users/pbredenberg/gists{/gist_id}', 'starred_url': 'https://api.github.com/users/pbredenberg/starred{/owner}{/repo}', 'subscriptions_url': 'https://api.github.com/users/pbredenberg/subscriptions', 'organizations_url': 'https://api.github.com/users/pbredenberg/orgs', 'repos_url': 'https://api.github.com/users/pbredenberg/repos', 'events_url': 'https://api.github.com/users/pbredenberg/events{/privacy}', 'received_events_url': 'https://api.github.com/users/pbredenberg/received_events', 'type': 'User', 'site_admin': False}, 'body': None, 'created_at': '2023-04-07T19:31:05Z', 'updated_at': '2023-04-12T12:21:51Z', 'closed_at': None, 'merged_at': None, 'merge_commit_sha': 'd6b7c2f8d6c1f19ba158d6d2847ca8181a009e88', 'assignee': None, 'assignees': [], 'requested_reviewers': [], 'requested_teams': [], 'labels': [], 'milestone': None, 'draft': False, 'commits_url': 'https://api.github.com/repos/silvermine/dynamodb-table-sync/pulls/29/commits', 'review_comments_url': 'https://api.github.com/repos/silvermine/dynamodb-table-sync/pulls/29/comments', 'review_comment_url': 'https://api.github.com/repos/silvermine/dynamodb-table-sync/pulls/comments{/number}', 'comments_url': 'https://api.github.com/repos/silvermine/dynamodb-table-sync/issues/29/comments', 'statuses_url': 'https://api.github.com/repos/silvermine/dynamodb-table-sync/statuses/be169c92edb1bfe5c1e3cfae1ad3573ae0224c52', 'head': {'label': 'pbredenberg:PB/ci-github-actions', 'ref': 'PB/ci-github-actions', 'sha': 'be169c92edb1bfe5c1e3cfae1ad3573ae0224c52', 'user': {'login': 'pbredenberg', 'id': 590757, 'node_id': 'MDQ6VXNlcjU5MDc1Nw==', 'avatar_url': 'https://avatars.githubusercontent.com/u/590757?v=4', 'gravatar_id': '', 'url': 'https://api.github.com/users/pbredenberg', 'html_url': 'https://github.com/pbredenberg', 'followers_url': 'https://api.github.com/users/pbredenberg/followers', 'following_url': 'https://api.github.com/users/pbredenberg/following{/other_user}', 'gists_url': 'https://api.github.com/users/pbredenberg/gists{/gist_id}', 'starred_url': 'https://api.github.com/users/pbredenberg/starred{/owner}{/repo}', 'subscriptions_url': 'https://api.github.com/users/pbredenberg/subscriptions', 'organizations_url': 'https://api.github.com/users/pbredenberg/orgs', 'repos_url': 'https://api.github.com/users/pbredenberg/repos', 'events_url': 'https://api.github.com/users/pbredenberg/events{/privacy}', 'received_events_url': 'https://api.github.com/users/pbredenberg/received_events', 'type': 'User', 'site_admin': False}, 'repo': {'id': 310017130, 'node_id': 'MDEwOlJlcG9zaXRvcnkzMTAwMTcxMzA=', 'name': 'dynamodb-table-sync', 'full_name': 'pbredenberg/dynamodb-table-sync', 'private': False, 'owner': {'login': 'pbredenberg', 'id': 590757, 'node_id': 'MDQ6VXNlcjU5MDc1Nw==', 'avatar_url': 'https://avatars.githubusercontent.com/u/590757?v=4', 'gravatar_id': '', 'url': 'https://api.github.com/users/pbredenberg', 'html_url': 'https://github.com/pbredenberg', 'followers_url': 'https://api.github.com/users/pbredenberg/followers', 'following_url': 'https://api.github.com/users/pbredenberg/following{/other_user}', 'gists_url': 'https://api.github.com/users/pbredenberg/gists{/gist_id}', 'starred_url': 'https://api.github.com/users/pbredenberg/starred{/owner}{/repo}', 'subscriptions_url': 'https://api.github.com/users/pbredenberg/subscriptions', 'organizations_url': 'https://api.github.com/users/pbredenberg/orgs', 'repos_url': 'https://api.github.com/users/pbredenberg/repos', 'events_url': 'https://api.github.com/users/pbredenberg/events{/privacy}', 'received_events_url': 'https://api.github.com/users/pbredenberg/received_events', 'type': 'User', 'site_admin': False}, 'html_url': 'https://github.com/pbredenberg/dynamodb-table-sync', 'description': None, 'fork': True, 'url': 'https://api.github.com/repos/pbredenberg/dynamodb-table-sync', 'forks_url': 'https://api.github.com/repos/pbredenberg/dynamodb-table-sync/forks', 'keys_url': 'https://api.github.com/repos/pbredenberg/dynamodb-table-sync/keys{/key_id}', 'collaborators_url': 'https://api.github.com/repos/pbredenberg/dynamodb-table-sync/collaborators{/collaborator}', 'teams_url': 'https://api.github.com/repos/pbredenberg/dynamodb-table-sync/teams', 'hooks_url': 'https://api.github.com/repos/pbredenberg/dynamodb-table-sync/hooks', 'issue_events_url': 'https://api.github.com/repos/pbredenberg/dynamodb-table-sync/issues/events{/number}', 'events_url': 'https://api.github.com/repos/pbredenberg/dynamodb-table-sync/events', 'assignees_url': 'https://api.github.com/repos/pbredenberg/dynamodb-table-sync/assignees{/user}', 'branches_url': 'https://api.github.com/repos/pbredenberg/dynamodb-table-sync/branches{/branch}', 'tags_url': 'https://api.github.com/repos/pbredenberg/dynamodb-table-sync/tags', 'blobs_url': 'https://api.github.com/repos/pbredenberg/dynamodb-table-sync/git/blobs{/sha}', 'git_tags_url': 'https://api.github.com/repos/pbredenberg/dynamodb-table-sync/git/tags{/sha}', 'git_refs_url': 'https://api.github.com/repos/pbredenberg/dynamodb-table-sync/git/refs{/sha}', 'trees_url': 'https://api.github.com/repos/pbredenberg/dynamodb-table-sync/git/trees{/sha}', 'statuses_url': 'https://api.github.com/repos/pbredenberg/dynamodb-table-sync/statuses/{sha}', 'languages_url': 'https://api.github.com/repos/pbredenberg/dynamodb-table-sync/languages', 'stargazers_url': 'https://api.github.com/repos/pbredenberg/dynamodb-table-sync/stargazers', 'contributors_url': 'https://api.github.com/repos/pbredenberg/dynamodb-table-sync/contributors', 'subscribers_url': 'https://api.github.com/repos/pbredenberg/dynamodb-table-sync/subscribers', 'subscription_url': 'https://api.github.com/repos/pbredenberg/dynamodb-table-sync/subscription', 'commits_url': 'https://api.github.com/repos/pbredenberg/dynamodb-table-sync/commits{/sha}', 'git_commits_url': 'https://api.github.com/repos/pbredenberg/dynamodb-table-sync/git/commits{/sha}', 'comments_url': 'https://api.github.com/repos/pbredenberg/dynamodb-table-sync/comments{/number}', 'issue_comment_url': 'https://api.github.com/repos/pbredenberg/dynamodb-table-sync/issues/comments{/number}', 'contents_url': 'https://api.github.com/repos/pbredenberg/dynamodb-table-sync/contents/{+path}', 'compare_url': 'https://api.github.com/repos/pbredenberg/dynamodb-table-sync/compare/{base}...{head}', 'merges_url': 'https://api.github.com/repos/pbredenberg/dynamodb-table-sync/merges', 'archive_url': 'https://api.github.com/repos/pbredenberg/dynamodb-table-sync/{archive_format}{/ref}', 'downloads_url': 'https://api.github.com/repos/pbredenberg/dynamodb-table-sync/downloads', 'issues_url': 'https://api.github.com/repos/pbredenberg/dynamodb-table-sync/issues{/number}', 'pulls_url': 'https://api.github.com/repos/pbredenberg/dynamodb-table-sync/pulls{/number}', 'milestones_url': 'https://api.github.com/repos/pbredenberg/dynamodb-table-sync/milestones{/number}', 'notifications_url': 'https://api.github.com/repos/pbredenberg/dynamodb-table-sync/notifications{?since,all,participating}', 'labels_url': 'https://api.github.com/repos/pbredenberg/dynamodb-table-sync/labels{/name}', 'releases_url': 'https://api.github.com/repos/pbredenberg/dynamodb-table-sync/releases{/id}', 'deployments_url': 'https://api.github.com/repos/pbredenberg/dynamodb-table-sync/deployments', 'created_at': '2020-11-04T13:52:24Z', 'updated_at': '2020-11-04T13:52:25Z', 'pushed_at': '2023-04-07T19:31:01Z', 'git_url': 'git://github.com/pbredenberg/dynamodb-table-sync.git', 'ssh_url': 'git@github.com:pbredenberg/dynamodb-table-sync.git', 'clone_url': 'https://github.com/pbredenberg/dynamodb-table-sync.git', 'svn_url': 'https://github.com/pbredenberg/dynamodb-table-sync', 'homepage': None, 'size': 553, 'stargazers_count': 0, 'watchers_count': 0, 'language': None, 'has_issues': False, 'has_projects': True, 'has_downloads': True, 'has_wiki': True, 'has_pages': False, 'has_discussions': False, 'forks_count': 0, 'mirror_url': None, 'archived': False, 'disabled': False, 'open_issues_count': 0, 'license': {'key': 'mit', 'name': 'MIT License', 'spdx_id': 'MIT', 'url': 'https://api.github.com/licenses/mit', 'node_id': 'MDc6TGljZW5zZTEz'}, 'allow_forking': True, 'is_template': False, 'web_commit_signoff_required': False, 'topics': [], 'visibility': 'public', 'forks': 0, 'open_issues': 0, 'watchers': 0, 'default_branch': 'master'}}, 'base': {'label': 'silvermine:master', 'ref': 'master', 'sha': '70968be09e9e34b57cecd6fd63e9f496c589dcff', 'user': {'login': 'silvermine', 'id': 3357606, 'node_id': 'MDEyOk9yZ2FuaXphdGlvbjMzNTc2MDY=', 'avatar_url': 'https://avatars.githubusercontent.com/u/3357606?v=4', 'gravatar_id': '', 'url': 'https://api.github.com/users/silvermine', 'html_url': 'https://github.com/silvermine', 'followers_url': 'https://api.github.com/users/silvermine/followers', 'following_url': 'https://api.github.com/users/silvermine/following{/other_user}', 'gists_url': 'https://api.github.com/users/silvermine/gists{/gist_id}', 'starred_url': 'https://api.github.com/users/silvermine/starred{/owner}{/repo}', 'subscriptions_url': 'https://api.github.com/users/silvermine/subscriptions', 'organizations_url': 'https://api.github.com/users/silvermine/orgs', 'repos_url': 'https://api.github.com/users/silvermine/repos', 'events_url': 'https://api.github.com/users/silvermine/events{/privacy}', 'received_events_url': 'https://api.github.com/users/silvermine/received_events', 'type': 'Organization', 'site_admin': False}, 'repo': {'id': 99160324, 'node_id': 'MDEwOlJlcG9zaXRvcnk5OTE2MDMyNA==', 'name': 'dynamodb-table-sync', 'full_name': 'silvermine/dynamodb-table-sync', 'private': False, 'owner': {'login': 'silvermine', 'id': 3357606, 'node_id': 'MDEyOk9yZ2FuaXphdGlvbjMzNTc2MDY=', 'avatar_url': 'https://avatars.githubusercontent.com/u/3357606?v=4', 'gravatar_id': '', 'url': 'https://api.github.com/users/silvermine', 'html_url': 'https://github.com/silvermine', 'followers_url': 'https://api.github.com/users/silvermine/followers', 'following_url': 'https://api.github.com/users/silvermine/following{/other_user}', 'gists_url': 'https://api.github.com/users/silvermine/gists{/gist_id}', 'starred_url': 'https://api.github.com/users/silvermine/starred{/owner}{/repo}', 'subscriptions_url': 'https://api.github.com/users/silvermine/subscriptions', 'organizations_url': 'https://api.github.com/users/silvermine/orgs', 'repos_url': 'https://api.github.com/users/silvermine/repos', 'events_url': 'https://api.github.com/users/silvermine/events{/privacy}', 'received_events_url': 'https://api.github.com/users/silvermine/received_events', 'type': 'Organization', 'site_admin': False}, 'html_url': 'https://github.com/silvermine/dynamodb-table-sync', 'description': None, 'fork': False, 'url': 'https://api.github.com/repos/silvermine/dynamodb-table-sync', 'forks_url': 'https://api.github.com/repos/silvermine/dynamodb-table-sync/forks', 'keys_url': 'https://api.github.com/repos/silvermine/dynamodb-table-sync/keys{/key_id}', 'collaborators_url': 'https://api.github.com/repos/silvermine/dynamodb-table-sync/collaborators{/collaborator}', 'teams_url': 'https://api.github.com/repos/silvermine/dynamodb-table-sync/teams', 'hooks_url': 'https://api.github.com/repos/silvermine/dynamodb-table-sync/hooks', 'issue_events_url': 'https://api.github.com/repos/silvermine/dynamodb-table-sync/issues/events{/number}', 'events_url': 'https://api.github.com/repos/silvermine/dynamodb-table-sync/events', 'assignees_url': 'https://api.github.com/repos/silvermine/dynamodb-table-sync/assignees{/user}', 'branches_url': 'https://api.github.com/repos/silvermine/dynamodb-table-sync/branches{/branch}', 'tags_url': 'https://api.github.com/repos/silvermine/dynamodb-table-sync/tags', 'blobs_url': 'https://api.github.com/repos/silvermine/dynamodb-table-sync/git/blobs{/sha}', 'git_tags_url': 'https://api.github.com/repos/silvermine/dynamodb-table-sync/git/tags{/sha}', 'git_refs_url': 'https://api.github.com/repos/silvermine/dynamodb-table-sync/git/refs{/sha}', 'trees_url': 'https://api.github.com/repos/silvermine/dynamodb-table-sync/git/trees{/sha}', 'statuses_url': 'https://api.github.com/repos/silvermine/dynamodb-table-sync/statuses/{sha}', 'languages_url': 'https://api.github.com/repos/silvermine/dynamodb-table-sync/languages', 'stargazers_url': 'https://api.github.com/repos/silvermine/dynamodb-table-sync/stargazers', 'contributors_url': 'https://api.github.com/repos/silvermine/dynamodb-table-sync/contributors', 'subscribers_url': 'https://api.github.com/repos/silvermine/dynamodb-table-sync/subscribers', 'subscription_url': 'https://api.github.com/repos/silvermine/dynamodb-table-sync/subscription', 'commits_url': 'https://api.github.com/repos/silvermine/dynamodb-table-sync/commits{/sha}', 'git_commits_url': 'https://api.github.com/repos/silvermine/dynamodb-table-sync/git/commits{/sha}', 'comments_url': 'https://api.github.com/repos/silvermine/dynamodb-table-sync/comments{/number}', 'issue_comment_url': 'https://api.github.com/repos/silvermine/dynamodb-table-sync/issues/comments{/number}', 'contents_url': 'https://api.github.com/repos/silvermine/dynamodb-table-sync/contents/{+path}', 'compare_url': 'https://api.github.com/repos/silvermine/dynamodb-table-sync/compare/{base}...{head}', 'merges_url': 'https://api.github.com/repos/silvermine/dynamodb-table-sync/merges', 'archive_url': 'https://api.github.com/repos/silvermine/dynamodb-table-sync/{archive_format}{/ref}', 'downloads_url': 'https://api.github.com/repos/silvermine/dynamodb-table-sync/downloads', 'issues_url': 'https://api.github.com/repos/silvermine/dynamodb-table-sync/issues{/number}', 'pulls_url': 'https://api.github.com/repos/silvermine/dynamodb-table-sync/pulls{/number}', 'milestones_url': 'https://api.github.com/repos/silvermine/dynamodb-table-sync/milestones{/number}', 'notifications_url': 'https://api.github.com/repos/silvermine/dynamodb-table-sync/notifications{?since,all,participating}', 'labels_url': 'https://api.github.com/repos/silvermine/dynamodb-table-sync/labels{/name}', 'releases_url': 'https://api.github.com/repos/silvermine/dynamodb-table-sync/releases{/id}', 'deployments_url': 'https://api.github.com/repos/silvermine/dynamodb-table-sync/deployments', 'created_at': '2017-08-02T20:58:35Z', 'updated_at': '2023-01-10T10:04:25Z', 'pushed_at': '2023-04-07T19:31:06Z', 'git_url': 'git://github.com/silvermine/dynamodb-table-sync.git', 'ssh_url': 'git@github.com:silvermine/dynamodb-table-sync.git', 'clone_url': 'https://github.com/silvermine/dynamodb-table-sync.git', 'svn_url': 'https://github.com/silvermine/dynamodb-table-sync', 'homepage': None, 'size': 510, 'stargazers_count': 40, 'watchers_count': 40, 'language': 'JavaScript', 'has_issues': True, 'has_projects': True, 'has_downloads': True, 'has_wiki': True, 'has_pages': False, 'has_discussions': False, 'forks_count': 14, 'mirror_url': None, 'archived': False, 'disabled': False, 'open_issues_count': 5, 'license': {'key': 'mit', 'name': 'MIT License', 'spdx_id': 'MIT', 'url': 'https://api.github.com/licenses/mit', 'node_id': 'MDc6TGljZW5zZTEz'}, 'allow_forking': True, 'is_template': False, 'web_commit_signoff_required': False, 'topics': [], 'visibility': 'public', 'forks': 14, 'open_issues': 5, 'watchers': 40, 'default_branch': 'master'}}, '_links': {'self': {'href': 'https://api.github.com/repos/silvermine/dynamodb-table-sync/pulls/29'}, 'html': {'href': 'https://github.com/silvermine/dynamodb-table-sync/pull/29'}, 'issue': {'href': 'https://api.github.com/repos/silvermine/dynamodb-table-sync/issues/29'}, 'comments': {'href': 'https://api.github.com/repos/silvermine/dynamodb-table-sync/issues/29/comments'}, 'review_comments': {'href': 'https://api.github.com/repos/silvermine/dynamodb-table-sync/pulls/29/comments'}, 'review_comment': {'href': 'https://api.github.com/repos/silvermine/dynamodb-table-sync/pulls/comments{/number}'}, 'commits': {'href': 'https://api.github.com/repos/silvermine/dynamodb-table-sync/pulls/29/commits'}, 'statuses': {'href': 'https://api.github.com/repos/silvermine/dynamodb-table-sync/statuses/be169c92edb1bfe5c1e3cfae1ad3573ae0224c52'}}, 'author_association': 'CONTRIBUTOR', 'auto_merge': None, 'active_lock_reason': None}}, 'public': True, 'created_at': '2023-04-12T12:21:52Z', 'org': {'id': 3357606, 'login': 'silvermine', 'gravatar_id': '', 'url': 'https://api.github.com/orgs/silvermine', 'avatar_url': 'https://avatars.githubusercontent.com/u/3357606?'}}, {'id': '28363321607', 'type': 'PullRequestEvent', 'actor': {'id': 83595468, 'login': 'prplecake', 'display_login': 'prplecake', 'gravatar_id': '', 'url': 'https://api.github.com/users/prplecake', 'avatar_url': 'https://avatars.githubusercontent.com/u/83595468?'}, 'repo': {'id': 445266306, 'name': 'prplecake/jrgnsn.net', 'url': 'https://api.github.com/repos/prplecake/jrgnsn.net'}, 'payload': {'action': 'closed', 'number': 32, 'pull_request': {'url': 'https://api.github.com/repos/prplecake/jrgnsn.net/pulls/32', 'id': 1310779783, 'node_id': 'PR_kwDOGoo5gs5OIOmH', 'html_url': 'https://github.com/prplecake/jrgnsn.net/pull/32', 'diff_url': 'https://github.com/prplecake/jrgnsn.net/pull/32.diff', 'patch_url': 'https://github.com/prplecake/jrgnsn.net/pull/32.patch', 'issue_url': 'https://api.github.com/repos/prplecake/jrgnsn.net/issues/32', 'number': 32, 'state': 'closed', 'locked': False, 'title': 'Bump actions/deploy-pages from 1 to 2', 'user': {'login': 'dependabot[bot]', 'id': 49699333, 'node_id': 'MDM6Qm90NDk2OTkzMzM=', 'avatar_url': 'https://avatars.githubusercontent.com/in/29110?v=4', 'gravatar_id': '', 'url': 'https://api.github.com/users/dependabot%5Bbot%5D', 'html_url': 'https://github.com/apps/dependabot', 'followers_url': 'https://api.github.com/users/dependabot%5Bbot%5D/followers', 'following_url': 'https://api.github.com/users/dependabot%5Bbot%5D/following{/other_user}', 'gists_url': 'https://api.github.com/users/dependabot%5Bbot%5D/gists{/gist_id}', 'starred_url': 'https://api.github.com/users/dependabot%5Bbot%5D/starred{/owner}{/repo}', 'subscriptions_url': 'https://api.github.com/users/dependabot%5Bbot%5D/subscriptions', 'organizations_url': 'https://api.github.com/users/dependabot%5Bbot%5D/orgs', 'repos_url': 'https://api.github.com/users/dependabot%5Bbot%5D/repos', 'events_url': 'https://api.github.com/users/dependabot%5Bbot%5D/events{/privacy}', 'received_events_url': 'https://api.github.com/users/dependabot%5Bbot%5D/received_events', 'type': 'Bot', 'site_admin': False}, 'body': 'Bumps [actions/deploy-pages](https://github.com/actions/deploy-pages) from 1 to 2.\\n<details>\\n<summary>Release notes</summary>\\n<p><em>Sourced from <a href=\"https://github.com/actions/deploy-pages/releases\">actions/deploy-pages\\'s releases</a>.</em></p>\\n<blockquote>\\n<h2>v2.0.0</h2>\\n<h1>Changelog</h1>\\n<ul>\\n<li><strong>REAPPLY:</strong> Update the deployment API endpoints used by the api-client module <a href=\"https://github.com/TooManyBees\"><code>@\\u200bTooManyBees</code></a> / <a href=\"https://github.com/JamesMGreene\"><code>@\\u200bJamesMGreene</code></a> (<a href=\"https://redirect.github.com/actions/deploy-pages/issues/140\">#140</a>)</li>\\n</ul>\\n<p>See details of <a href=\"https://github.com/actions/deploy-pages/compare/v1.2.8...v2.0.0\">all code changes</a> since previous release.</p>\\n<h2>v1.2.8</h2>\\n<p>⚠️ This release is essentially a revert of <a href=\"https://github.com/actions/deploy-pages/releases/v1.2.7\"><code>v1.2.7</code></a> and identical to the prior release <a href=\"https://github.com/actions/deploy-pages/releases/v1.2.6\"><code>v1.2.6</code></a>.</p>\\n<h1>Changelog</h1>\\n<ul>\\n<li>Revert shifted Deployments API endpoint usage <a href=\"https://github.com/JamesMGreene\"><code>@\\u200bJamesMGreene</code></a> (<a href=\"https://redirect.github.com/actions/deploy-pages/issues/139\">#139</a>)</li>\\n</ul>\\n<p>See details of <a href=\"https://github.com/actions/deploy-pages/compare/v1.2.7...v1.2.8\">all code changes</a> since previous release.</p>\\n<h2>v1.2.7</h2>\\n<h1>Changelog</h1>\\n<ul>\\n<li>Update the deployment API endpoints used by the api-client module <a href=\"https://github.com/TooManyBees\"><code>@\\u200bTooManyBees</code></a> (<a href=\"https://redirect.github.com/actions/deploy-pages/issues/136\">#136</a>)</li>\\n</ul>\\n<p>See details of <a href=\"https://github.com/actions/deploy-pages/compare/v1.2.6...v1.2.7\">all code changes</a> since previous release.</p>\\n<h2>v1.2.6</h2>\\n<h1>Changelog</h1>\\n<ul>\\n<li>Bump eslint from 8.35.0 to 8.36.0 <a href=\"https://github.com/dependabot\"><code>@\\u200bdependabot</code></a> (<a href=\"https://redirect.github.com/actions/deploy-pages/issues/133\">#133</a>)</li>\\n<li>Bump <code>@\\u200bactions/http-client</code> from 2.0.1 to 2.1.0 <a href=\"https://github.com/dependabot\"><code>@\\u200bdependabot</code></a> (<a href=\"https://redirect.github.com/actions/deploy-pages/issues/134\">#134</a>)</li>\\n</ul>\\n<p>See details of <a href=\"https://github.com/actions/deploy-pages/compare/v1.2.5...v1.2.6\">all code changes</a> since previous release.</p>\\n<h2>v1.2.5</h2>\\n<h1>Changelog</h1>\\n<ul>\\n<li>Use the <code>@actions/http-client</code> and <code>@actions/github</code> modules for proxy support <a href=\"https://github.com/JamesMGreene\"><code>@\\u200bJamesMGreene</code></a> (<a href=\"https://redirect.github.com/actions/deploy-pages/issues/124\">#124</a>)</li>\\n<li>Improve name of distributables checking workflow <a href=\"https://github.com/JamesMGreene\"><code>@\\u200bJamesMGreene</code></a> (<a href=\"https://redirect.github.com/actions/deploy-pages/issues/131\">#131</a>)</li>\\n<li>Bump eslint-config-prettier from 8.6.0 to 8.7.0 <a href=\"https://github.com/dependabot\"><code>@\\u200bdependabot</code></a> (<a href=\"https://redirect.github.com/actions/deploy-pages/issues/130\">#130</a>)</li>\\n<li>Bump jest from 29.4.3 to 29.5.0 <a href=\"https://github.com/dependabot\"><code>@\\u200bdependabot</code></a> (<a href=\"https://redirect.github.com/actions/deploy-pages/issues/129\">#129</a>)</li>\\n<li>Bump eslint from 8.34.0 to 8.35.0 <a href=\"https://github.com/dependabot\"><code>@\\u200bdependabot</code></a> (<a href=\"https://redirect.github.com/actions/deploy-pages/issues/127\">#127</a>)</li>\\n<li>Revise Dependabot rebuild workflow <a href=\"https://github.com/JamesMGreene\"><code>@\\u200bJamesMGreene</code></a> (<a href=\"https://redirect.github.com/actions/deploy-pages/issues/126\">#126</a>)</li>\\n<li>Deprecate the <code>conclusion</code> parameter for the Action <a href=\"https://github.com/JamesMGreene\"><code>@\\u200bJamesMGreene</code></a> (<a href=\"https://redirect.github.com/actions/deploy-pages/issues/125\">#125</a>)</li>\\n<li>Bump prettier from 2.8.3 to 2.8.4 <a href=\"https://github.com/dependabot\"><code>@\\u200bdependabot</code></a> (<a href=\"https://redirect.github.com/actions/deploy-pages/issues/123\">#123</a>)</li>\\n<li>Bump jest from 29.4.1 to 29.4.3 <a href=\"https://github.com/dependabot\"><code>@\\u200bdependabot</code></a> (<a href=\"https://redirect.github.com/actions/deploy-pages/issues/122\">#122</a>)</li>\\n<li>Bump eslint from 8.33.0 to 8.34.0 <a href=\"https://github.com/dependabot\"><code>@\\u200bdependabot</code></a> (<a href=\"https://redirect.github.com/actions/deploy-pages/issues/121\">#121</a>)</li>\\n<li>Separate use of Release Drafter <a href=\"https://github.com/JamesMGreene\"><code>@\\u200bJamesMGreene</code></a> (<a href=\"https://redirect.github.com/actions/deploy-pages/issues/119\">#119</a>)</li>\\n<li>Bump axios from 1.3.0 to 1.3.3 <a href=\"https://github.com/dependabot\"><code>@\\u200bdependabot</code></a> (<a href=\"https://redirect.github.com/actions/deploy-pages/issues/113\">#113</a>)</li>\\n<li>Bump eslint-plugin-github from 4.3.4 to 4.6.1 <a href=\"https://github.com/dependabot\"><code>@\\u200bdependabot</code></a> (<a href=\"https://redirect.github.com/actions/deploy-pages/issues/116\">#116</a>)</li>\\n<li>Update rebuilding workflow to utilize an org-owned PAT <a href=\"https://github.com/JamesMGreene\"><code>@\\u200bJamesMGreene</code></a> (<a href=\"https://redirect.github.com/actions/deploy-pages/issues/115\">#115</a>)</li>\\n<li>Bump nock from 13.2.0 to 13.3.0 <a href=\"https://github.com/dependabot\"><code>@\\u200bdependabot</code></a> (<a href=\"https://redirect.github.com/actions/deploy-pages/issues/104\">#104</a>)</li>\\n<li>Add a workflow to rebuild the distributables for Dependabot PRs <a href=\"https://github.com/JamesMGreene\"><code>@\\u200bJamesMGreene</code></a> (<a href=\"https://redirect.github.com/actions/deploy-pages/issues/110\">#110</a>)</li>\\n</ul>\\n<!-- raw HTML omitted -->\\n</blockquote>\\n<p>... (truncated)</p>\\n</details>\\n<details>\\n<summary>Commits</summary>\\n<ul>\\n<li><a href=\"https://github.com/actions/deploy-pages/commit/73e62e651178eeba977de2dc9f4c7645b3d01015\"><code>73e62e6</code></a> Merge pull request <a href=\"https://redirect.github.com/actions/deploy-pages/issues/140\">#140</a> from actions/cut-v2</li>\\n<li><a href=\"https://github.com/actions/deploy-pages/commit/b254707f5c3c910c335f3bcfd13a08eb14d18dca\"><code>b254707</code></a> Update the deployment API endpoints used by the api-client module</li>\\n<li>See full diff in <a href=\"https://github.com/actions/deploy-pages/compare/v1...v2\">compare view</a></li>\\n</ul>\\n</details>\\n<br />\\n\\n\\n[![Dependabot compatibility score](https://dependabot-badges.githubapp.com/badges/compatibility_score?dependency-name=actions/deploy-pages&package-manager=github_actions&previous-version=1&new-version=2)](https://docs.github.com/en/github/managing-security-vulnerabilities/about-dependabot-security-updates#about-compatibility-scores)\\n\\nDependabot will resolve any conflicts with this PR as long as you don\\'t alter it yourself. You can also trigger a rebase manually by commenting `@dependabot rebase`.\\n\\n[//]: # (dependabot-automerge-start)\\n[//]: # (dependabot-automerge-end)\\n\\n---\\n\\n<details>\\n<summary>Dependabot commands and options</summary>\\n<br />\\n\\nYou can trigger Dependabot actions by commenting on this PR:\\n- `@dependabot rebase` will rebase this PR\\n- `@dependabot recreate` will recreate this PR, overwriting any edits that have been made to it\\n- `@dependabot merge` will merge this PR after your CI passes on it\\n- `@dependabot squash and merge` will squash and merge this PR after your CI passes on it\\n- `@dependabot cancel merge` will cancel a previously requested merge and block automerging\\n- `@dependabot reopen` will reopen this PR if it is closed\\n- `@dependabot close` will close this PR and stop Dependabot recreating it. You can achieve the same result by closing it manually\\n- `@dependabot ignore this major version` will close this PR and stop Dependabot creating any more for this major version (unless you reopen the PR or upgrade to it yourself)\\n- `@dependabot ignore this minor version` will close this PR and stop Dependabot creating any more for this minor version (unless you reopen the PR or upgrade to it yourself)\\n- `@dependabot ignore this dependency` will close this PR and stop Dependabot creating any more for this dependency (unless you reopen the PR or upgrade to it yourself)\\n\\n\\n</details>', 'created_at': '2023-04-12T12:18:59Z', 'updated_at': '2023-04-12T12:21:51Z', 'closed_at': '2023-04-12T12:21:51Z', 'merged_at': '2023-04-12T12:21:51Z', 'merge_commit_sha': 'd0149157ff523161fff11a2974eb63fd4b15d71c', 'assignee': None, 'assignees': [], 'requested_reviewers': [], 'requested_teams': [], 'labels': [{'id': 3873559406, 'node_id': 'LA_kwDOGoo5gs7m4dNu', 'url': 'https://api.github.com/repos/prplecake/jrgnsn.net/labels/dependencies', 'name': 'dependencies', 'color': '0366d6', 'default': False, 'description': 'Pull requests that update a dependency file'}, {'id': 5380601208, 'node_id': 'LA_kwDOGoo5gs8AAAABQLV1eA', 'url': 'https://api.github.com/repos/prplecake/jrgnsn.net/labels/github_actions', 'name': 'github_actions', 'color': '000000', 'default': False, 'description': 'Pull requests that update GitHub Actions code'}], 'milestone': None, 'draft': False, 'commits_url': 'https://api.github.com/repos/prplecake/jrgnsn.net/pulls/32/commits', 'review_comments_url': 'https://api.github.com/repos/prplecake/jrgnsn.net/pulls/32/comments', 'review_comment_url': 'https://api.github.com/repos/prplecake/jrgnsn.net/pulls/comments{/number}', 'comments_url': 'https://api.github.com/repos/prplecake/jrgnsn.net/issues/32/comments', 'statuses_url': 'https://api.github.com/repos/prplecake/jrgnsn.net/statuses/26d54d43b2a5177b6e56b3a90230dfb10e17aec9', 'head': {'label': 'prplecake:dependabot/github_actions/actions/deploy-pages-2', 'ref': 'dependabot/github_actions/actions/deploy-pages-2', 'sha': '26d54d43b2a5177b6e56b3a90230dfb10e17aec9', 'user': {'login': 'prplecake', 'id': 83595468, 'node_id': 'MDQ6VXNlcjgzNTk1NDY4', 'avatar_url': 'https://avatars.githubusercontent.com/u/83595468?v=4', 'gravatar_id': '', 'url': 'https://api.github.com/users/prplecake', 'html_url': 'https://github.com/prplecake', 'followers_url': 'https://api.github.com/users/prplecake/followers', 'following_url': 'https://api.github.com/users/prplecake/following{/other_user}', 'gists_url': 'https://api.github.com/users/prplecake/gists{/gist_id}', 'starred_url': 'https://api.github.com/users/prplecake/starred{/owner}{/repo}', 'subscriptions_url': 'https://api.github.com/users/prplecake/subscriptions', 'organizations_url': 'https://api.github.com/users/prplecake/orgs', 'repos_url': 'https://api.github.com/users/prplecake/repos', 'events_url': 'https://api.github.com/users/prplecake/events{/privacy}', 'received_events_url': 'https://api.github.com/users/prplecake/received_events', 'type': 'User', 'site_admin': False}, 'repo': {'id': 445266306, 'node_id': 'R_kgDOGoo5gg', 'name': 'jrgnsn.net', 'full_name': 'prplecake/jrgnsn.net', 'private': False, 'owner': {'login': 'prplecake', 'id': 83595468, 'node_id': 'MDQ6VXNlcjgzNTk1NDY4', 'avatar_url': 'https://avatars.githubusercontent.com/u/83595468?v=4', 'gravatar_id': '', 'url': 'https://api.github.com/users/prplecake', 'html_url': 'https://github.com/prplecake', 'followers_url': 'https://api.github.com/users/prplecake/followers', 'following_url': 'https://api.github.com/users/prplecake/following{/other_user}', 'gists_url': 'https://api.github.com/users/prplecake/gists{/gist_id}', 'starred_url': 'https://api.github.com/users/prplecake/starred{/owner}{/repo}', 'subscriptions_url': 'https://api.github.com/users/prplecake/subscriptions', 'organizations_url': 'https://api.github.com/users/prplecake/orgs', 'repos_url': 'https://api.github.com/users/prplecake/repos', 'events_url': 'https://api.github.com/users/prplecake/events{/privacy}', 'received_events_url': 'https://api.github.com/users/prplecake/received_events', 'type': 'User', 'site_admin': False}, 'html_url': 'https://github.com/prplecake/jrgnsn.net', 'description': 'My personal website and blog.', 'fork': False, 'url': 'https://api.github.com/repos/prplecake/jrgnsn.net', 'forks_url': 'https://api.github.com/repos/prplecake/jrgnsn.net/forks', 'keys_url': 'https://api.github.com/repos/prplecake/jrgnsn.net/keys{/key_id}', 'collaborators_url': 'https://api.github.com/repos/prplecake/jrgnsn.net/collaborators{/collaborator}', 'teams_url': 'https://api.github.com/repos/prplecake/jrgnsn.net/teams', 'hooks_url': 'https://api.github.com/repos/prplecake/jrgnsn.net/hooks', 'issue_events_url': 'https://api.github.com/repos/prplecake/jrgnsn.net/issues/events{/number}', 'events_url': 'https://api.github.com/repos/prplecake/jrgnsn.net/events', 'assignees_url': 'https://api.github.com/repos/prplecake/jrgnsn.net/assignees{/user}', 'branches_url': 'https://api.github.com/repos/prplecake/jrgnsn.net/branches{/branch}', 'tags_url': 'https://api.github.com/repos/prplecake/jrgnsn.net/tags', 'blobs_url': 'https://api.github.com/repos/prplecake/jrgnsn.net/git/blobs{/sha}', 'git_tags_url': 'https://api.github.com/repos/prplecake/jrgnsn.net/git/tags{/sha}', 'git_refs_url': 'https://api.github.com/repos/prplecake/jrgnsn.net/git/refs{/sha}', 'trees_url': 'https://api.github.com/repos/prplecake/jrgnsn.net/git/trees{/sha}', 'statuses_url': 'https://api.github.com/repos/prplecake/jrgnsn.net/statuses/{sha}', 'languages_url': 'https://api.github.com/repos/prplecake/jrgnsn.net/languages', 'stargazers_url': 'https://api.github.com/repos/prplecake/jrgnsn.net/stargazers', 'contributors_url': 'https://api.github.com/repos/prplecake/jrgnsn.net/contributors', 'subscribers_url': 'https://api.github.com/repos/prplecake/jrgnsn.net/subscribers', 'subscription_url': 'https://api.github.com/repos/prplecake/jrgnsn.net/subscription', 'commits_url': 'https://api.github.com/repos/prplecake/jrgnsn.net/commits{/sha}', 'git_commits_url': 'https://api.github.com/repos/prplecake/jrgnsn.net/git/commits{/sha}', 'comments_url': 'https://api.github.com/repos/prplecake/jrgnsn.net/comments{/number}', 'issue_comment_url': 'https://api.github.com/repos/prplecake/jrgnsn.net/issues/comments{/number}', 'contents_url': 'https://api.github.com/repos/prplecake/jrgnsn.net/contents/{+path}', 'compare_url': 'https://api.github.com/repos/prplecake/jrgnsn.net/compare/{base}...{head}', 'merges_url': 'https://api.github.com/repos/prplecake/jrgnsn.net/merges', 'archive_url': 'https://api.github.com/repos/prplecake/jrgnsn.net/{archive_format}{/ref}', 'downloads_url': 'https://api.github.com/repos/prplecake/jrgnsn.net/downloads', 'issues_url': 'https://api.github.com/repos/prplecake/jrgnsn.net/issues{/number}', 'pulls_url': 'https://api.github.com/repos/prplecake/jrgnsn.net/pulls{/number}', 'milestones_url': 'https://api.github.com/repos/prplecake/jrgnsn.net/milestones{/number}', 'notifications_url': 'https://api.github.com/repos/prplecake/jrgnsn.net/notifications{?since,all,participating}', 'labels_url': 'https://api.github.com/repos/prplecake/jrgnsn.net/labels{/name}', 'releases_url': 'https://api.github.com/repos/prplecake/jrgnsn.net/releases{/id}', 'deployments_url': 'https://api.github.com/repos/prplecake/jrgnsn.net/deployments', 'created_at': '2022-01-06T18:09:17Z', 'updated_at': '2022-03-05T03:44:59Z', 'pushed_at': '2023-04-12T12:21:51Z', 'git_url': 'git://github.com/prplecake/jrgnsn.net.git', 'ssh_url': 'git@github.com:prplecake/jrgnsn.net.git', 'clone_url': 'https://github.com/prplecake/jrgnsn.net.git', 'svn_url': 'https://github.com/prplecake/jrgnsn.net', 'homepage': 'https://jrgnsn.net', 'size': 2517, 'stargazers_count': 0, 'watchers_count': 0, 'language': 'HTML', 'has_issues': True, 'has_projects': False, 'has_downloads': True, 'has_wiki': False, 'has_pages': True, 'has_discussions': False, 'forks_count': 0, 'mirror_url': None, 'archived': False, 'disabled': False, 'open_issues_count': 4, 'license': {'key': 'other', 'name': 'Other', 'spdx_id': 'NOASSERTION', 'url': None, 'node_id': 'MDc6TGljZW5zZTA='}, 'allow_forking': True, 'is_template': False, 'web_commit_signoff_required': False, 'topics': ['blog', 'jekyll', 'personal-website'], 'visibility': 'public', 'forks': 0, 'open_issues': 4, 'watchers': 0, 'default_branch': 'master'}}, 'base': {'label': 'prplecake:master', 'ref': 'master', 'sha': 'cf010191cbbb6542ae9a9e35296686f5e43b14af', 'user': {'login': 'prplecake', 'id': 83595468, 'node_id': 'MDQ6VXNlcjgzNTk1NDY4', 'avatar_url': 'https://avatars.githubusercontent.com/u/83595468?v=4', 'gravatar_id': '', 'url': 'https://api.github.com/users/prplecake', 'html_url': 'https://github.com/prplecake', 'followers_url': 'https://api.github.com/users/prplecake/followers', 'following_url': 'https://api.github.com/users/prplecake/following{/other_user}', 'gists_url': 'https://api.github.com/users/prplecake/gists{/gist_id}', 'starred_url': 'https://api.github.com/users/prplecake/starred{/owner}{/repo}', 'subscriptions_url': 'https://api.github.com/users/prplecake/subscriptions', 'organizations_url': 'https://api.github.com/users/prplecake/orgs', 'repos_url': 'https://api.github.com/users/prplecake/repos', 'events_url': 'https://api.github.com/users/prplecake/events{/privacy}', 'received_events_url': 'https://api.github.com/users/prplecake/received_events', 'type': 'User', 'site_admin': False}, 'repo': {'id': 445266306, 'node_id': 'R_kgDOGoo5gg', 'name': 'jrgnsn.net', 'full_name': 'prplecake/jrgnsn.net', 'private': False, 'owner': {'login': 'prplecake', 'id': 83595468, 'node_id': 'MDQ6VXNlcjgzNTk1NDY4', 'avatar_url': 'https://avatars.githubusercontent.com/u/83595468?v=4', 'gravatar_id': '', 'url': 'https://api.github.com/users/prplecake', 'html_url': 'https://github.com/prplecake', 'followers_url': 'https://api.github.com/users/prplecake/followers', 'following_url': 'https://api.github.com/users/prplecake/following{/other_user}', 'gists_url': 'https://api.github.com/users/prplecake/gists{/gist_id}', 'starred_url': 'https://api.github.com/users/prplecake/starred{/owner}{/repo}', 'subscriptions_url': 'https://api.github.com/users/prplecake/subscriptions', 'organizations_url': 'https://api.github.com/users/prplecake/orgs', 'repos_url': 'https://api.github.com/users/prplecake/repos', 'events_url': 'https://api.github.com/users/prplecake/events{/privacy}', 'received_events_url': 'https://api.github.com/users/prplecake/received_events', 'type': 'User', 'site_admin': False}, 'html_url': 'https://github.com/prplecake/jrgnsn.net', 'description': 'My personal website and blog.', 'fork': False, 'url': 'https://api.github.com/repos/prplecake/jrgnsn.net', 'forks_url': 'https://api.github.com/repos/prplecake/jrgnsn.net/forks', 'keys_url': 'https://api.github.com/repos/prplecake/jrgnsn.net/keys{/key_id}', 'collaborators_url': 'https://api.github.com/repos/prplecake/jrgnsn.net/collaborators{/collaborator}', 'teams_url': 'https://api.github.com/repos/prplecake/jrgnsn.net/teams', 'hooks_url': 'https://api.github.com/repos/prplecake/jrgnsn.net/hooks', 'issue_events_url': 'https://api.github.com/repos/prplecake/jrgnsn.net/issues/events{/number}', 'events_url': 'https://api.github.com/repos/prplecake/jrgnsn.net/events', 'assignees_url': 'https://api.github.com/repos/prplecake/jrgnsn.net/assignees{/user}', 'branches_url': 'https://api.github.com/repos/prplecake/jrgnsn.net/branches{/branch}', 'tags_url': 'https://api.github.com/repos/prplecake/jrgnsn.net/tags', 'blobs_url': 'https://api.github.com/repos/prplecake/jrgnsn.net/git/blobs{/sha}', 'git_tags_url': 'https://api.github.com/repos/prplecake/jrgnsn.net/git/tags{/sha}', 'git_refs_url': 'https://api.github.com/repos/prplecake/jrgnsn.net/git/refs{/sha}', 'trees_url': 'https://api.github.com/repos/prplecake/jrgnsn.net/git/trees{/sha}', 'statuses_url': 'https://api.github.com/repos/prplecake/jrgnsn.net/statuses/{sha}', 'languages_url': 'https://api.github.com/repos/prplecake/jrgnsn.net/languages', 'stargazers_url': 'https://api.github.com/repos/prplecake/jrgnsn.net/stargazers', 'contributors_url': 'https://api.github.com/repos/prplecake/jrgnsn.net/contributors', 'subscribers_url': 'https://api.github.com/repos/prplecake/jrgnsn.net/subscribers', 'subscription_url': 'https://api.github.com/repos/prplecake/jrgnsn.net/subscription', 'commits_url': 'https://api.github.com/repos/prplecake/jrgnsn.net/commits{/sha}', 'git_commits_url': 'https://api.github.com/repos/prplecake/jrgnsn.net/git/commits{/sha}', 'comments_url': 'https://api.github.com/repos/prplecake/jrgnsn.net/comments{/number}', 'issue_comment_url': 'https://api.github.com/repos/prplecake/jrgnsn.net/issues/comments{/number}', 'contents_url': 'https://api.github.com/repos/prplecake/jrgnsn.net/contents/{+path}', 'compare_url': 'https://api.github.com/repos/prplecake/jrgnsn.net/compare/{base}...{head}', 'merges_url': 'https://api.github.com/repos/prplecake/jrgnsn.net/merges', 'archive_url': 'https://api.github.com/repos/prplecake/jrgnsn.net/{archive_format}{/ref}', 'downloads_url': 'https://api.github.com/repos/prplecake/jrgnsn.net/downloads', 'issues_url': 'https://api.github.com/repos/prplecake/jrgnsn.net/issues{/number}', 'pulls_url': 'https://api.github.com/repos/prplecake/jrgnsn.net/pulls{/number}', 'milestones_url': 'https://api.github.com/repos/prplecake/jrgnsn.net/milestones{/number}', 'notifications_url': 'https://api.github.com/repos/prplecake/jrgnsn.net/notifications{?since,all,participating}', 'labels_url': 'https://api.github.com/repos/prplecake/jrgnsn.net/labels{/name}', 'releases_url': 'https://api.github.com/repos/prplecake/jrgnsn.net/releases{/id}', 'deployments_url': 'https://api.github.com/repos/prplecake/jrgnsn.net/deployments', 'created_at': '2022-01-06T18:09:17Z', 'updated_at': '2022-03-05T03:44:59Z', 'pushed_at': '2023-04-12T12:21:51Z', 'git_url': 'git://github.com/prplecake/jrgnsn.net.git', 'ssh_url': 'git@github.com:prplecake/jrgnsn.net.git', 'clone_url': 'https://github.com/prplecake/jrgnsn.net.git', 'svn_url': 'https://github.com/prplecake/jrgnsn.net', 'homepage': 'https://jrgnsn.net', 'size': 2517, 'stargazers_count': 0, 'watchers_count': 0, 'language': 'HTML', 'has_issues': True, 'has_projects': False, 'has_downloads': True, 'has_wiki': False, 'has_pages': True, 'has_discussions': False, 'forks_count': 0, 'mirror_url': None, 'archived': False, 'disabled': False, 'open_issues_count': 4, 'license': {'key': 'other', 'name': 'Other', 'spdx_id': 'NOASSERTION', 'url': None, 'node_id': 'MDc6TGljZW5zZTA='}, 'allow_forking': True, 'is_template': False, 'web_commit_signoff_required': False, 'topics': ['blog', 'jekyll', 'personal-website'], 'visibility': 'public', 'forks': 0, 'open_issues': 4, 'watchers': 0, 'default_branch': 'master'}}, '_links': {'self': {'href': 'https://api.github.com/repos/prplecake/jrgnsn.net/pulls/32'}, 'html': {'href': 'https://github.com/prplecake/jrgnsn.net/pull/32'}, 'issue': {'href': 'https://api.github.com/repos/prplecake/jrgnsn.net/issues/32'}, 'comments': {'href': 'https://api.github.com/repos/prplecake/jrgnsn.net/issues/32/comments'}, 'review_comments': {'href': 'https://api.github.com/repos/prplecake/jrgnsn.net/pulls/32/comments'}, 'review_comment': {'href': 'https://api.github.com/repos/prplecake/jrgnsn.net/pulls/comments{/number}'}, 'commits': {'href': 'https://api.github.com/repos/prplecake/jrgnsn.net/pulls/32/commits'}, 'statuses': {'href': 'https://api.github.com/repos/prplecake/jrgnsn.net/statuses/26d54d43b2a5177b6e56b3a90230dfb10e17aec9'}}, 'author_association': 'CONTRIBUTOR', 'auto_merge': {'enabled_by': {'login': 'prplecake', 'id': 83595468, 'node_id': 'MDQ6VXNlcjgzNTk1NDY4', 'avatar_url': 'https://avatars.githubusercontent.com/u/83595468?v=4', 'gravatar_id': '', 'url': 'https://api.github.com/users/prplecake', 'html_url': 'https://github.com/prplecake', 'followers_url': 'https://api.github.com/users/prplecake/followers', 'following_url': 'https://api.github.com/users/prplecake/following{/other_user}', 'gists_url': 'https://api.github.com/users/prplecake/gists{/gist_id}', 'starred_url': 'https://api.github.com/users/prplecake/starred{/owner}{/repo}', 'subscriptions_url': 'https://api.github.com/users/prplecake/subscriptions', 'organizations_url': 'https://api.github.com/users/prplecake/orgs', 'repos_url': 'https://api.github.com/users/prplecake/repos', 'events_url': 'https://api.github.com/users/prplecake/events{/privacy}', 'received_events_url': 'https://api.github.com/users/prplecake/received_events', 'type': 'User', 'site_admin': False}, 'merge_method': 'merge', 'commit_title': 'Merge pull request #32 from prplecake/dependabot/github_actions/actions/deploy-pages-2', 'commit_message': ''}, 'active_lock_reason': None, 'merged': True, 'mergeable': False, 'rebaseable': False, 'mergeable_state': 'dirty', 'merged_by': {'login': 'prplecake', 'id': 83595468, 'node_id': 'MDQ6VXNlcjgzNTk1NDY4', 'avatar_url': 'https://avatars.githubusercontent.com/u/83595468?v=4', 'gravatar_id': '', 'url': 'https://api.github.com/users/prplecake', 'html_url': 'https://github.com/prplecake', 'followers_url': 'https://api.github.com/users/prplecake/followers', 'following_url': 'https://api.github.com/users/prplecake/following{/other_user}', 'gists_url': 'https://api.github.com/users/prplecake/gists{/gist_id}', 'starred_url': 'https://api.github.com/users/prplecake/starred{/owner}{/repo}', 'subscriptions_url': 'https://api.github.com/users/prplecake/subscriptions', 'organizations_url': 'https://api.github.com/users/prplecake/orgs', 'repos_url': 'https://api.github.com/users/prplecake/repos', 'events_url': 'https://api.github.com/users/prplecake/events{/privacy}', 'received_events_url': 'https://api.github.com/users/prplecake/received_events', 'type': 'User', 'site_admin': False}, 'comments': 0, 'review_comments': 0, 'maintainer_can_modify': False, 'commits': 1, 'additions': 1, 'deletions': 1, 'changed_files': 1}}, 'public': True, 'created_at': '2023-04-12T12:21:52Z'}, {'id': '28363321597', 'type': 'PushEvent', 'actor': {'id': 41898282, 'login': 'github-actions[bot]', 'display_login': 'github-actions', 'gravatar_id': '', 'url': 'https://api.github.com/users/github-actions[bot]', 'avatar_url': 'https://avatars.githubusercontent.com/u/41898282?'}, 'repo': {'id': 562080230, 'name': 'mengisok/mengisok', 'url': 'https://api.github.com/repos/mengisok/mengisok'}, 'payload': {'repository_id': 562080230, 'push_id': 13272812688, 'size': 1, 'distinct_size': 1, 'ref': 'refs/heads/main', 'head': '5cdd11e1a710915dd1558ed1297edd8cf7fab5a7', 'before': '3cfbd31a8a1b2dd5c1a36aff91ffcd79dbc377e0', 'commits': [{'sha': '5cdd11e1a710915dd1558ed1297edd8cf7fab5a7', 'author': {'email': '41898282+github-actions[bot]@users.noreply.github.com', 'name': 'github-actions[bot]'}, 'message': 'Update github-metrics.svg - [Skip GitHub Action]', 'distinct': True, 'url': 'https://api.github.com/repos/mengisok/mengisok/commits/5cdd11e1a710915dd1558ed1297edd8cf7fab5a7'}]}, 'public': True, 'created_at': '2023-04-12T12:21:52Z'}, {'id': '28363321572', 'type': 'WatchEvent', 'actor': {'id': 12511770, 'login': 'J45k4', 'display_login': 'J45k4', 'gravatar_id': '', 'url': 'https://api.github.com/users/J45k4', 'avatar_url': 'https://avatars.githubusercontent.com/u/12511770?'}, 'repo': {'id': 395658506, 'name': 'WithSecureLabs/chainsaw', 'url': 'https://api.github.com/repos/WithSecureLabs/chainsaw'}, 'payload': {'action': 'started'}, 'public': True, 'created_at': '2023-04-12T12:21:52Z', 'org': {'id': 99874690, 'login': 'WithSecureLabs', 'gravatar_id': '', 'url': 'https://api.github.com/orgs/WithSecureLabs', 'avatar_url': 'https://avatars.githubusercontent.com/u/99874690?'}}, {'id': '28363321636', 'type': 'PullRequestEvent', 'actor': {'id': 95857471, 'login': 'AnatolyKraev', 'display_login': 'AnatolyKraev', 'gravatar_id': '', 'url': 'https://api.github.com/users/AnatolyKraev', 'avatar_url': 'https://avatars.githubusercontent.com/u/95857471?'}, 'repo': {'id': 181684023, 'name': 'yandex-cloud/examples', 'url': 'https://api.github.com/repos/yandex-cloud/examples'}, 'payload': {'action': 'opened', 'number': 185, 'pull_request': {'url': 'https://api.github.com/repos/yandex-cloud/examples/pulls/185', 'id': 1310783438, 'node_id': 'PR_kwDOCtRHN85OIPfO', 'html_url': 'https://github.com/yandex-cloud/examples/pull/185', 'diff_url': 'https://github.com/yandex-cloud/examples/pull/185.diff', 'patch_url': 'https://github.com/yandex-cloud/examples/pull/185.patch', 'issue_url': 'https://api.github.com/repos/yandex-cloud/examples/issues/185', 'number': 185, 'state': 'open', 'locked': False, 'title': '[WIP] YCDOCIO-2562: add mkf-mmg-data-transfer terraform file', 'user': {'login': 'AnatolyKraev', 'id': 95857471, 'node_id': 'U_kgDOBbarPw', 'avatar_url': 'https://avatars.githubusercontent.com/u/95857471?v=4', 'gravatar_id': '', 'url': 'https://api.github.com/users/AnatolyKraev', 'html_url': 'https://github.com/AnatolyKraev', 'followers_url': 'https://api.github.com/users/AnatolyKraev/followers', 'following_url': 'https://api.github.com/users/AnatolyKraev/following{/other_user}', 'gists_url': 'https://api.github.com/users/AnatolyKraev/gists{/gist_id}', 'starred_url': 'https://api.github.com/users/AnatolyKraev/starred{/owner}{/repo}', 'subscriptions_url': 'https://api.github.com/users/AnatolyKraev/subscriptions', 'organizations_url': 'https://api.github.com/users/AnatolyKraev/orgs', 'repos_url': 'https://api.github.com/users/AnatolyKraev/repos', 'events_url': 'https://api.github.com/users/AnatolyKraev/events{/privacy}', 'received_events_url': 'https://api.github.com/users/AnatolyKraev/received_events', 'type': 'User', 'site_admin': False}, 'body': 'add mkf-mmg-data-transfer terraform file\\r\\n\\r\\nhttps://st.yandex-team.ru/YCDOCIO-2562', 'created_at': '2023-04-12T12:21:51Z', 'updated_at': '2023-04-12T12:21:51Z', 'closed_at': None, 'merged_at': None, 'merge_commit_sha': None, 'assignee': None, 'assignees': [], 'requested_reviewers': [], 'requested_teams': [], 'labels': [], 'milestone': None, 'draft': False, 'commits_url': 'https://api.github.com/repos/yandex-cloud/examples/pulls/185/commits', 'review_comments_url': 'https://api.github.com/repos/yandex-cloud/examples/pulls/185/comments', 'review_comment_url': 'https://api.github.com/repos/yandex-cloud/examples/pulls/comments{/number}', 'comments_url': 'https://api.github.com/repos/yandex-cloud/examples/issues/185/comments', 'statuses_url': 'https://api.github.com/repos/yandex-cloud/examples/statuses/2a52a1be1872c0d22a381f71d0f2e8b12db33339', 'head': {'label': 'documentat:YCDOCIO-2562-mkf-mmg-data-transfer', 'ref': 'YCDOCIO-2562-mkf-mmg-data-transfer', 'sha': '2a52a1be1872c0d22a381f71d0f2e8b12db33339', 'user': {'login': 'documentat', 'id': 65594417, 'node_id': 'MDEyOk9yZ2FuaXphdGlvbjY1NTk0NDE3', 'avatar_url': 'https://avatars.githubusercontent.com/u/65594417?v=4', 'gravatar_id': '', 'url': 'https://api.github.com/users/documentat', 'html_url': 'https://github.com/documentat', 'followers_url': 'https://api.github.com/users/documentat/followers', 'following_url': 'https://api.github.com/users/documentat/following{/other_user}', 'gists_url': 'https://api.github.com/users/documentat/gists{/gist_id}', 'starred_url': 'https://api.github.com/users/documentat/starred{/owner}{/repo}', 'subscriptions_url': 'https://api.github.com/users/documentat/subscriptions', 'organizations_url': 'https://api.github.com/users/documentat/orgs', 'repos_url': 'https://api.github.com/users/documentat/repos', 'events_url': 'https://api.github.com/users/documentat/events{/privacy}', 'received_events_url': 'https://api.github.com/users/documentat/received_events', 'type': 'Organization', 'site_admin': False}, 'repo': {'id': 475820016, 'node_id': 'R_kgDOHFxv8A', 'name': 'yandex-cloud-examples', 'full_name': 'documentat/yandex-cloud-examples', 'private': False, 'owner': {'login': 'documentat', 'id': 65594417, 'node_id': 'MDEyOk9yZ2FuaXphdGlvbjY1NTk0NDE3', 'avatar_url': 'https://avatars.githubusercontent.com/u/65594417?v=4', 'gravatar_id': '', 'url': 'https://api.github.com/users/documentat', 'html_url': 'https://github.com/documentat', 'followers_url': 'https://api.github.com/users/documentat/followers', 'following_url': 'https://api.github.com/users/documentat/following{/other_user}', 'gists_url': 'https://api.github.com/users/documentat/gists{/gist_id}', 'starred_url': 'https://api.github.com/users/documentat/starred{/owner}{/repo}', 'subscriptions_url': 'https://api.github.com/users/documentat/subscriptions', 'organizations_url': 'https://api.github.com/users/documentat/orgs', 'repos_url': 'https://api.github.com/users/documentat/repos', 'events_url': 'https://api.github.com/users/documentat/events{/privacy}', 'received_events_url': 'https://api.github.com/users/documentat/received_events', 'type': 'Organization', 'site_admin': False}, 'html_url': 'https://github.com/documentat/yandex-cloud-examples', 'description': 'Examples of code, configuration files etc. to be used with Yandex Cloud.', 'fork': True, 'url': 'https://api.github.com/repos/documentat/yandex-cloud-examples', 'forks_url': 'https://api.github.com/repos/documentat/yandex-cloud-examples/forks', 'keys_url': 'https://api.github.com/repos/documentat/yandex-cloud-examples/keys{/key_id}', 'collaborators_url': 'https://api.github.com/repos/documentat/yandex-cloud-examples/collaborators{/collaborator}', 'teams_url': 'https://api.github.com/repos/documentat/yandex-cloud-examples/teams', 'hooks_url': 'https://api.github.com/repos/documentat/yandex-cloud-examples/hooks', 'issue_events_url': 'https://api.github.com/repos/documentat/yandex-cloud-examples/issues/events{/number}', 'events_url': 'https://api.github.com/repos/documentat/yandex-cloud-examples/events', 'assignees_url': 'https://api.github.com/repos/documentat/yandex-cloud-examples/assignees{/user}', 'branches_url': 'https://api.github.com/repos/documentat/yandex-cloud-examples/branches{/branch}', 'tags_url': 'https://api.github.com/repos/documentat/yandex-cloud-examples/tags', 'blobs_url': 'https://api.github.com/repos/documentat/yandex-cloud-examples/git/blobs{/sha}', 'git_tags_url': 'https://api.github.com/repos/documentat/yandex-cloud-examples/git/tags{/sha}', 'git_refs_url': 'https://api.github.com/repos/documentat/yandex-cloud-examples/git/refs{/sha}', 'trees_url': 'https://api.github.com/repos/documentat/yandex-cloud-examples/git/trees{/sha}', 'statuses_url': 'https://api.github.com/repos/documentat/yandex-cloud-examples/statuses/{sha}', 'languages_url': 'https://api.github.com/repos/documentat/yandex-cloud-examples/languages', 'stargazers_url': 'https://api.github.com/repos/documentat/yandex-cloud-examples/stargazers', 'contributors_url': 'https://api.github.com/repos/documentat/yandex-cloud-examples/contributors', 'subscribers_url': 'https://api.github.com/repos/documentat/yandex-cloud-examples/subscribers', 'subscription_url': 'https://api.github.com/repos/documentat/yandex-cloud-examples/subscription', 'commits_url': 'https://api.github.com/repos/documentat/yandex-cloud-examples/commits{/sha}', 'git_commits_url': 'https://api.github.com/repos/documentat/yandex-cloud-examples/git/commits{/sha}', 'comments_url': 'https://api.github.com/repos/documentat/yandex-cloud-examples/comments{/number}', 'issue_comment_url': 'https://api.github.com/repos/documentat/yandex-cloud-examples/issues/comments{/number}', 'contents_url': 'https://api.github.com/repos/documentat/yandex-cloud-examples/contents/{+path}', 'compare_url': 'https://api.github.com/repos/documentat/yandex-cloud-examples/compare/{base}...{head}', 'merges_url': 'https://api.github.com/repos/documentat/yandex-cloud-examples/merges', 'archive_url': 'https://api.github.com/repos/documentat/yandex-cloud-examples/{archive_format}{/ref}', 'downloads_url': 'https://api.github.com/repos/documentat/yandex-cloud-examples/downloads', 'issues_url': 'https://api.github.com/repos/documentat/yandex-cloud-examples/issues{/number}', 'pulls_url': 'https://api.github.com/repos/documentat/yandex-cloud-examples/pulls{/number}', 'milestones_url': 'https://api.github.com/repos/documentat/yandex-cloud-examples/milestones{/number}', 'notifications_url': 'https://api.github.com/repos/documentat/yandex-cloud-examples/notifications{?since,all,participating}', 'labels_url': 'https://api.github.com/repos/documentat/yandex-cloud-examples/labels{/name}', 'releases_url': 'https://api.github.com/repos/documentat/yandex-cloud-examples/releases{/id}', 'deployments_url': 'https://api.github.com/repos/documentat/yandex-cloud-examples/deployments', 'created_at': '2022-03-30T10:01:57Z', 'updated_at': '2022-04-22T08:50:12Z', 'pushed_at': '2023-04-12T12:21:31Z', 'git_url': 'git://github.com/documentat/yandex-cloud-examples.git', 'ssh_url': 'git@github.com:documentat/yandex-cloud-examples.git', 'clone_url': 'https://github.com/documentat/yandex-cloud-examples.git', 'svn_url': 'https://github.com/documentat/yandex-cloud-examples', 'homepage': None, 'size': 278949, 'stargazers_count': 0, 'watchers_count': 0, 'language': 'Go', 'has_issues': False, 'has_projects': True, 'has_downloads': True, 'has_wiki': True, 'has_pages': False, 'has_discussions': False, 'forks_count': 0, 'mirror_url': None, 'archived': False, 'disabled': False, 'open_issues_count': 41, 'license': None, 'allow_forking': True, 'is_template': False, 'web_commit_signoff_required': False, 'topics': [], 'visibility': 'public', 'forks': 0, 'open_issues': 41, 'watchers': 0, 'default_branch': 'master'}}, 'base': {'label': 'yandex-cloud:master', 'ref': 'master', 'sha': 'bd14f56f3937e8723b6eab849b0f68d721ea666d', 'user': {'login': 'yandex-cloud', 'id': 42382453, 'node_id': 'MDEyOk9yZ2FuaXphdGlvbjQyMzgyNDUz', 'avatar_url': 'https://avatars.githubusercontent.com/u/42382453?v=4', 'gravatar_id': '', 'url': 'https://api.github.com/users/yandex-cloud', 'html_url': 'https://github.com/yandex-cloud', 'followers_url': 'https://api.github.com/users/yandex-cloud/followers', 'following_url': 'https://api.github.com/users/yandex-cloud/following{/other_user}', 'gists_url': 'https://api.github.com/users/yandex-cloud/gists{/gist_id}', 'starred_url': 'https://api.github.com/users/yandex-cloud/starred{/owner}{/repo}', 'subscriptions_url': 'https://api.github.com/users/yandex-cloud/subscriptions', 'organizations_url': 'https://api.github.com/users/yandex-cloud/orgs', 'repos_url': 'https://api.github.com/users/yandex-cloud/repos', 'events_url': 'https://api.github.com/users/yandex-cloud/events{/privacy}', 'received_events_url': 'https://api.github.com/users/yandex-cloud/received_events', 'type': 'Organization', 'site_admin': False}, 'repo': {'id': 181684023, 'node_id': 'MDEwOlJlcG9zaXRvcnkxODE2ODQwMjM=', 'name': 'examples', 'full_name': 'yandex-cloud/examples', 'private': False, 'owner': {'login': 'yandex-cloud', 'id': 42382453, 'node_id': 'MDEyOk9yZ2FuaXphdGlvbjQyMzgyNDUz', 'avatar_url': 'https://avatars.githubusercontent.com/u/42382453?v=4', 'gravatar_id': '', 'url': 'https://api.github.com/users/yandex-cloud', 'html_url': 'https://github.com/yandex-cloud', 'followers_url': 'https://api.github.com/users/yandex-cloud/followers', 'following_url': 'https://api.github.com/users/yandex-cloud/following{/other_user}', 'gists_url': 'https://api.github.com/users/yandex-cloud/gists{/gist_id}', 'starred_url': 'https://api.github.com/users/yandex-cloud/starred{/owner}{/repo}', 'subscriptions_url': 'https://api.github.com/users/yandex-cloud/subscriptions', 'organizations_url': 'https://api.github.com/users/yandex-cloud/orgs', 'repos_url': 'https://api.github.com/users/yandex-cloud/repos', 'events_url': 'https://api.github.com/users/yandex-cloud/events{/privacy}', 'received_events_url': 'https://api.github.com/users/yandex-cloud/received_events', 'type': 'Organization', 'site_admin': False}, 'html_url': 'https://github.com/yandex-cloud/examples', 'description': 'Examples of code, configuration files etc. to be used with Yandex Cloud.', 'fork': False, 'url': 'https://api.github.com/repos/yandex-cloud/examples', 'forks_url': 'https://api.github.com/repos/yandex-cloud/examples/forks', 'keys_url': 'https://api.github.com/repos/yandex-cloud/examples/keys{/key_id}', 'collaborators_url': 'https://api.github.com/repos/yandex-cloud/examples/collaborators{/collaborator}', 'teams_url': 'https://api.github.com/repos/yandex-cloud/examples/teams', 'hooks_url': 'https://api.github.com/repos/yandex-cloud/examples/hooks', 'issue_events_url': 'https://api.github.com/repos/yandex-cloud/examples/issues/events{/number}', 'events_url': 'https://api.github.com/repos/yandex-cloud/examples/events', 'assignees_url': 'https://api.github.com/repos/yandex-cloud/examples/assignees{/user}', 'branches_url': 'https://api.github.com/repos/yandex-cloud/examples/branches{/branch}', 'tags_url': 'https://api.github.com/repos/yandex-cloud/examples/tags', 'blobs_url': 'https://api.github.com/repos/yandex-cloud/examples/git/blobs{/sha}', 'git_tags_url': 'https://api.github.com/repos/yandex-cloud/examples/git/tags{/sha}', 'git_refs_url': 'https://api.github.com/repos/yandex-cloud/examples/git/refs{/sha}', 'trees_url': 'https://api.github.com/repos/yandex-cloud/examples/git/trees{/sha}', 'statuses_url': 'https://api.github.com/repos/yandex-cloud/examples/statuses/{sha}', 'languages_url': 'https://api.github.com/repos/yandex-cloud/examples/languages', 'stargazers_url': 'https://api.github.com/repos/yandex-cloud/examples/stargazers', 'contributors_url': 'https://api.github.com/repos/yandex-cloud/examples/contributors', 'subscribers_url': 'https://api.github.com/repos/yandex-cloud/examples/subscribers', 'subscription_url': 'https://api.github.com/repos/yandex-cloud/examples/subscription', 'commits_url': 'https://api.github.com/repos/yandex-cloud/examples/commits{/sha}', 'git_commits_url': 'https://api.github.com/repos/yandex-cloud/examples/git/commits{/sha}', 'comments_url': 'https://api.github.com/repos/yandex-cloud/examples/comments{/number}', 'issue_comment_url': 'https://api.github.com/repos/yandex-cloud/examples/issues/comments{/number}', 'contents_url': 'https://api.github.com/repos/yandex-cloud/examples/contents/{+path}', 'compare_url': 'https://api.github.com/repos/yandex-cloud/examples/compare/{base}...{head}', 'merges_url': 'https://api.github.com/repos/yandex-cloud/examples/merges', 'archive_url': 'https://api.github.com/repos/yandex-cloud/examples/{archive_format}{/ref}', 'downloads_url': 'https://api.github.com/repos/yandex-cloud/examples/downloads', 'issues_url': 'https://api.github.com/repos/yandex-cloud/examples/issues{/number}', 'pulls_url': 'https://api.github.com/repos/yandex-cloud/examples/pulls{/number}', 'milestones_url': 'https://api.github.com/repos/yandex-cloud/examples/milestones{/number}', 'notifications_url': 'https://api.github.com/repos/yandex-cloud/examples/notifications{?since,all,participating}', 'labels_url': 'https://api.github.com/repos/yandex-cloud/examples/labels{/name}', 'releases_url': 'https://api.github.com/repos/yandex-cloud/examples/releases{/id}', 'deployments_url': 'https://api.github.com/repos/yandex-cloud/examples/deployments', 'created_at': '2019-04-16T12:22:20Z', 'updated_at': '2023-04-12T08:11:28Z', 'pushed_at': '2023-04-12T04:20:17Z', 'git_url': 'git://github.com/yandex-cloud/examples.git', 'ssh_url': 'git@github.com:yandex-cloud/examples.git', 'clone_url': 'https://github.com/yandex-cloud/examples.git', 'svn_url': 'https://github.com/yandex-cloud/examples', 'homepage': None, 'size': 279793, 'stargazers_count': 150, 'watchers_count': 150, 'language': 'HCL', 'has_issues': True, 'has_projects': True, 'has_downloads': True, 'has_wiki': True, 'has_pages': False, 'has_discussions': False, 'forks_count': 125, 'mirror_url': None, 'archived': False, 'disabled': False, 'open_issues_count': 44, 'license': None, 'allow_forking': True, 'is_template': False, 'web_commit_signoff_required': False, 'topics': [], 'visibility': 'public', 'forks': 125, 'open_issues': 44, 'watchers': 150, 'default_branch': 'master'}}, '_links': {'self': {'href': 'https://api.github.com/repos/yandex-cloud/examples/pulls/185'}, 'html': {'href': 'https://github.com/yandex-cloud/examples/pull/185'}, 'issue': {'href': 'https://api.github.com/repos/yandex-cloud/examples/issues/185'}, 'comments': {'href': 'https://api.github.com/repos/yandex-cloud/examples/issues/185/comments'}, 'review_comments': {'href': 'https://api.github.com/repos/yandex-cloud/examples/pulls/185/comments'}, 'review_comment': {'href': 'https://api.github.com/repos/yandex-cloud/examples/pulls/comments{/number}'}, 'commits': {'href': 'https://api.github.com/repos/yandex-cloud/examples/pulls/185/commits'}, 'statuses': {'href': 'https://api.github.com/repos/yandex-cloud/examples/statuses/2a52a1be1872c0d22a381f71d0f2e8b12db33339'}}, 'author_association': 'CONTRIBUTOR', 'auto_merge': None, 'active_lock_reason': None, 'merged': False, 'mergeable': None, 'rebaseable': None, 'mergeable_state': 'unknown', 'merged_by': None, 'comments': 0, 'review_comments': 0, 'maintainer_can_modify': False, 'commits': 1, 'additions': 151, 'deletions': 0, 'changed_files': 1}}, 'public': True, 'created_at': '2023-04-12T12:21:52Z', 'org': {'id': 42382453, 'login': 'yandex-cloud', 'gravatar_id': '', 'url': 'https://api.github.com/orgs/yandex-cloud', 'avatar_url': 'https://avatars.githubusercontent.com/u/42382453?'}}, {'id': '28363321586', 'type': 'CreateEvent', 'actor': {'id': 15812968, 'login': 'matthprost', 'display_login': 'matthprost', 'gravatar_id': '', 'url': 'https://api.github.com/users/matthprost', 'avatar_url': 'https://avatars.githubusercontent.com/u/15812968?'}, 'repo': {'id': 320307811, 'name': 'scaleway/scaleway-ui', 'url': 'https://api.github.com/repos/scaleway/scaleway-ui'}, 'payload': {'ref': 'fix/export-card', 'ref_type': 'branch', 'master_branch': 'main', 'description': 'Scaleway React UI library', 'pusher_type': 'user'}, 'public': True, 'created_at': '2023-04-12T12:21:52Z', 'org': {'id': 5185491, 'login': 'scaleway', 'gravatar_id': '', 'url': 'https://api.github.com/orgs/scaleway', 'avatar_url': 'https://avatars.githubusercontent.com/u/5185491?'}}]\n"
     ]
    }
   ],
   "source": [
    "print(r.json())"
   ]
  },
  {
   "cell_type": "raw",
   "id": "13231291-edde-4871-8f29-155c3224b569",
   "metadata": {},
   "source": [
    "requerements.txt\n",
    "biasanya berisi daftar packages yang digunakan dalam suatu projek besar, dengan banyak anggota, sehingga tidak perlu melakukan penginstalan packages bisa langusng menggunakan requirements.txt dengan membuat dokemn requiremenst terlebih dahulu"
   ]
  },
  {
   "cell_type": "markdown",
   "id": "f1807e8b-b6fc-47dc-a1b6-c4fdea39d929",
   "metadata": {},
   "source": [
    "!pip3 install -r requirements.txt (untuk menginstall packages keseluruhan)"
   ]
  },
  {
   "cell_type": "markdown",
   "id": "dfc0168f",
   "metadata": {},
   "source": [
    "# Bonus Chapter"
   ]
  },
  {
   "cell_type": "markdown",
   "id": "cac661dc",
   "metadata": {},
   "source": [
    "## Pengenalan NumPy"
   ]
  },
  {
   "cell_type": "code",
   "execution_count": 154,
   "id": "771b84a9",
   "metadata": {},
   "outputs": [
    {
     "ename": "TypeError",
     "evalue": "unsupported operand type(s) for ** or pow(): 'list' and 'int'",
     "output_type": "error",
     "traceback": [
      "\u001b[1;31m---------------------------------------------------------------------------\u001b[0m",
      "\u001b[1;31mTypeError\u001b[0m                                 Traceback (most recent call last)",
      "Cell \u001b[1;32mIn[154], line 3\u001b[0m\n\u001b[0;32m      1\u001b[0m height \u001b[38;5;241m=\u001b[39m [\u001b[38;5;241m1.75\u001b[39m,\u001b[38;5;241m1.68\u001b[39m,\u001b[38;5;241m1.8\u001b[39m,\u001b[38;5;241m1.81\u001b[39m,\u001b[38;5;241m1.60\u001b[39m]\n\u001b[0;32m      2\u001b[0m weight \u001b[38;5;241m=\u001b[39m [\u001b[38;5;241m66.4\u001b[39m,\u001b[38;5;241m49.22\u001b[39m,\u001b[38;5;241m66.3\u001b[39m,\u001b[38;5;241m88.56\u001b[39m,\u001b[38;5;241m65.4\u001b[39m]\n\u001b[1;32m----> 3\u001b[0m weight\u001b[38;5;241m/\u001b[39m\u001b[43mheight\u001b[49m\u001b[38;5;241;43m*\u001b[39;49m\u001b[38;5;241;43m*\u001b[39;49m\u001b[38;5;241;43m2\u001b[39;49m\n",
      "\u001b[1;31mTypeError\u001b[0m: unsupported operand type(s) for ** or pow(): 'list' and 'int'"
     ]
    }
   ],
   "source": [
    "height = [1.75,1.68,1.8,1.81,1.60]\n",
    "weight = [66.4,49.22,66.3,88.56,65.4]\n",
    "weight/height**2"
   ]
  },
  {
   "cell_type": "code",
   "execution_count": 151,
   "id": "1587fe2c-b2a4-455d-b1ef-043d2606647d",
   "metadata": {},
   "outputs": [],
   "source": [
    "import numpy as np"
   ]
  },
  {
   "cell_type": "code",
   "execution_count": 156,
   "id": "73cefe2c-1a34-4341-9b27-a8a3c6ab2dfa",
   "metadata": {},
   "outputs": [
    {
     "data": {
      "text/plain": [
       "array([21.68163265, 17.43905896, 20.46296296, 27.03214188, 25.546875  ])"
      ]
     },
     "execution_count": 156,
     "metadata": {},
     "output_type": "execute_result"
    }
   ],
   "source": [
    "np_height=np.array(height)\n",
    "np_weight=np.array(weight)\n",
    "bmi = np_weight/np_height **2\n",
    "bmi"
   ]
  },
  {
   "cell_type": "markdown",
   "id": "23c71fd2-ec5d-4cd1-bad1-797d6ff73993",
   "metadata": {},
   "source": [
    "hanya boleh mengandung satu type data"
   ]
  },
  {
   "cell_type": "code",
   "execution_count": 157,
   "id": "c6dff8d1-a3f2-4c02-aa60-2d751b8facc1",
   "metadata": {},
   "outputs": [
    {
     "data": {
      "text/plain": [
       "array(['1.0', 'is', 'True'], dtype='<U32')"
      ]
     },
     "execution_count": 157,
     "metadata": {},
     "output_type": "execute_result"
    }
   ],
   "source": [
    "mixed_array =np.array([1.0, 'is', True])\n",
    "mixed_array"
   ]
  },
  {
   "cell_type": "code",
   "execution_count": 158,
   "id": "af7f6fb9-e05e-458d-b115-34b45c264111",
   "metadata": {},
   "outputs": [
    {
     "data": {
      "text/plain": [
       "[1, 2, 3, 1, 2, 3]"
      ]
     },
     "execution_count": 158,
     "metadata": {},
     "output_type": "execute_result"
    }
   ],
   "source": [
    "numlist = [1,2,3]\n",
    "nparray = np.array([1,2,3])\n",
    "numlist + numlist"
   ]
  },
  {
   "cell_type": "code",
   "execution_count": 159,
   "id": "9f11359f-b1d9-44e6-bea5-c887fc41a891",
   "metadata": {},
   "outputs": [
    {
     "data": {
      "text/plain": [
       "array([False, False, False,  True,  True])"
      ]
     },
     "execution_count": 159,
     "metadata": {},
     "output_type": "execute_result"
    }
   ],
   "source": [
    "bmi > 24"
   ]
  },
  {
   "cell_type": "code",
   "execution_count": 160,
   "id": "6009ee75-a7c3-4a8f-8710-54ac8ecccb38",
   "metadata": {},
   "outputs": [
    {
     "data": {
      "text/plain": [
       "array([27.03214188, 25.546875  ])"
      ]
     },
     "execution_count": 160,
     "metadata": {},
     "output_type": "execute_result"
    }
   ],
   "source": [
    "bmi[bmi>24]"
   ]
  },
  {
   "cell_type": "markdown",
   "id": "d48870bd",
   "metadata": {},
   "source": [
    "## Statistik Dasar dengan NumPy"
   ]
  },
  {
   "cell_type": "code",
   "execution_count": 165,
   "id": "a4e885b9-166a-4b32-8ddd-dcab72a7a0a0",
   "metadata": {},
   "outputs": [
    {
     "data": {
      "text/plain": [
       "array([1.83, 1.65, 1.91, ..., 1.77, 1.86, 1.55])"
      ]
     },
     "execution_count": 165,
     "metadata": {},
     "output_type": "execute_result"
    }
   ],
   "source": [
    "height = np.round(np.random.normal(1.755,0.2,5000),2)\n",
    "height"
   ]
  },
  {
   "cell_type": "code",
   "execution_count": 166,
   "id": "168a9359-aceb-4c4f-8adf-f8602188b1e4",
   "metadata": {},
   "outputs": [
    {
     "data": {
      "text/plain": [
       "5000"
      ]
     },
     "execution_count": 166,
     "metadata": {},
     "output_type": "execute_result"
    }
   ],
   "source": [
    "len(height)"
   ]
  },
  {
   "cell_type": "code",
   "execution_count": 167,
   "id": "f44ffca8-7eb8-4716-ac0a-fbd5f87ee4ef",
   "metadata": {},
   "outputs": [],
   "source": [
    "weight = np.round(np.random.normal(60.32,15,5000),2)"
   ]
  },
  {
   "cell_type": "code",
   "execution_count": 169,
   "id": "823e0e39",
   "metadata": {},
   "outputs": [
    {
     "data": {
      "text/plain": [
       "5000"
      ]
     },
     "execution_count": 169,
     "metadata": {},
     "output_type": "execute_result"
    }
   ],
   "source": [
    "len(weight)"
   ]
  },
  {
   "cell_type": "code",
   "execution_count": 170,
   "id": "b120be0c-fc2b-4aef-8b61-0aa2127e02c6",
   "metadata": {},
   "outputs": [
    {
     "data": {
      "text/plain": [
       "1.752752"
      ]
     },
     "execution_count": 170,
     "metadata": {},
     "output_type": "execute_result"
    }
   ],
   "source": [
    "np_city = np.column_stack((height, weight))\n",
    "np.mean(np_city[:,0])"
   ]
  },
  {
   "cell_type": "code",
   "execution_count": 171,
   "id": "b485dab0-19bf-4737-b4fb-c43ae13e6753",
   "metadata": {},
   "outputs": [
    {
     "data": {
      "text/plain": [
       "1.75"
      ]
     },
     "execution_count": 171,
     "metadata": {},
     "output_type": "execute_result"
    }
   ],
   "source": [
    "np.median(np_city[:,0])"
   ]
  },
  {
   "cell_type": "code",
   "execution_count": 172,
   "id": "8cc92f3c-caaf-44d1-bfff-83e00ef38b9d",
   "metadata": {},
   "outputs": [
    {
     "data": {
      "text/plain": [
       "0.20313371580316253"
      ]
     },
     "execution_count": 172,
     "metadata": {},
     "output_type": "execute_result"
    }
   ],
   "source": [
    "np.std(np_city[:,0])"
   ]
  },
  {
   "cell_type": "markdown",
   "id": "a0262cc4",
   "metadata": {},
   "source": [
    "## NumPy Array 2D"
   ]
  },
  {
   "cell_type": "code",
   "execution_count": 173,
   "id": "7fcacac4-1782-4943-a341-484e443593e2",
   "metadata": {},
   "outputs": [
    {
     "data": {
      "text/plain": [
       "numpy.ndarray"
      ]
     },
     "execution_count": 173,
     "metadata": {},
     "output_type": "execute_result"
    }
   ],
   "source": [
    "height = np.array([1.75,1.68,1.8])\n",
    "weight = np.array([66.4, 49.22, 66.3])\n",
    "type(height)"
   ]
  },
  {
   "cell_type": "code",
   "execution_count": 174,
   "id": "43f480e9-ee4d-4dc5-be9e-0570c8cfeaf4",
   "metadata": {},
   "outputs": [
    {
     "data": {
      "text/plain": [
       "array([[ 1.75,  1.68,  1.8 ],\n",
       "       [66.4 , 49.22, 66.3 ]])"
      ]
     },
     "execution_count": 174,
     "metadata": {},
     "output_type": "execute_result"
    }
   ],
   "source": [
    "np_2d = np.array([[1.75,1.68,1.8],[66.4, 49.22, 66.3]])\n",
    "np_2d"
   ]
  },
  {
   "cell_type": "code",
   "execution_count": 175,
   "id": "b6959dcd-da82-4065-b134-472a0b386766",
   "metadata": {},
   "outputs": [
    {
     "data": {
      "text/plain": [
       "(2, 3)"
      ]
     },
     "execution_count": 175,
     "metadata": {},
     "output_type": "execute_result"
    }
   ],
   "source": [
    "np_2d.shape"
   ]
  },
  {
   "cell_type": "code",
   "execution_count": 176,
   "id": "eee8b75f-a0db-4f29-94ed-32852d4222d9",
   "metadata": {},
   "outputs": [
    {
     "data": {
      "text/plain": [
       "array([1.75, 1.68, 1.8 ])"
      ]
     },
     "execution_count": 176,
     "metadata": {},
     "output_type": "execute_result"
    }
   ],
   "source": [
    "np_2d[0]"
   ]
  },
  {
   "cell_type": "code",
   "execution_count": 177,
   "id": "2bb3f784-6f10-402c-83b4-2366799cbf10",
   "metadata": {},
   "outputs": [
    {
     "data": {
      "text/plain": [
       "1.8"
      ]
     },
     "execution_count": 177,
     "metadata": {},
     "output_type": "execute_result"
    }
   ],
   "source": [
    "np_2d[0][2]"
   ]
  },
  {
   "cell_type": "code",
   "execution_count": 178,
   "id": "a623a5f7-2f49-4979-92a5-3b295775dd78",
   "metadata": {},
   "outputs": [
    {
     "data": {
      "text/plain": [
       "array([[ 1.68,  1.8 ],\n",
       "       [49.22, 66.3 ]])"
      ]
     },
     "execution_count": 178,
     "metadata": {},
     "output_type": "execute_result"
    }
   ],
   "source": [
    "np_2d[:,1:3]"
   ]
  },
  {
   "cell_type": "code",
   "execution_count": 179,
   "id": "fc130443-2d77-4ad9-8c34-750616a2cfe9",
   "metadata": {},
   "outputs": [
    {
     "data": {
      "text/plain": [
       "array([66.4 , 49.22, 66.3 ])"
      ]
     },
     "execution_count": 179,
     "metadata": {},
     "output_type": "execute_result"
    }
   ],
   "source": [
    "np_2d[1,:]"
   ]
  },
  {
   "cell_type": "code",
   "execution_count": null,
   "id": "3b129b84-2ff0-4aa0-8bc6-13bf6dc6ac6d",
   "metadata": {},
   "outputs": [],
   "source": []
  }
 ],
 "metadata": {
  "kernelspec": {
   "display_name": "Python 3 (ipykernel)",
   "language": "python",
   "name": "python3"
  },
  "language_info": {
   "codemirror_mode": {
    "name": "ipython",
    "version": 3
   },
   "file_extension": ".py",
   "mimetype": "text/x-python",
   "name": "python",
   "nbconvert_exporter": "python",
   "pygments_lexer": "ipython3",
   "version": "3.10.9"
  }
 },
 "nbformat": 4,
 "nbformat_minor": 5
}
