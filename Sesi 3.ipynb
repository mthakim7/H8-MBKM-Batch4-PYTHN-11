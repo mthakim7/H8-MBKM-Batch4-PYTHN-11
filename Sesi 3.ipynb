{
 "cells": [
  {
   "cell_type": "markdown",
   "id": "cc23c4a1-4d46-4935-8113-26b9f56b1efc",
   "metadata": {
    "tags": []
   },
   "source": [
    "# Function, Module, Package"
   ]
  },
  {
   "cell_type": "code",
   "execution_count": 2,
   "id": "8d6f113e-5ae0-4368-8f24-251cfd553678",
   "metadata": {},
   "outputs": [
    {
     "data": {
      "text/plain": [
       "3"
      ]
     },
     "execution_count": 2,
     "metadata": {},
     "output_type": "execute_result"
    }
   ],
   "source": [
    "1*3"
   ]
  },
  {
   "cell_type": "code",
   "execution_count": 24,
   "id": "87dcdf2a-c2d6-420e-a998-216109478334",
   "metadata": {},
   "outputs": [
    {
     "name": "stdout",
     "output_type": "stream",
     "text": [
      "3\n"
     ]
    }
   ],
   "source": [
    "def kali(a):\n",
    "    return a*3\n",
    "print(kali(1))\n"
   ]
  },
  {
   "cell_type": "code",
   "execution_count": 26,
   "id": "a84f5cdd-9e84-468a-a012-0a988231a589",
   "metadata": {},
   "outputs": [
    {
     "name": "stdout",
     "output_type": "stream",
     "text": [
      "9\n"
     ]
    }
   ],
   "source": [
    "x=kali(3)\n",
    "print(x)"
   ]
  },
  {
   "cell_type": "code",
   "execution_count": 28,
   "id": "d940f9dd-4fb1-4dd1-8555-3634f2d9534b",
   "metadata": {},
   "outputs": [
    {
     "name": "stdout",
     "output_type": "stream",
     "text": [
      "3\n"
     ]
    }
   ],
   "source": [
    "def kali(a,b):\n",
    "    return a*b\n",
    "print(kali(1,3))\n"
   ]
  },
  {
   "cell_type": "code",
   "execution_count": 35,
   "id": "532f54c2-64a2-440f-9b9b-f717efc5be46",
   "metadata": {},
   "outputs": [
    {
     "name": "stdout",
     "output_type": "stream",
     "text": [
      "6 2\n",
      "12\n"
     ]
    }
   ],
   "source": [
    "x=kali(2,3)\n",
    "y=kali(1,2)\n",
    "z=kali(x,y)\n",
    "print(x,y)\n",
    "print(z)"
   ]
  },
  {
   "cell_type": "code",
   "execution_count": 38,
   "id": "25b3cb4f-cf92-49ee-a909-a330952ee88c",
   "metadata": {},
   "outputs": [],
   "source": [
    "def str_joiner(a,b):\n",
    "    a=a.upper()\n",
    "    b=b.upper()\n",
    "    return a+b"
   ]
  },
  {
   "cell_type": "code",
   "execution_count": 39,
   "id": "a427600e-3166-4799-a394-fd3a12b4034b",
   "metadata": {},
   "outputs": [
    {
     "data": {
      "text/plain": [
       "'AYAMBURUNG'"
      ]
     },
     "execution_count": 39,
     "metadata": {},
     "output_type": "execute_result"
    }
   ],
   "source": [
    "str_joiner('ayam','burung')"
   ]
  },
  {
   "cell_type": "markdown",
   "id": "4ca77d49-804a-494a-a8be-f3bdd7e05361",
   "metadata": {},
   "source": [
    "### Quiz\n",
    "- buat function yang berisi 3 parameter string yang akan di join menggunakan spasi dan di convert menjadi reverse\n",
    "contoh : input: saya mau makan jadi nakam uam ayas"
   ]
  },
  {
   "cell_type": "code",
   "execution_count": 73,
   "id": "9aea7438-0d68-4a26-abba-df884835657b",
   "metadata": {},
   "outputs": [
    {
     "data": {
      "text/plain": [
       "'saya mau nakam'"
      ]
     },
     "execution_count": 73,
     "metadata": {},
     "output_type": "execute_result"
    }
   ],
   "source": [
    "def str_joiner(a,b,c):\n",
    "    a=a.lower()\n",
    "    b=b.lower()\n",
    "    c=c.lower()\n",
    "    return a +' ' + b + ' ' + c [::-1]\n",
    "str_joiner('Saya','Mau','Makan')\n"
   ]
  },
  {
   "cell_type": "markdown",
   "id": "5fe8225c-c0a5-4021-b0f1-0108a9ed8ff6",
   "metadata": {},
   "source": [
    "- Variabel Global\n",
    "- Variabel Lokal"
   ]
  },
  {
   "cell_type": "code",
   "execution_count": 76,
   "id": "9e1a6c39-04aa-49b5-8593-7ec0eec9f562",
   "metadata": {},
   "outputs": [
    {
     "name": "stdout",
     "output_type": "stream",
     "text": [
      "20\n",
      "3\n"
     ]
    }
   ],
   "source": [
    "total = 20 #Variabel Global\n",
    "\n",
    "def function_a(a,b):\n",
    "    total = a+b #Variabel Lokal\n",
    "    return total\n",
    "print(total)\n",
    "function_a(1,2)"
   ]
  },
  {
   "cell_type": "code",
   "execution_count": 84,
   "id": "6d24a3d2-e1ab-442a-95ff-fc229e2bc2ca",
   "metadata": {},
   "outputs": [
    {
     "name": "stdout",
     "output_type": "stream",
     "text": [
      "Tes\n"
     ]
    },
    {
     "ename": "NameError",
     "evalue": "name 'tes' is not defined",
     "output_type": "error",
     "traceback": [
      "\u001b[1;31m---------------------------------------------------------------------------\u001b[0m",
      "\u001b[1;31mNameError\u001b[0m                                 Traceback (most recent call last)",
      "\u001b[1;32m~\\AppData\\Local\\Temp\\ipykernel_10188\\2794009036.py\u001b[0m in \u001b[0;36m<module>\u001b[1;34m\u001b[0m\n\u001b[0;32m      3\u001b[0m     \u001b[0mprint\u001b[0m\u001b[1;33m(\u001b[0m\u001b[0mtes\u001b[0m\u001b[1;33m)\u001b[0m\u001b[1;33m\u001b[0m\u001b[1;33m\u001b[0m\u001b[0m\n\u001b[0;32m      4\u001b[0m \u001b[0mfunction_b\u001b[0m\u001b[1;33m(\u001b[0m\u001b[1;33m)\u001b[0m\u001b[1;33m\u001b[0m\u001b[1;33m\u001b[0m\u001b[0m\n\u001b[1;32m----> 5\u001b[1;33m \u001b[0mprint\u001b[0m\u001b[1;33m(\u001b[0m\u001b[0mtes\u001b[0m\u001b[1;33m)\u001b[0m \u001b[1;31m#tidak keluar karena tes didalam adalah variabel lokal\u001b[0m\u001b[1;33m\u001b[0m\u001b[1;33m\u001b[0m\u001b[0m\n\u001b[0m\u001b[0;32m      6\u001b[0m \u001b[1;31m# dari function b\u001b[0m\u001b[1;33m\u001b[0m\u001b[1;33m\u001b[0m\u001b[0m\n",
      "\u001b[1;31mNameError\u001b[0m: name 'tes' is not defined"
     ]
    }
   ],
   "source": [
    "def function_b():\n",
    "    tes = 'Tes'\n",
    "    print(tes)\n",
    "function_b()\n",
    "print(tes) #tidak keluar karena tes didalam adalah variabel lokal\n",
    "# dari function b"
   ]
  },
  {
   "cell_type": "markdown",
   "id": "b2dcbb42-057b-4744-b948-283c993debbc",
   "metadata": {},
   "source": [
    "Quiz 2\n",
    "- mylist = [31,23,31,40,50,67,74,88,99,10,11,12,13]\n",
    "- buat 1 function yang akan memberikan output: summary dari list yang berisi  \n",
    "A. jumlah total angka ganjil adalah = \n",
    "B. Jumlah total angka genap adalah =\n",
    "C. Sum angka ganjil =\n",
    "D. Sum angka genap ="
   ]
  },
  {
   "cell_type": "code",
   "execution_count": 128,
   "id": "28b26da8-6a9d-4d2e-8c6b-dcea8ff12145",
   "metadata": {},
   "outputs": [
    {
     "name": "stdout",
     "output_type": "stream",
     "text": [
      "A. n angka ganjil adalah =  7\n",
      "B. n angka ganjil adalah =  6\n",
      "C. n angka ganjil adalah =  274\n",
      "D. n angka ganjil adalah =  275\n"
     ]
    }
   ],
   "source": [
    "mylist = [31,23,31,40,50,67,74,88,99,10,11,12,13]\n",
    "\n",
    "def function_summary(a):\n",
    "    nGenap = 0\n",
    "    nGanjil = 0\n",
    "    sumGenap = 0\n",
    "    sumGanjil = 0\n",
    "    for i in a:\n",
    "        if i % 2 == 0:\n",
    "            nGenap += 1\n",
    "            sumGenap += i\n",
    "        else:\n",
    "            nGanjil += 1\n",
    "            sumGanjil += i\n",
    "    print('A. n angka ganjil adalah = ', + nGanjil)\n",
    "    print('B. n angka ganjil adalah = ', + nGenap)\n",
    "    print('C. n angka ganjil adalah = ', + sumGenap)\n",
    "    print('D. n angka ganjil adalah = ', + sumGanjil)\n",
    "    pass\n",
    "function_summary(mylist)"
   ]
  },
  {
   "cell_type": "code",
   "execution_count": 133,
   "id": "630351ea-1d9d-46f7-b8fb-498976333d7a",
   "metadata": {},
   "outputs": [
    {
     "name": "stdout",
     "output_type": "stream",
     "text": [
      "Name:  Budi\n",
      "Age:  20\n"
     ]
    }
   ],
   "source": [
    "def printinfo(name,age='Not Found'):\n",
    "    print('Name: ', name)\n",
    "    print('Age: ', age)\n",
    "printinfo('Budi',20)"
   ]
  },
  {
   "cell_type": "code",
   "execution_count": 135,
   "id": "b3885a8e-984c-4117-bf0f-b717948e31d3",
   "metadata": {},
   "outputs": [
    {
     "name": "stdout",
     "output_type": "stream",
     "text": [
      "Name:  Hakim\n",
      "Age:  Not Found\n"
     ]
    }
   ],
   "source": [
    "printinfo('Hakim')"
   ]
  },
  {
   "cell_type": "code",
   "execution_count": 137,
   "id": "07c0fd03-4a8f-4683-9baa-173fab98ebf6",
   "metadata": {},
   "outputs": [
    {
     "name": "stdout",
     "output_type": "stream",
     "text": [
      "Name:  KIM\n",
      "Age:  20\n"
     ]
    }
   ],
   "source": [
    "printinfo(age=20,name='KIM')"
   ]
  },
  {
   "cell_type": "markdown",
   "id": "5acc11c5-9082-4336-99d7-c9a212e950f0",
   "metadata": {},
   "source": [
    "Shift + Tab didalam kurum untuk mengetahui nilai signature dari variabel"
   ]
  },
  {
   "cell_type": "code",
   "execution_count": 138,
   "id": "6a387b19-ec87-4c74-a25d-b3d9a97f7bc1",
   "metadata": {},
   "outputs": [],
   "source": [
    "import numpy as np"
   ]
  },
  {
   "cell_type": "code",
   "execution_count": 150,
   "id": "2ea596c9-b39f-4caf-9fac-cede0a96d47e",
   "metadata": {},
   "outputs": [
    {
     "data": {
      "text/plain": [
       "1.0"
      ]
     },
     "execution_count": 150,
     "metadata": {},
     "output_type": "execute_result"
    }
   ],
   "source": [
    "np.exp(0**1)"
   ]
  },
  {
   "cell_type": "code",
   "execution_count": 149,
   "id": "618bb99c-263c-48e2-8f05-42884b541b95",
   "metadata": {},
   "outputs": [
    {
     "data": {
      "text/plain": [
       "2.0"
      ]
     },
     "execution_count": 149,
     "metadata": {},
     "output_type": "execute_result"
    }
   ],
   "source": [
    "np.sqrt(4)"
   ]
  },
  {
   "cell_type": "code",
   "execution_count": 151,
   "id": "4d8cd340-9b5e-4328-9551-e409ff974312",
   "metadata": {},
   "outputs": [
    {
     "name": "stdout",
     "output_type": "stream",
     "text": [
      "Output is: \n",
      "2\n"
     ]
    }
   ],
   "source": [
    "def cetak(x):\n",
    "    print('Output is: ')\n",
    "    print(x)\n",
    "cetak(2)"
   ]
  },
  {
   "cell_type": "code",
   "execution_count": 154,
   "id": "a3f8f118-92dc-4c52-ba37-b4a4c03073d6",
   "metadata": {},
   "outputs": [
    {
     "name": "stdout",
     "output_type": "stream",
     "text": [
      "Output is: \n",
      "2\n",
      "3\n",
      "5\n",
      "6\n",
      "Nama\n"
     ]
    }
   ],
   "source": [
    "def out(x, *vartuple):\n",
    "    print('Output is: ')\n",
    "    print(x)\n",
    "    for i in vartuple:\n",
    "        print(i)\n",
    "out(2,3,5,6,'Nama')"
   ]
  },
  {
   "cell_type": "code",
   "execution_count": 183,
   "id": "ca23ccdc-02b7-4b51-bfc1-59f62115841e",
   "metadata": {},
   "outputs": [
    {
     "name": "stdout",
     "output_type": "stream",
     "text": [
      "Output is: \n",
      "(2, 3, 5, 6, 'Nama')\n"
     ]
    }
   ],
   "source": [
    "def out(*k):\n",
    "    print('Output is: ')\n",
    "    print(k)\n",
    "out(2,3,5,6,'Nama')"
   ]
  },
  {
   "cell_type": "markdown",
   "id": "8939240a-2ce8-472e-956e-f50320f4aad9",
   "metadata": {},
   "source": [
    "## Lambda \n",
    "- fungsi sederhana untuk satu baris kode (secara anonimus)"
   ]
  },
  {
   "cell_type": "code",
   "execution_count": 184,
   "id": "e2247347-ee79-4952-8a14-1a3de7d716cf",
   "metadata": {},
   "outputs": [
    {
     "name": "stdout",
     "output_type": "stream",
     "text": [
      "3\n"
     ]
    }
   ],
   "source": [
    "def sum(x,y):\n",
    "    return x+y\n",
    "print(sum(1,2))"
   ]
  },
  {
   "cell_type": "code",
   "execution_count": 185,
   "id": "29c6bf33-ae62-4368-87fd-4ad9e8d16b7b",
   "metadata": {},
   "outputs": [
    {
     "name": "stdout",
     "output_type": "stream",
     "text": [
      "15\n"
     ]
    }
   ],
   "source": [
    "perkalian = lambda x,y:x*y\n",
    "print(perkalian(3,5))"
   ]
  },
  {
   "cell_type": "markdown",
   "id": "3a6d82a1-45d7-4756-8ad9-8325e260245b",
   "metadata": {},
   "source": [
    "## Modules"
   ]
  },
  {
   "cell_type": "code",
   "execution_count": 187,
   "id": "24101d52-a9b5-4616-8e4f-7d49365c89aa",
   "metadata": {},
   "outputs": [],
   "source": [
    "import numpy as np\n",
    "# modul operasi matematis"
   ]
  },
  {
   "cell_type": "code",
   "execution_count": 188,
   "id": "a947ffaa-7f29-4017-a078-6b076d7ba8d6",
   "metadata": {},
   "outputs": [
    {
     "data": {
      "text/plain": [
       "3.0"
      ]
     },
     "execution_count": 188,
     "metadata": {},
     "output_type": "execute_result"
    }
   ],
   "source": [
    "np.sqrt(9)"
   ]
  },
  {
   "cell_type": "code",
   "execution_count": 189,
   "id": "bc3d93d2-fa8e-4a3d-900e-c12a406275cf",
   "metadata": {},
   "outputs": [
    {
     "data": {
      "text/plain": [
       "['In',\n",
       " 'Out',\n",
       " '_',\n",
       " '_1',\n",
       " '_139',\n",
       " '_140',\n",
       " '_141',\n",
       " '_142',\n",
       " '_143',\n",
       " '_144',\n",
       " '_145',\n",
       " '_146',\n",
       " '_147',\n",
       " '_148',\n",
       " '_149',\n",
       " '_150',\n",
       " '_188',\n",
       " '_2',\n",
       " '_37',\n",
       " '_39',\n",
       " '_4',\n",
       " '_46',\n",
       " '_47',\n",
       " '_50',\n",
       " '_51',\n",
       " '_54',\n",
       " '_55',\n",
       " '_56',\n",
       " '_57',\n",
       " '_58',\n",
       " '_6',\n",
       " '_65',\n",
       " '_66',\n",
       " '_67',\n",
       " '_68',\n",
       " '_69',\n",
       " '_70',\n",
       " '_71',\n",
       " '_72',\n",
       " '_73',\n",
       " '_76',\n",
       " '_77',\n",
       " '__',\n",
       " '___',\n",
       " '__builtin__',\n",
       " '__builtins__',\n",
       " '__doc__',\n",
       " '__loader__',\n",
       " '__name__',\n",
       " '__package__',\n",
       " '__spec__',\n",
       " '_dh',\n",
       " '_i',\n",
       " '_i1',\n",
       " '_i10',\n",
       " '_i100',\n",
       " '_i101',\n",
       " '_i102',\n",
       " '_i103',\n",
       " '_i104',\n",
       " '_i105',\n",
       " '_i106',\n",
       " '_i107',\n",
       " '_i108',\n",
       " '_i109',\n",
       " '_i11',\n",
       " '_i110',\n",
       " '_i111',\n",
       " '_i112',\n",
       " '_i113',\n",
       " '_i114',\n",
       " '_i115',\n",
       " '_i116',\n",
       " '_i117',\n",
       " '_i118',\n",
       " '_i119',\n",
       " '_i12',\n",
       " '_i120',\n",
       " '_i121',\n",
       " '_i122',\n",
       " '_i123',\n",
       " '_i124',\n",
       " '_i125',\n",
       " '_i126',\n",
       " '_i127',\n",
       " '_i128',\n",
       " '_i129',\n",
       " '_i13',\n",
       " '_i130',\n",
       " '_i131',\n",
       " '_i132',\n",
       " '_i133',\n",
       " '_i134',\n",
       " '_i135',\n",
       " '_i136',\n",
       " '_i137',\n",
       " '_i138',\n",
       " '_i139',\n",
       " '_i14',\n",
       " '_i140',\n",
       " '_i141',\n",
       " '_i142',\n",
       " '_i143',\n",
       " '_i144',\n",
       " '_i145',\n",
       " '_i146',\n",
       " '_i147',\n",
       " '_i148',\n",
       " '_i149',\n",
       " '_i15',\n",
       " '_i150',\n",
       " '_i151',\n",
       " '_i152',\n",
       " '_i153',\n",
       " '_i154',\n",
       " '_i155',\n",
       " '_i156',\n",
       " '_i157',\n",
       " '_i158',\n",
       " '_i159',\n",
       " '_i16',\n",
       " '_i160',\n",
       " '_i161',\n",
       " '_i162',\n",
       " '_i163',\n",
       " '_i164',\n",
       " '_i165',\n",
       " '_i166',\n",
       " '_i167',\n",
       " '_i168',\n",
       " '_i169',\n",
       " '_i17',\n",
       " '_i170',\n",
       " '_i171',\n",
       " '_i172',\n",
       " '_i173',\n",
       " '_i174',\n",
       " '_i175',\n",
       " '_i176',\n",
       " '_i177',\n",
       " '_i178',\n",
       " '_i179',\n",
       " '_i18',\n",
       " '_i180',\n",
       " '_i181',\n",
       " '_i182',\n",
       " '_i183',\n",
       " '_i184',\n",
       " '_i185',\n",
       " '_i186',\n",
       " '_i187',\n",
       " '_i188',\n",
       " '_i189',\n",
       " '_i19',\n",
       " '_i2',\n",
       " '_i20',\n",
       " '_i21',\n",
       " '_i22',\n",
       " '_i23',\n",
       " '_i24',\n",
       " '_i25',\n",
       " '_i26',\n",
       " '_i27',\n",
       " '_i28',\n",
       " '_i29',\n",
       " '_i3',\n",
       " '_i30',\n",
       " '_i31',\n",
       " '_i32',\n",
       " '_i33',\n",
       " '_i34',\n",
       " '_i35',\n",
       " '_i36',\n",
       " '_i37',\n",
       " '_i38',\n",
       " '_i39',\n",
       " '_i4',\n",
       " '_i40',\n",
       " '_i41',\n",
       " '_i42',\n",
       " '_i43',\n",
       " '_i44',\n",
       " '_i45',\n",
       " '_i46',\n",
       " '_i47',\n",
       " '_i48',\n",
       " '_i49',\n",
       " '_i5',\n",
       " '_i50',\n",
       " '_i51',\n",
       " '_i52',\n",
       " '_i53',\n",
       " '_i54',\n",
       " '_i55',\n",
       " '_i56',\n",
       " '_i57',\n",
       " '_i58',\n",
       " '_i59',\n",
       " '_i6',\n",
       " '_i60',\n",
       " '_i61',\n",
       " '_i62',\n",
       " '_i63',\n",
       " '_i64',\n",
       " '_i65',\n",
       " '_i66',\n",
       " '_i67',\n",
       " '_i68',\n",
       " '_i69',\n",
       " '_i7',\n",
       " '_i70',\n",
       " '_i71',\n",
       " '_i72',\n",
       " '_i73',\n",
       " '_i74',\n",
       " '_i75',\n",
       " '_i76',\n",
       " '_i77',\n",
       " '_i78',\n",
       " '_i79',\n",
       " '_i8',\n",
       " '_i80',\n",
       " '_i81',\n",
       " '_i82',\n",
       " '_i83',\n",
       " '_i84',\n",
       " '_i85',\n",
       " '_i86',\n",
       " '_i87',\n",
       " '_i88',\n",
       " '_i89',\n",
       " '_i9',\n",
       " '_i90',\n",
       " '_i91',\n",
       " '_i92',\n",
       " '_i93',\n",
       " '_i94',\n",
       " '_i95',\n",
       " '_i96',\n",
       " '_i97',\n",
       " '_i98',\n",
       " '_i99',\n",
       " '_ih',\n",
       " '_ii',\n",
       " '_iii',\n",
       " '_oh',\n",
       " 'a',\n",
       " 'cetak',\n",
       " 'exit',\n",
       " 'function_a',\n",
       " 'function_b',\n",
       " 'function_summary',\n",
       " 'get_ipython',\n",
       " 'i',\n",
       " 'kali',\n",
       " 'mylist',\n",
       " 'np',\n",
       " 'out',\n",
       " 'perkalian',\n",
       " 'printinfo',\n",
       " 'quit',\n",
       " 'statistik',\n",
       " 'ster_joiner',\n",
       " 'str_joiner',\n",
       " 'sum',\n",
       " 'sumjil',\n",
       " 'sumnap',\n",
       " 'total',\n",
       " 'variabel_kali',\n",
       " 'x',\n",
       " 'y',\n",
       " 'z']"
      ]
     },
     "execution_count": 189,
     "metadata": {},
     "output_type": "execute_result"
    }
   ],
   "source": [
    "dir()"
   ]
  },
  {
   "cell_type": "code",
   "execution_count": 199,
   "id": "608eaa09-37f0-479d-8860-5742bdb6fe59",
   "metadata": {},
   "outputs": [],
   "source": [
    "import mod as md"
   ]
  },
  {
   "cell_type": "code",
   "execution_count": 195,
   "id": "39943dc2-95d4-40a3-b51d-82e5f808db99",
   "metadata": {},
   "outputs": [
    {
     "data": {
      "text/plain": [
       "['C:\\\\Users\\\\SOB\\\\Hacktiv8',\n",
       " 'C:\\\\Users\\\\SOB\\\\anaconda3\\\\python39.zip',\n",
       " 'C:\\\\Users\\\\SOB\\\\anaconda3\\\\DLLs',\n",
       " 'C:\\\\Users\\\\SOB\\\\anaconda3\\\\lib',\n",
       " 'C:\\\\Users\\\\SOB\\\\anaconda3',\n",
       " '',\n",
       " 'C:\\\\Users\\\\SOB\\\\anaconda3\\\\lib\\\\site-packages',\n",
       " 'C:\\\\Users\\\\SOB\\\\anaconda3\\\\lib\\\\site-packages\\\\win32',\n",
       " 'C:\\\\Users\\\\SOB\\\\anaconda3\\\\lib\\\\site-packages\\\\win32\\\\lib',\n",
       " 'C:\\\\Users\\\\SOB\\\\anaconda3\\\\lib\\\\site-packages\\\\Pythonwin',\n",
       " 'C:\\\\Users\\\\SOB\\\\anaconda3\\\\lib\\\\site-packages\\\\IPython\\\\extensions',\n",
       " 'C:\\\\Users\\\\SOB\\\\.ipython']"
      ]
     },
     "execution_count": 195,
     "metadata": {},
     "output_type": "execute_result"
    }
   ],
   "source": [
    "import sys\n",
    "sys.path"
   ]
  },
  {
   "cell_type": "markdown",
   "id": "b7c481f3-bb13-4de9-bfe3-57352c89bddd",
   "metadata": {
    "tags": []
   },
   "source": [
    "#### As sebagai alias"
   ]
  },
  {
   "cell_type": "code",
   "execution_count": 273,
   "id": "416a06e6-3797-44cc-b28a-fbb6e094c0ff",
   "metadata": {},
   "outputs": [],
   "source": [
    "import mod as md"
   ]
  },
  {
   "cell_type": "code",
   "execution_count": 223,
   "id": "9f101d52-42f3-4732-8041-ecfc6ea67ddf",
   "metadata": {},
   "outputs": [
    {
     "data": {
      "text/plain": [
       "'C:\\\\Users\\\\SOB\\\\Hacktiv8\\\\mod.py'"
      ]
     },
     "execution_count": 223,
     "metadata": {},
     "output_type": "execute_result"
    }
   ],
   "source": [
    "mod.__file__"
   ]
  },
  {
   "cell_type": "code",
   "execution_count": 225,
   "id": "9899f8e1-b599-408a-a247-04ae0feb052b",
   "metadata": {},
   "outputs": [
    {
     "data": {
      "text/plain": [
       "<module 'numpy' from 'C:\\\\Users\\\\SOB\\\\anaconda3\\\\lib\\\\site-packages\\\\numpy\\\\__init__.py'>"
      ]
     },
     "execution_count": 225,
     "metadata": {},
     "output_type": "execute_result"
    }
   ],
   "source": [
    "np"
   ]
  },
  {
   "cell_type": "code",
   "execution_count": 230,
   "id": "67d3f433-fe2e-440e-9f05-10c115098368",
   "metadata": {},
   "outputs": [
    {
     "data": {
      "text/plain": [
       "<module 'mod' from 'C:\\\\Users\\\\SOB\\\\Hacktiv8\\\\mod.py'>"
      ]
     },
     "execution_count": 230,
     "metadata": {},
     "output_type": "execute_result"
    }
   ],
   "source": [
    "md"
   ]
  },
  {
   "cell_type": "code",
   "execution_count": 231,
   "id": "19d269fc-ed24-4654-83de-c4c0bd2212b6",
   "metadata": {},
   "outputs": [],
   "source": [
    "import matplotlib.pyplot as plt"
   ]
  },
  {
   "cell_type": "code",
   "execution_count": 232,
   "id": "48997200-272e-4ea7-91cb-9b4c83fb7a5f",
   "metadata": {},
   "outputs": [
    {
     "data": {
      "text/plain": [
       "'Hactiv8-PTP Python for Data Science'"
      ]
     },
     "execution_count": 232,
     "metadata": {},
     "output_type": "execute_result"
    }
   ],
   "source": [
    "md.s"
   ]
  },
  {
   "cell_type": "code",
   "execution_count": 233,
   "id": "efe44062-1d07-44ff-ae7c-0606ee2c7ec5",
   "metadata": {},
   "outputs": [
    {
     "data": {
      "text/plain": [
       "[100, 200, 300]"
      ]
     },
     "execution_count": 233,
     "metadata": {},
     "output_type": "execute_result"
    }
   ],
   "source": [
    "md.a"
   ]
  },
  {
   "cell_type": "code",
   "execution_count": 255,
   "id": "744caad3-60a1-4f34-a170-deb5328d0598",
   "metadata": {},
   "outputs": [
    {
     "data": {
      "text/plain": [
       "<mod.foo at 0x2439b82aa60>"
      ]
     },
     "execution_count": 255,
     "metadata": {},
     "output_type": "execute_result"
    }
   ],
   "source": [
    "md.foo()"
   ]
  },
  {
   "cell_type": "code",
   "execution_count": 257,
   "id": "9c109ee4-df38-4da2-9e6d-3e58c46bf603",
   "metadata": {},
   "outputs": [
    {
     "ename": "TypeError",
     "evalue": "foo() takes no arguments",
     "output_type": "error",
     "traceback": [
      "\u001b[1;31m---------------------------------------------------------------------------\u001b[0m",
      "\u001b[1;31mTypeError\u001b[0m                                 Traceback (most recent call last)",
      "\u001b[1;32m~\\AppData\\Local\\Temp\\ipykernel_10188\\1483664439.py\u001b[0m in \u001b[0;36m<module>\u001b[1;34m\u001b[0m\n\u001b[1;32m----> 1\u001b[1;33m \u001b[0mmd\u001b[0m\u001b[1;33m.\u001b[0m\u001b[0mfoo\u001b[0m\u001b[1;33m(\u001b[0m\u001b[1;34m'Hello World'\u001b[0m\u001b[1;33m)\u001b[0m\u001b[1;33m\u001b[0m\u001b[1;33m\u001b[0m\u001b[0m\n\u001b[0m",
      "\u001b[1;31mTypeError\u001b[0m: foo() takes no arguments"
     ]
    }
   ],
   "source": [
    "md.foo('Hello World')"
   ]
  },
  {
   "cell_type": "code",
   "execution_count": 248,
   "id": "2cc897fc-7bf1-414c-a3ac-6d96dc64696f",
   "metadata": {},
   "outputs": [
    {
     "data": {
      "text/plain": [
       "'Hactiv8-PTP Python for Data Science'"
      ]
     },
     "execution_count": 248,
     "metadata": {},
     "output_type": "execute_result"
    }
   ],
   "source": [
    "md.s"
   ]
  },
  {
   "cell_type": "code",
   "execution_count": 271,
   "id": "1d649687-3bf3-474f-a9fe-ad9be6680a29",
   "metadata": {},
   "outputs": [],
   "source": [
    "from mod import s as x"
   ]
  },
  {
   "cell_type": "code",
   "execution_count": 250,
   "id": "7e73f784-a52b-4d94-b5f1-382ed18af649",
   "metadata": {},
   "outputs": [
    {
     "data": {
      "text/plain": [
       "'Hactiv8-PTP Python for Data Science'"
      ]
     },
     "execution_count": 250,
     "metadata": {},
     "output_type": "execute_result"
    }
   ],
   "source": [
    "x"
   ]
  },
  {
   "cell_type": "code",
   "execution_count": 272,
   "id": "7376fd26-1907-4e5d-861a-c20724204f5c",
   "metadata": {},
   "outputs": [],
   "source": [
    "from mod import *"
   ]
  },
  {
   "cell_type": "code",
   "execution_count": 265,
   "id": "09c8edef-cc02-4c53-b685-47bd48a9c5a5",
   "metadata": {},
   "outputs": [
    {
     "data": {
      "text/plain": [
       "<mod.foo at 0x2439b82a700>"
      ]
     },
     "execution_count": 265,
     "metadata": {},
     "output_type": "execute_result"
    }
   ],
   "source": [
    "foo()"
   ]
  },
  {
   "cell_type": "code",
   "execution_count": 310,
   "id": "3a9fe69c-a14f-4dbf-93d8-6fee061266d0",
   "metadata": {},
   "outputs": [],
   "source": [
    "import mod_lib as m"
   ]
  },
  {
   "cell_type": "code",
   "execution_count": 293,
   "id": "3d7f19e9-53bb-4487-9d59-21dcc016859c",
   "metadata": {},
   "outputs": [
    {
     "data": {
      "text/plain": [
       "<mod_lib.Foot at 0x2439a886700>"
      ]
     },
     "execution_count": 293,
     "metadata": {},
     "output_type": "execute_result"
    }
   ],
   "source": [
    "m.Foot()"
   ]
  },
  {
   "cell_type": "code",
   "execution_count": 311,
   "id": "3cf4bc30-770e-41bc-ac0f-2e42d4d14295",
   "metadata": {},
   "outputs": [
    {
     "ename": "TypeError",
     "evalue": "Foot() takes no arguments",
     "output_type": "error",
     "traceback": [
      "\u001b[1;31m---------------------------------------------------------------------------\u001b[0m",
      "\u001b[1;31mTypeError\u001b[0m                                 Traceback (most recent call last)",
      "\u001b[1;32m~\\AppData\\Local\\Temp\\ipykernel_10188\\1533556978.py\u001b[0m in \u001b[0;36m<module>\u001b[1;34m\u001b[0m\n\u001b[0;32m      1\u001b[0m \u001b[1;32mfrom\u001b[0m \u001b[0mmod_lib\u001b[0m \u001b[1;32mimport\u001b[0m \u001b[1;33m*\u001b[0m\u001b[1;33m\u001b[0m\u001b[1;33m\u001b[0m\u001b[0m\n\u001b[1;32m----> 2\u001b[1;33m \u001b[0mm\u001b[0m\u001b[1;33m.\u001b[0m\u001b[0mFoot\u001b[0m\u001b[1;33m(\u001b[0m\u001b[1;34m'H'\u001b[0m\u001b[1;33m)\u001b[0m\u001b[1;33m\u001b[0m\u001b[1;33m\u001b[0m\u001b[0m\n\u001b[0m",
      "\u001b[1;31mTypeError\u001b[0m: Foot() takes no arguments"
     ]
    }
   ],
   "source": [
    "from mod_lib import *\n",
    "m.Foot('H')"
   ]
  },
  {
   "cell_type": "code",
   "execution_count": 314,
   "id": "ca3e82ce-d7d9-497e-8a1a-1db76ca53e28",
   "metadata": {},
   "outputs": [
    {
     "data": {
      "text/plain": [
       "<mod_lib.Foot at 0x2439b85a160>"
      ]
     },
     "execution_count": 314,
     "metadata": {},
     "output_type": "execute_result"
    }
   ],
   "source": [
    "m.Foot()"
   ]
  },
  {
   "cell_type": "code",
   "execution_count": 331,
   "id": "0fd89749-10bb-4ba7-8174-adfb2625357e",
   "metadata": {},
   "outputs": [],
   "source": [
    "import mod_lib as m"
   ]
  },
  {
   "cell_type": "code",
   "execution_count": 335,
   "id": "95343367-c066-498e-8fcc-ef4354e5fa33",
   "metadata": {},
   "outputs": [
    {
     "data": {
      "text/plain": [
       "<module 'mod_lib' from 'C:\\\\Users\\\\SOB\\\\Hacktiv8\\\\mod_lib.py'>"
      ]
     },
     "execution_count": 335,
     "metadata": {},
     "output_type": "execute_result"
    }
   ],
   "source": [
    "import importlib\n",
    "importlib.reload(m)"
   ]
  },
  {
   "cell_type": "code",
   "execution_count": 336,
   "id": "9174af04-5c3c-4f7b-8164-7ea07f599937",
   "metadata": {},
   "outputs": [
    {
     "name": "stdout",
     "output_type": "stream",
     "text": [
      "Hai\n"
     ]
    }
   ],
   "source": [
    "m.foo('Hai')"
   ]
  },
  {
   "cell_type": "code",
   "execution_count": 318,
   "id": "a3d26114-2595-46cc-99e4-b1b311ee26c8",
   "metadata": {},
   "outputs": [],
   "source": [
    "def fact(n):\n",
    "        return 1 if n==1 else n * fact(n-1) ##factorial"
   ]
  },
  {
   "cell_type": "code",
   "execution_count": 337,
   "id": "7f6d9e12-dc6f-4d17-a2d9-78b36dc9874d",
   "metadata": {},
   "outputs": [],
   "source": [
    "import fact as f"
   ]
  },
  {
   "cell_type": "code",
   "execution_count": 338,
   "id": "f8f00510-6aa8-41d1-84bc-42a35f9c0ad2",
   "metadata": {},
   "outputs": [
    {
     "data": {
      "text/plain": [
       "<module 'fact' from 'C:\\\\Users\\\\SOB\\\\Hacktiv8\\\\fact.py'>"
      ]
     },
     "execution_count": 338,
     "metadata": {},
     "output_type": "execute_result"
    }
   ],
   "source": [
    "import importlib\n",
    "importlib.reload(f)"
   ]
  },
  {
   "cell_type": "code",
   "execution_count": 342,
   "id": "676d4922-c8a0-467d-ada0-9cf7305cd5f6",
   "metadata": {},
   "outputs": [
    {
     "data": {
      "text/plain": [
       "120"
      ]
     },
     "execution_count": 342,
     "metadata": {},
     "output_type": "execute_result"
    }
   ],
   "source": [
    "f.fact(5)"
   ]
  },
  {
   "cell_type": "markdown",
   "id": "ea25e442-eed9-472c-bd4a-d4c31a5325f2",
   "metadata": {},
   "source": [
    "## Package"
   ]
  },
  {
   "cell_type": "code",
   "execution_count": 354,
   "id": "ddef1933-c181-4081-b31f-ee20168efdc6",
   "metadata": {},
   "outputs": [],
   "source": [
    "import pkg.mod, pkg.fact"
   ]
  },
  {
   "cell_type": "code",
   "execution_count": 358,
   "id": "8c5167b4-a270-4cb3-abf1-95f6fd066f74",
   "metadata": {},
   "outputs": [
    {
     "ename": "AttributeError",
     "evalue": "module 'pkg.mod' has no attribute 'foot'",
     "output_type": "error",
     "traceback": [
      "\u001b[1;31m---------------------------------------------------------------------------\u001b[0m",
      "\u001b[1;31mAttributeError\u001b[0m                            Traceback (most recent call last)",
      "\u001b[1;32m~\\AppData\\Local\\Temp\\ipykernel_10188\\1322049672.py\u001b[0m in \u001b[0;36m<module>\u001b[1;34m\u001b[0m\n\u001b[1;32m----> 1\u001b[1;33m \u001b[0mpkg\u001b[0m\u001b[1;33m.\u001b[0m\u001b[0mmod\u001b[0m\u001b[1;33m.\u001b[0m\u001b[0mfoot\u001b[0m\u001b[1;33m(\u001b[0m\u001b[1;34m'Saya'\u001b[0m\u001b[1;33m)\u001b[0m\u001b[1;33m\u001b[0m\u001b[1;33m\u001b[0m\u001b[0m\n\u001b[0m",
      "\u001b[1;31mAttributeError\u001b[0m: module 'pkg.mod' has no attribute 'foot'"
     ]
    }
   ],
   "source": [
    "pkg.mod.foot('Saya')"
   ]
  },
  {
   "cell_type": "code",
   "execution_count": null,
   "id": "4815250b-c6b2-4f15-9e06-5296efcb1209",
   "metadata": {},
   "outputs": [],
   "source": []
  }
 ],
 "metadata": {
  "kernelspec": {
   "display_name": "Python 3 (ipykernel)",
   "language": "python",
   "name": "python3"
  },
  "language_info": {
   "codemirror_mode": {
    "name": "ipython",
    "version": 3
   },
   "file_extension": ".py",
   "mimetype": "text/x-python",
   "name": "python",
   "nbconvert_exporter": "python",
   "pygments_lexer": "ipython3",
   "version": "3.9.13"
  }
 },
 "nbformat": 4,
 "nbformat_minor": 5
}
