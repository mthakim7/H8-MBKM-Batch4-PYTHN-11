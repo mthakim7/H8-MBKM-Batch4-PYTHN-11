{
 "cells": [
  {
   "cell_type": "markdown",
   "id": "52d7067b-8033-488d-90d8-23f8552873da",
   "metadata": {},
   "source": [
    "# NumPy Introduction"
   ]
  },
  {
   "cell_type": "code",
   "execution_count": 15,
   "id": "bf86c4d9-d58c-47ec-b684-31dc4bc23f96",
   "metadata": {},
   "outputs": [],
   "source": [
    "import numpy as np\n",
    "import time\n"
   ]
  },
  {
   "cell_type": "code",
   "execution_count": 28,
   "id": "5c22e727-7d92-471d-91a0-8f455b2accd7",
   "metadata": {},
   "outputs": [
    {
     "name": "stdin",
     "output_type": "stream",
     "text": [
      "Masukkan angka1 =  5\n",
      "Masukkan angka2 =  5\n"
     ]
    },
    {
     "name": "stdout",
     "output_type": "stream",
     "text": [
      "x = kali, : = bagi, + = tambah, - = kurang, ^ = pangkat\n"
     ]
    },
    {
     "name": "stdin",
     "output_type": "stream",
     "text": [
      "Masukkan operator =  :\n"
     ]
    },
    {
     "name": "stdout",
     "output_type": "stream",
     "text": [
      "1.0\n"
     ]
    }
   ],
   "source": [
    "angka1 = float(input('Masukkan angka1 = '))\n",
    "angka2 = float(input('Masukkan angka2 = '))\n",
    "time.sleep(1)\n",
    "print('x = kali, : = bagi, + = tambah, - = kurang, ^ = pangkat')\n",
    "operator = input('Masukkan operator = ')\n",
    "\n",
    "if operator==('x'):\n",
    "    print(angka1*angka2)\n",
    "elif operator ==(':'):\n",
    "    print(angka1/angka2)\n",
    "elif operator ==('+'):\n",
    "    print(angka1+angka2)\n",
    "elif operator ==('-'):\n",
    "    print(angka1-angka2)\n",
    "elif operator ==('^'):\n",
    "    print(angka1**angka2)\n"
   ]
  },
  {
   "cell_type": "code",
   "execution_count": null,
   "id": "67c0300e-7ed9-48c0-9d22-547902afb314",
   "metadata": {},
   "outputs": [],
   "source": []
  },
  {
   "cell_type": "markdown",
   "id": "7ee81452-f99d-40ed-96cf-e0973bf5d935",
   "metadata": {},
   "source": [
    "## One Dimensional Array"
   ]
  },
  {
   "cell_type": "code",
   "execution_count": 39,
   "id": "2b663970-9fe9-4378-97c2-75d247fd857d",
   "metadata": {},
   "outputs": [],
   "source": [
    "c = np.array([1,2,3])"
   ]
  },
  {
   "cell_type": "code",
   "execution_count": 32,
   "id": "b477759d-79f0-4e94-b19a-5baaf316121e",
   "metadata": {},
   "outputs": [],
   "source": [
    "a = np.array([3,2,1])"
   ]
  },
  {
   "cell_type": "code",
   "execution_count": 40,
   "id": "62e50bb9-7fce-46b2-9b63-79ae1710eb95",
   "metadata": {},
   "outputs": [
    {
     "data": {
      "text/plain": [
       "array([3, 2, 1])"
      ]
     },
     "execution_count": 40,
     "metadata": {},
     "output_type": "execute_result"
    }
   ],
   "source": [
    "a"
   ]
  },
  {
   "cell_type": "markdown",
   "id": "2936f57a-ce73-455e-a8a2-a30a68b15b03",
   "metadata": {},
   "source": [
    "## Indexing & Slicing"
   ]
  },
  {
   "cell_type": "code",
   "execution_count": 41,
   "id": "26c676d2-b5e2-4d0a-b2ab-cdfff23f2d8e",
   "metadata": {},
   "outputs": [
    {
     "data": {
      "text/plain": [
       "2"
      ]
     },
     "execution_count": 41,
     "metadata": {},
     "output_type": "execute_result"
    }
   ],
   "source": [
    "c[1]"
   ]
  },
  {
   "cell_type": "code",
   "execution_count": 52,
   "id": "7510efc0-c31b-4bea-81ab-1913027cd3ee",
   "metadata": {},
   "outputs": [],
   "source": [
    "array_1 = np.array([1,2,3,4,5,6,7,8,9])"
   ]
  },
  {
   "cell_type": "code",
   "execution_count": 53,
   "id": "dda7021e-52d6-4261-9dec-bf7ee7756301",
   "metadata": {},
   "outputs": [
    {
     "data": {
      "text/plain": [
       "array([4, 5, 6, 7, 8])"
      ]
     },
     "execution_count": 53,
     "metadata": {},
     "output_type": "execute_result"
    }
   ],
   "source": [
    "array_1[3:8]"
   ]
  },
  {
   "cell_type": "code",
   "execution_count": 54,
   "id": "c59bfb15-435e-4751-9efe-15d3c70fd299",
   "metadata": {},
   "outputs": [
    {
     "data": {
      "text/plain": [
       "(9,)"
      ]
     },
     "execution_count": 54,
     "metadata": {},
     "output_type": "execute_result"
    }
   ],
   "source": [
    "array_1.shape"
   ]
  },
  {
   "cell_type": "markdown",
   "id": "7f6c0efa-8ee7-4ef0-a2b9-331a2215860e",
   "metadata": {},
   "source": [
    "## Two Dimensional Array\n",
    "consist of list of list"
   ]
  },
  {
   "cell_type": "code",
   "execution_count": 62,
   "id": "8505dea6-1067-4288-8ccc-08726832b0ae",
   "metadata": {},
   "outputs": [
    {
     "data": {
      "text/plain": [
       "array([[1, 2, 3, 4],\n",
       "       [3, 1, 2, 4],\n",
       "       [7, 8, 4, 5]])"
      ]
     },
     "execution_count": 62,
     "metadata": {},
     "output_type": "execute_result"
    }
   ],
   "source": [
    "list_of_list = [[1,2,3,4],[3,1,2,4],[7,8,4,5]]\n",
    "np.array(list_of_list)"
   ]
  },
  {
   "cell_type": "code",
   "execution_count": 63,
   "id": "74128d38-1ad1-4aee-81a2-d6f5d27a41d5",
   "metadata": {},
   "outputs": [
    {
     "data": {
      "text/plain": [
       "(3, 4)"
      ]
     },
     "execution_count": 63,
     "metadata": {},
     "output_type": "execute_result"
    }
   ],
   "source": [
    "np.array(list_of_list).shape"
   ]
  },
  {
   "cell_type": "markdown",
   "id": "d576cb93-7ac3-4db0-b4da-26df0a8b7e88",
   "metadata": {},
   "source": [
    "## Creating Array"
   ]
  },
  {
   "cell_type": "code",
   "execution_count": 73,
   "id": "203f8d9e-1bcf-4ba8-bb2f-0b4b43669279",
   "metadata": {},
   "outputs": [
    {
     "name": "stdout",
     "output_type": "stream",
     "text": [
      "[0. 0. 0. 0. 0. 0. 0. 0.]\n",
      "[[0. 0. 0. 0.]\n",
      " [0. 0. 0. 0.]\n",
      " [0. 0. 0. 0.]]\n",
      "[[[0. 0. 0. 0.]\n",
      "  [0. 0. 0. 0.]]\n",
      "\n",
      " [[0. 0. 0. 0.]\n",
      "  [0. 0. 0. 0.]]\n",
      "\n",
      " [[0. 0. 0. 0.]\n",
      "  [0. 0. 0. 0.]]]\n"
     ]
    }
   ],
   "source": [
    "# np.zeros\n",
    "a= np.zeros(8)\n",
    "c= np.zeros([3,4])\n",
    "b= np.zeros([3,2,4])\n",
    "print(a)\n",
    "print(c)\n",
    "print(b)"
   ]
  },
  {
   "cell_type": "code",
   "execution_count": 81,
   "id": "65b28638-0eec-4c37-bbfb-673059a6f433",
   "metadata": {},
   "outputs": [
    {
     "name": "stdout",
     "output_type": "stream",
     "text": [
      "[1. 1. 1. 1. 1.]\n",
      "[[1. 1.]\n",
      " [1. 1.]\n",
      " [1. 1.]]\n",
      "[[[1. 1. 1. 1.]\n",
      "  [1. 1. 1. 1.]]\n",
      "\n",
      " [[1. 1. 1. 1.]\n",
      "  [1. 1. 1. 1.]]\n",
      "\n",
      " [[1. 1. 1. 1.]\n",
      "  [1. 1. 1. 1.]]]\n"
     ]
    }
   ],
   "source": [
    "# np.ones\n",
    "np.ones(8)\n",
    "a= np.ones([5])\n",
    "c= np.ones([3,2])\n",
    "b= np.ones([3,2,4])\n",
    "print(a)\n",
    "print(c)\n",
    "print(b)"
   ]
  },
  {
   "cell_type": "code",
   "execution_count": 87,
   "id": "582d7756-2d17-421c-9313-a3811a6569f6",
   "metadata": {},
   "outputs": [
    {
     "name": "stdout",
     "output_type": "stream",
     "text": [
      "[1. 1. 1. 1. 1.]\n",
      "[[0. 0. 0. 0. 0.]\n",
      " [0. 0. 0. 0. 0.]\n",
      " [0. 0. 0. 0. 0.]]\n"
     ]
    }
   ],
   "source": [
    "# np.empty\n",
    "print(np.empty(5))\n",
    "print(np.empty((3,5)))"
   ]
  },
  {
   "cell_type": "code",
   "execution_count": 91,
   "id": "5a33e78b-5156-4102-b090-aa599b4824bd",
   "metadata": {},
   "outputs": [
    {
     "name": "stdout",
     "output_type": "stream",
     "text": [
      "[0 1 2 3 4 5 6 7 8 9]\n",
      "[0 2 4 6 8]\n",
      "[ 0  5 10 15 20 25 30 35]\n"
     ]
    }
   ],
   "source": [
    "# np.arange\n",
    "print(np.arange(10))\n",
    "print(np.arange(0,10,2))\n",
    "print(np.arange(0,40,5))"
   ]
  },
  {
   "cell_type": "code",
   "execution_count": 122,
   "id": "373a172e-9482-4658-acab-4033167c46ae",
   "metadata": {},
   "outputs": [
    {
     "name": "stdout",
     "output_type": "stream",
     "text": [
      "[ 1  2  3  4  5  2  4  8  3 10 11  2 12 13]\n",
      "[ 1  2  4  5  2  4  8  3 10 11  2]\n",
      "[ 1  2  2  2  3  3  4  4  5  8 10 11]\n",
      "1\n",
      "2\n",
      "12\n",
      "[[ 1  2  3  4]\n",
      " [ 5  2  4  8]\n",
      " [ 3 10 11  2]]\n"
     ]
    }
   ],
   "source": [
    "d = np.array([1,2,3,4,5,2,4,8,3,10,11,2])\n",
    "e = np.zeros([2,2])\n",
    "\n",
    "print(np.append(d,[12,13]))\n",
    "\n",
    "print(np.delete(d,2))\n",
    "\n",
    "print(np.sort(d))\n",
    "\n",
    "print(d.ndim)\n",
    "print(e.ndim)\n",
    "\n",
    "print(d.size)\n",
    "\n",
    "print(d.reshape(3,4))"
   ]
  },
  {
   "cell_type": "code",
   "execution_count": 124,
   "id": "2c6b1c22-4bd7-438e-9146-ebdca667573c",
   "metadata": {},
   "outputs": [
    {
     "data": {
      "text/plain": [
       "(1, 4)"
      ]
     },
     "execution_count": 124,
     "metadata": {},
     "output_type": "execute_result"
    }
   ],
   "source": [
    "array_3 = np.array([[1,2,3,4]])\n",
    "array_3.shape"
   ]
  },
  {
   "cell_type": "code",
   "execution_count": 129,
   "id": "15017e17-2d60-4ff0-b5b0-0e0af70a5ce7",
   "metadata": {},
   "outputs": [
    {
     "name": "stdout",
     "output_type": "stream",
     "text": [
      "(4,)\n",
      "(4, 1)\n"
     ]
    }
   ],
   "source": [
    "#np.newaxis\n",
    "array_4 = np.array([4,5,6,7])\n",
    "print(array_4.shape)\n",
    "array_4[np.newaxis]\n",
    "print(array_4[:,np.newaxis].shape)"
   ]
  },
  {
   "cell_type": "code",
   "execution_count": 131,
   "id": "f10fbc7d-d3e9-4b23-ae3b-7537f00bf378",
   "metadata": {},
   "outputs": [
    {
     "name": "stdout",
     "output_type": "stream",
     "text": [
      "(2, 4)\n"
     ]
    }
   ],
   "source": [
    "array_3 = np.array([[1,2,3,4]])\n",
    "array_4 = np.array([[5,6,7,8]])\n",
    "print(np.vstack([array_3, array_4]).shape)"
   ]
  },
  {
   "cell_type": "code",
   "execution_count": 133,
   "id": "3e03c681-012e-44bb-9228-9591a871b36e",
   "metadata": {},
   "outputs": [
    {
     "name": "stdout",
     "output_type": "stream",
     "text": [
      "(1, 8)\n"
     ]
    }
   ],
   "source": [
    "array_5 = np.array([[1,2,3,4,6]])\n",
    "array_6 = np.array([[5,6,7,8,9]])\n",
    "\n",
    "print(np.hstack([array_3, array_4]).shape)"
   ]
  },
  {
   "cell_type": "code",
   "execution_count": 136,
   "id": "b9b09e4d-fe13-411c-a113-36ecd5dd88ad",
   "metadata": {},
   "outputs": [
    {
     "name": "stdout",
     "output_type": "stream",
     "text": [
      "(2, 4)\n"
     ]
    }
   ],
   "source": [
    "array_5 = np.array([1,2,3,4,6])\n",
    "array_6 = np.array([5,6,7,8,9])\n",
    "print(np.vstack([array_3, array_4]).shape)"
   ]
  },
  {
   "cell_type": "code",
   "execution_count": 138,
   "id": "0b4575ad-e1f5-49c8-81c8-ba77d44e7c8b",
   "metadata": {},
   "outputs": [
    {
     "data": {
      "text/plain": [
       "array([[1, 2, 3, 4, 5, 6, 7, 8]])"
      ]
     },
     "execution_count": 138,
     "metadata": {},
     "output_type": "execute_result"
    }
   ],
   "source": [
    "np.hstack([array_3, array_4])"
   ]
  },
  {
   "cell_type": "code",
   "execution_count": 141,
   "id": "b7ce6131-2fd0-4100-9484-2db4aa04c95e",
   "metadata": {},
   "outputs": [
    {
     "name": "stdout",
     "output_type": "stream",
     "text": [
      "[[3]\n",
      " [4]\n",
      " [5]\n",
      " [6]\n",
      " [7]\n",
      " [8]\n",
      " [9]]\n",
      "(7, 1)\n",
      "[[3 4 5 6 7 8 9]]\n",
      "(1, 7)\n"
     ]
    }
   ],
   "source": [
    "#np.expand.dims\n",
    "array_7 = np.array([3,4,5,6,7,8,9])\n",
    "array_8 = np.expand_dims(array_7,axis=1)\n",
    "array_9 = np.expand_dims(array_7,axis=0)\n",
    "print(array_8)\n",
    "print(array_8.shape)\n",
    "print(array_9)\n",
    "print(array_9.shape)"
   ]
  },
  {
   "cell_type": "code",
   "execution_count": 146,
   "id": "a622bb22-0de0-45ef-9ca0-3c03f640f3c7",
   "metadata": {},
   "outputs": [
    {
     "name": "stdout",
     "output_type": "stream",
     "text": [
      "[ 6  8 10 12 14 16 18]\n",
      "[ 5  6  7  8  9 10 11]\n",
      "[1 2 3 4 5 6 7]\n"
     ]
    }
   ],
   "source": [
    "print(array_7*2)\n",
    "print(array_7+2)\n",
    "print(array_7-2)"
   ]
  },
  {
   "cell_type": "code",
   "execution_count": 147,
   "id": "7fc14662-3f6d-4a96-a1e1-275d3a7a0a18",
   "metadata": {},
   "outputs": [
    {
     "data": {
      "text/plain": [
       "array([[ 5,  6,  7],\n",
       "       [ 8,  9, 10]])"
      ]
     },
     "execution_count": 147,
     "metadata": {},
     "output_type": "execute_result"
    }
   ],
   "source": [
    "array_10 = np.array([[1,2,3],[4,5,6]])\n",
    "array_10+4"
   ]
  },
  {
   "cell_type": "markdown",
   "id": "2e26240e-a587-45d8-b9da-8d4058533a7e",
   "metadata": {},
   "source": [
    "## Filtering Array"
   ]
  },
  {
   "cell_type": "code",
   "execution_count": 151,
   "id": "52e4ae1f-45f8-4212-9134-b574d685347e",
   "metadata": {},
   "outputs": [
    {
     "name": "stdout",
     "output_type": "stream",
     "text": [
      "[6 7 8 9]\n",
      "[6]\n",
      "[3 4 5]\n"
     ]
    }
   ],
   "source": [
    "print(array_7[array_7>5])\n",
    "print(array_7[array_7==6])\n",
    "print(array_7[array_7<=5])\n"
   ]
  },
  {
   "cell_type": "code",
   "execution_count": 154,
   "id": "c71cf5d6-86a3-4c12-908a-2051b0ce0b0b",
   "metadata": {},
   "outputs": [
    {
     "name": "stdout",
     "output_type": "stream",
     "text": [
      "[7 8 9 7]\n"
     ]
    }
   ],
   "source": [
    "a11 = np.array([[3,5,7],[8,9,7],[-2,1,-3]])\n",
    "a11.shape\n",
    "print(a11[a11>5])"
   ]
  },
  {
   "cell_type": "markdown",
   "id": "d3c4c569-4f22-4398-86b3-d0c7a89e5766",
   "metadata": {},
   "source": [
    "## QUIZ PR SESI 4\n"
   ]
  },
  {
   "attachments": {
    "3e8af174-8272-47a3-bc31-676c451a7d87.png": {
     "image/png": "[encoded data removed]"
    }
   },
   "cell_type": "markdown",
   "id": "1bdfcd19-63a0-4fb4-8ed0-d2843d0b6f90",
   "metadata": {},
   "source": [
    "![image.png](attachment:3e8af174-8272-47a3-bc31-676c451a7d87.png)\n"
   ]
  },
  {
   "cell_type": "code",
   "execution_count": 152,
   "id": "5c54c106-4f23-4837-a6e8-cdfa516e5383",
   "metadata": {},
   "outputs": [
    {
     "name": "stdin",
     "output_type": "stream",
     "text": [
      "how tall?:  8\n"
     ]
    },
    {
     "name": "stdout",
     "output_type": "stream",
     "text": [
      "\n",
      " * * * * \n",
      "  * * * \n",
      "   * * \n",
      "    * \n",
      "   * * \n",
      "  * * * \n",
      " * * * * \n"
     ]
    }
   ],
   "source": [
    "tall = float(input('how tall?: '))\n",
    "tall=(tall/2)+0.5 #untuk angka genap akan dibagi dua untuk angka ganjil karena dibagi 2 akan jadi 0.5 maka ditambah 0.5 supaya tetap bulat\n",
    "tall=int(tall) #diubah ke int dari float\n",
    "print()\n",
    "\n",
    "for i in range(tall-1): #range dikurangi satu karena nanti satunya ikut piramida satunya\n",
    "    for j in range(i+1): \n",
    "        print(' ',end='')\n",
    "    for k in range(tall-i):\n",
    "        print('* ',end='')\n",
    "    print()\n",
    "for i in range(tall):\n",
    "    print(' ' * (tall-i),end='')\n",
    "    print('* ' * (i+1))"
   ]
  },
  {
   "cell_type": "code",
   "execution_count": 146,
   "id": "66b62bbe-31ae-4438-8b99-ed43e707455d",
   "metadata": {},
   "outputs": [
    {
     "name": "stdin",
     "output_type": "stream",
     "text": [
      "how tall?:  7\n"
     ]
    },
    {
     "name": "stdout",
     "output_type": "stream",
     "text": [
      "* * * * \n",
      " * * * \n",
      "  * * \n",
      "   * \n",
      "  * * \n",
      " * * * \n",
      "* * * * \n"
     ]
    }
   ],
   "source": [
    "#Kelompok 5\n",
    "import time as s\n",
    "tall = float(input('how tall?: '))\n",
    "tall=(tall/2)+0.5 #untuk angka genap akan dibagi dua untuk angka ganjil karena dibagi 2 akan jadi 0.5 maka ditambah 0.5 supaya tetap bulat\n",
    "tall=int(tall) #diubah ke int dari float\n",
    "\n",
    "for i in range(tall-1): #range bernilai setengah dari input -1 untuk mengurangi baris ke bawah yang bernilai 1 karena satunya ikut piramida yang bawah\n",
    "    for j in range(i): #untuk setiap nilai dalam range i\n",
    "        print(' ',end='') #mencetak sebuah indent atau spasi sebanyak i (terus meningkat sampai range)\n",
    "    for k in range(tall-i): #untuk setiap nilai dalam range tall dikurang i, pada i ke 0 tall tidak dikurangi (awal sendiri)\n",
    "        print('* ',end='') #maka mencetak bintang + spasi dari fungsi tall-i akan membuat bintang semakin berkurang seiring i bertambah\n",
    "        s.sleep(0.5) #memberikan efek animasi untuk dipahami arti programnya\n",
    "    print() #untuk berpindah baris setelah menyelesaikan satu baris\n",
    "for i in range(tall): #range bernilai sesuai i sampai tall\n",
    "    print(' ' * (tall-i-1),end='') #mencetak sebuah indent atau spasi dan dikurangi 1 untuk meluruskan dengan piramida atasnya\n",
    "    print('* ' * (i+1)) #mencetak bintang sebanyak i yang di + 1 karena pada i = 0 harus bernilai 1 sampai ke 2(tidak sampai 3) bernilai 3\n",
    "    s.sleep(0.5) #memberikan efek animasii untuk memperlihatkan cara kerja piramida atas dan bawah"
   ]
  },
  {
   "cell_type": "markdown",
   "id": "e1887300-1e7a-48eb-a3b7-3f615320cbdb",
   "metadata": {},
   "source": [
    "##### tinggi_piramida = int(input('Input tinggi piramida: '))\n",
    "print()\n",
    " \n",
    "for i in range(tinggi_piramida):\n",
    "    print(' ' * (tinggi_piramida-i),end='')\n",
    "    print('* ' * (i+1))"
   ]
  },
  {
   "cell_type": "markdown",
   "id": "d64dbbca-2537-4487-b421-3ac5cf2e3339",
   "metadata": {},
   "source": [
    "## hstack, vstack, hsplit, vsplit"
   ]
  },
  {
   "cell_type": "code",
   "execution_count": 185,
   "id": "39c13771-89f4-4afd-bff2-4533371b5f1e",
   "metadata": {},
   "outputs": [
    {
     "name": "stdout",
     "output_type": "stream",
     "text": [
      "[[ 3  4  5  6  7]\n",
      " [ 7  8  8  9 11]]\n",
      "[ 3  4  5  6  7  7  8  8  9 11]\n"
     ]
    }
   ],
   "source": [
    "#stack\n",
    "array_14 = np.array([3,4,5,6,7])\n",
    "array_15 = np.array([7,8,8,9,11])\n",
    "print(np.vstack([array_14,array_15]))\n",
    "print(np.hstack([array_14,array_15]))"
   ]
  },
  {
   "cell_type": "code",
   "execution_count": 194,
   "id": "f4335f1e-3ca6-4b8d-9aaa-ee48d839ce2a",
   "metadata": {},
   "outputs": [
    {
     "name": "stdout",
     "output_type": "stream",
     "text": [
      "[array([3, 4, 5]), array([6, 7, 8])]\n"
     ]
    }
   ],
   "source": [
    "array_16 = np.array([3,4,5,6,7,8])\n",
    "array_split = np.hsplit(array_16,2)\n",
    "print(array_split)"
   ]
  },
  {
   "cell_type": "code",
   "execution_count": null,
   "id": "80013f3f-8ee3-49a4-ae12-233931dca007",
   "metadata": {},
   "outputs": [],
   "source": [
    "def prime_generator(x,y):\n",
    "    for i in range(x,y,1):\n",
    "        if "
   ]
  },
  {
   "cell_type": "code",
   "execution_count": 150,
   "id": "50277853-8a3a-4412-8531-09eab44aa949",
   "metadata": {},
   "outputs": [
    {
     "name": "stdin",
     "output_type": "stream",
     "text": [
      "Masukkan interval 1: 0\n",
      "Masukkan interval 2: 200\n"
     ]
    },
    {
     "name": "stdout",
     "output_type": "stream",
     "text": [
      "2  3  5  7  11  13  17  19  23  29  31  37  41  43  47  53  59  61  67  71  73  79  83  89  97  101  103  107  109  113  127  131  137  139  149  151  157  163  167  173  179  181  191  193  197  199  "
     ]
    }
   ],
   "source": [
    "a = int(input('Masukkan interval 1:'))\n",
    "b = int(input('Masukkan interval 2:'))\n",
    "for prima in range(a,b+1): \n",
    "    if prima > 1: \n",
    "        for i in range(2,prima): \n",
    "            if (prima % i == 0):\n",
    "                break\n",
    "        else:\n",
    "            print(prima ,' ', end='') "
   ]
  },
  {
   "cell_type": "code",
   "execution_count": null,
   "id": "9f6a6cfa-ad65-4f1c-ab96-e3cb069b93fb",
   "metadata": {},
   "outputs": [],
   "source": []
  }
 ],
 "metadata": {
  "kernelspec": {
   "display_name": "Python 3 (ipykernel)",
   "language": "python",
   "name": "python3"
  },
  "language_info": {
   "codemirror_mode": {
    "name": "ipython",
    "version": 3
   },
   "file_extension": ".py",
   "mimetype": "text/x-python",
   "name": "python",
   "nbconvert_exporter": "python",
   "pygments_lexer": "ipython3",
   "version": "3.9.13"
  }
 },
 "nbformat": 4,
 "nbformat_minor": 5
}
