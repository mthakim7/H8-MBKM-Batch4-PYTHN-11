{
 "cells": [
  {
   "cell_type": "markdown",
   "id": "56bd8344-d6fe-437b-8e7b-1d282f22dae8",
   "metadata": {},
   "source": [
    "# Percabangan dan Perulangan"
   ]
  },
  {
   "cell_type": "markdown",
   "id": "7a4ad04d-e851-470d-92ea-170d858c8e81",
   "metadata": {
    "tags": []
   },
   "source": [
    "## if else and loop"
   ]
  },
  {
   "cell_type": "markdown",
   "id": "e71cd8ab-b80a-4658-9a52-ddd0e196032b",
   "metadata": {},
   "source": [
    "### conditional"
   ]
  },
  {
   "cell_type": "markdown",
   "id": "39005fe9-9107-416f-aa15-0003e4fe0737",
   "metadata": {},
   "source": [
    "- equals: a==b\n",
    "- not equals: a!=b\n",
    "- less than: a<b\n",
    "- less than or equal for: a<=b\n",
    "- greater than: a>b\n",
    "- greater than or equal to: a>=b\n",
    "- these conditions can be used in several ways, most commonly in \"if statements\" and loops"
   ]
  },
  {
   "cell_type": "markdown",
   "id": "3a1b7f65-05a1-43ef-a365-1100b65d713c",
   "metadata": {},
   "source": [
    "if (expression):\n",
    "\n",
    "    (statements) "
   ]
  },
  {
   "cell_type": "code",
   "execution_count": 12,
   "id": "8c123aa5-1198-4387-8e17-5081d159a1e8",
   "metadata": {},
   "outputs": [
    {
     "name": "stdout",
     "output_type": "stream",
     "text": [
      " gede 3\n",
      "cilik 2\n",
      "love you\n"
     ]
    }
   ],
   "source": [
    "x = 2\n",
    "y = 3\n",
    "if x<y:\n",
    "    print(' gede 3')\n",
    "if y>x:\n",
    "    print('cilik 2')\n",
    "if 'aku' in ['aku', 'cinta', 'kamu']:\n",
    "    print ('love you')"
   ]
  },
  {
   "cell_type": "code",
   "execution_count": 13,
   "id": "514fafc1-a1d9-4135-a60a-4c8d38a88e80",
   "metadata": {},
   "outputs": [
    {
     "name": "stdout",
     "output_type": "stream",
     "text": [
      "succes\n"
     ]
    }
   ],
   "source": [
    "if x<y:\n",
    "    if y>x:\n",
    "        pass\n",
    "    print('succes')"
   ]
  },
  {
   "cell_type": "code",
   "execution_count": 11,
   "id": "063646e0-d047-4983-8657-a92c938e833b",
   "metadata": {},
   "outputs": [
    {
     "name": "stdout",
     "output_type": "stream",
     "text": [
      "fail\n",
      "succes\n"
     ]
    }
   ],
   "source": [
    "if x<y:\n",
    "    if y>x:\n",
    "        print('fail')\n",
    "    print('succes')"
   ]
  },
  {
   "cell_type": "code",
   "execution_count": 18,
   "id": "a54df6f8-88cc-4334-b88b-d623f2bc206f",
   "metadata": {},
   "outputs": [
    {
     "name": "stdout",
     "output_type": "stream",
     "text": [
      "2 2 y x sama\n"
     ]
    }
   ],
   "source": [
    "x = 2\n",
    "y =2\n",
    "if x<y:\n",
    "    print(x)\n",
    "elif x>y:\n",
    "    print(y)\n",
    "elif x==y:\n",
    "    print(x,y,'y x sama')"
   ]
  },
  {
   "cell_type": "code",
   "execution_count": 20,
   "id": "42445fd9-fb70-4a1d-a8d4-ba1c076a5387",
   "metadata": {},
   "outputs": [
    {
     "name": "stdout",
     "output_type": "stream",
     "text": [
      "kemahalan\n"
     ]
    }
   ],
   "source": [
    "x = 2\n",
    "y = 1\n",
    "if x<y:\n",
    "    print(x)\n",
    "elif x==y:\n",
    "    print(x,y,'y x sama')\n",
    "else:\n",
    "    print('kemahalan')"
   ]
  },
  {
   "cell_type": "code",
   "execution_count": 24,
   "id": "c6252324-f97c-4691-9169-c5d33ccfe369",
   "metadata": {},
   "outputs": [
    {
     "name": "stdin",
     "output_type": "stream",
     "text": [
      " 200\n"
     ]
    },
    {
     "name": "stdout",
     "output_type": "stream",
     "text": [
      "200\n"
     ]
    }
   ],
   "source": [
    "harga = int(input()) \n",
    "print(harga)"
   ]
  },
  {
   "cell_type": "code",
   "execution_count": 86,
   "id": "e0c6a1b0-fdaf-44b6-b043-40eb8e26ee1b",
   "metadata": {},
   "outputs": [
    {
     "name": "stdin",
     "output_type": "stream",
     "text": [
      " 5\n"
     ]
    },
    {
     "name": "stdout",
     "output_type": "stream",
     "text": [
      "total belanja anda adalah 15000 (15000 di diskon 0 % )\n"
     ]
    }
   ],
   "source": [
    "beli = int(input())\n",
    "pisang = 3000\n",
    "belanja_awal = 3000*beli\n",
    "if belanja_awal>100000:\n",
    "    diskon=0.1\n",
    "    belanja=belanja_awal - belanja_awal*diskon;\n",
    "    print('total belanja anda adalah {} ({} di diskon {} % )'.format(belanja, belanja_awal,diskon*100))\n",
    "elif belanja_awal>50000:\n",
    "    diskon=0.05\n",
    "    belanja=belanja_awal - belanja_awal*diskon\n",
    "    print('total belanja anda adalah {} ({} di diskon {} % )'.format(belanja, belanja_awal,diskon*100))\n",
    "elif belanja_awal<50000:\n",
    "    belanja=belanja_awal\n",
    "    diskon=0\n",
    "    print('total belanja anda adalah {} ({} di diskon {} % )'.format(belanja, belanja_awal,diskon*100))"
   ]
  },
  {
   "cell_type": "markdown",
   "id": "0080ded6-3fec-4d9a-9264-37800c32a70e",
   "metadata": {},
   "source": [
    "## One Line if statements"
   ]
  },
  {
   "cell_type": "code",
   "execution_count": 88,
   "id": "fd05cd28-539c-4616-ade7-184d276ad43b",
   "metadata": {},
   "outputs": [
    {
     "name": "stdout",
     "output_type": "stream",
     "text": [
      "Mahal amat\n",
      "banget\n",
      "50000\n"
     ]
    }
   ],
   "source": [
    "harga_jeruk = 50000\n",
    "standar_harga = 30000\n",
    "if harga_jeruk>standar_harga: print(\"Mahal amat\");print(\"banget\");print(harga_jeruk);"
   ]
  },
  {
   "cell_type": "markdown",
   "id": "c68587f8-9e81-4d05-8262-202ce99f23c9",
   "metadata": {},
   "source": [
    "## Conditional Expressions"
   ]
  },
  {
   "cell_type": "code",
   "execution_count": 91,
   "id": "d12f794b-fa69-4244-9c73-3b035065dc12",
   "metadata": {},
   "outputs": [
    {
     "name": "stdout",
     "output_type": "stream",
     "text": [
      "Muda\n"
     ]
    }
   ],
   "source": [
    "umur = 40\n",
    "s='tua' if umur > 40 else 'Muda'\n",
    "print(s)"
   ]
  },
  {
   "cell_type": "code",
   "execution_count": 94,
   "id": "ef9f1aa8-67ba-460e-b407-fbf7133ea628",
   "metadata": {},
   "outputs": [
    {
     "name": "stdout",
     "output_type": "stream",
     "text": [
      "In Calss\n"
     ]
    }
   ],
   "source": [
    "nama = 'Hakim'\n",
    "n = 'In Calss' if nama in ['Hakim','nunu'] else 'out of class'\n",
    "print(n)"
   ]
  },
  {
   "cell_type": "markdown",
   "id": "cca62bac-5c3d-4cf0-833e-fdc18a67b481",
   "metadata": {},
   "source": [
    "Pass artinya dilewatin"
   ]
  },
  {
   "cell_type": "code",
   "execution_count": 100,
   "id": "5dcfe26d-7817-4d22-a391-37dd7539a3e9",
   "metadata": {},
   "outputs": [
    {
     "name": "stdout",
     "output_type": "stream",
     "text": [
      "berapa gaji anda?\n"
     ]
    },
    {
     "name": "stdin",
     "output_type": "stream",
     "text": [
      " 10000000000000\n"
     ]
    },
    {
     "name": "stdout",
     "output_type": "stream",
     "text": [
      "year of service?\n"
     ]
    },
    {
     "name": "stdin",
     "output_type": "stream",
     "text": [
      " 20\n"
     ]
    },
    {
     "name": "stdout",
     "output_type": "stream",
     "text": [
      "Total Gaji anda IDR 11000000000000.0  \n"
     ]
    }
   ],
   "source": [
    "print(\"berapa gaji anda?\")\n",
    "gaji_asli = int(input())\n",
    "print(\"year of service?\")\n",
    "tahun = int(input())\n",
    "\n",
    "if tahun>10:\n",
    "    bonus = 0.1\n",
    "    gaji = gaji_asli + gaji_asli*bonus\n",
    "    print('Total Gaji anda IDR {}  '.format(gaji,))\n",
    "else:\n",
    "    bonus = 0\n",
    "    gaji = gaji_asli\n",
    "    print('Total Gaji anda IDR {} '.format(gaji, ))\n"
   ]
  },
  {
   "cell_type": "code",
   "execution_count": 103,
   "id": "53316a31-c238-48db-98cf-12890b4b4737",
   "metadata": {},
   "outputs": [
    {
     "name": "stdout",
     "output_type": "stream",
     "text": [
      "berapa gaji anda?\n"
     ]
    },
    {
     "name": "stdin",
     "output_type": "stream",
     "text": [
      " 15\n"
     ]
    },
    {
     "name": "stdout",
     "output_type": "stream",
     "text": [
      "year of service?\n"
     ]
    },
    {
     "name": "stdin",
     "output_type": "stream",
     "text": [
      " 15\n"
     ]
    },
    {
     "name": "stdout",
     "output_type": "stream",
     "text": [
      "17.25\n",
      "Total Gaji anda IDR 16.5  \n"
     ]
    }
   ],
   "source": [
    "print(\"berapa gaji anda?\")\n",
    "gaji_asli = int(input())\n",
    "print(\"year of service?\")\n",
    "tahun = int(input())\n",
    "pengkali = (tahun/10)*0.1\n",
    "gaji = gaji_asli + gaji_asli*pengkali\n",
    "print(gaji)\n",
    "\n",
    "if tahun>10:\n",
    "    bonus = 0.1\n",
    "    gaji = gaji_asli + gaji_asli*bonus\n",
    "    print('Total Gaji anda IDR {}  '.format(gaji,))\n",
    "else:\n",
    "    bonus = 0\n",
    "    gaji = gaji_asli\n",
    "    print('Total Gaji anda IDR {} '.format(gaji, ))"
   ]
  },
  {
   "cell_type": "markdown",
   "id": "47b861f7-3b7a-46de-89f9-cc7b1f6ee6d0",
   "metadata": {},
   "source": [
    "## Loop\n",
    "Perulangan"
   ]
  },
  {
   "cell_type": "code",
   "execution_count": 109,
   "id": "610689d9-6435-46a8-8a44-100781142b49",
   "metadata": {},
   "outputs": [
    {
     "name": "stdout",
     "output_type": "stream",
     "text": [
      "haniayam\n",
      "melvinayam\n",
      "avinayam\n",
      "vinayam\n",
      "upinayam\n"
     ]
    }
   ],
   "source": [
    "for i in ['hani','melvin','avin','vin','upin']:\n",
    "    print(i+'ayam')"
   ]
  },
  {
   "cell_type": "code",
   "execution_count": 112,
   "id": "3c384644-1587-4ac0-8721-d7fd4fbe4468",
   "metadata": {},
   "outputs": [
    {
     "name": "stdout",
     "output_type": "stream",
     "text": [
      "2\n",
      "3\n",
      "4\n",
      "5\n"
     ]
    }
   ],
   "source": [
    "for i in [1,2,3,4]:\n",
    "    print(i+1)"
   ]
  },
  {
   "cell_type": "code",
   "execution_count": 1,
   "id": "1380fdd4-9123-482e-a3c7-2e3764baa694",
   "metadata": {},
   "outputs": [
    {
     "name": "stdout",
     "output_type": "stream",
     "text": [
      "4\n",
      "3\n",
      "2\n",
      "1\n",
      "0\n"
     ]
    }
   ],
   "source": [
    "apel = 5\n",
    "while apel>0:\n",
    "    apel-=1\n",
    "    print(apel)"
   ]
  },
  {
   "cell_type": "code",
   "execution_count": 2,
   "id": "c14d77dd-900b-4c75-a1a5-d9d9a202fba3",
   "metadata": {},
   "outputs": [
    {
     "name": "stdout",
     "output_type": "stream",
     "text": [
      "s\n",
      "t\n",
      "r\n",
      "i\n",
      "n\n",
      "g\n"
     ]
    }
   ],
   "source": [
    "for i in 'string':\n",
    "    print(i)"
   ]
  },
  {
   "cell_type": "code",
   "execution_count": 5,
   "id": "4de79691-2f7e-497c-8799-06eca3c0ae90",
   "metadata": {},
   "outputs": [
    {
     "name": "stdout",
     "output_type": "stream",
     "text": [
      "4\n",
      "3\n",
      "Woy 2 Woy\n",
      "WOY 1 WOY\n",
      "0\n"
     ]
    }
   ],
   "source": [
    "apel = 5\n",
    "while apel>0:\n",
    "    apel-=1\n",
    "    if apel == 1:\n",
    "        print('WOY 1 WOY')\n",
    "    elif apel ==2:\n",
    "        print('Woy 2 Woy')\n",
    "    else:\n",
    "        print(apel)"
   ]
  },
  {
   "cell_type": "code",
   "execution_count": 9,
   "id": "85765d9e-a4d2-4f83-83c4-f0175520d3b5",
   "metadata": {},
   "outputs": [
    {
     "name": "stdout",
     "output_type": "stream",
     "text": [
      "4\n",
      "3\n",
      "2\n",
      "sisa 1 jgn di abisin\n",
      "Loop End\n"
     ]
    }
   ],
   "source": [
    "#break\n",
    "apel = 5\n",
    "while apel>0:\n",
    "    apel-=1\n",
    "    if apel == 1:\n",
    "        print('sisa 1 jgn di abisin')\n",
    "        break\n",
    "    print(apel)\n",
    "print('Loop End')"
   ]
  },
  {
   "cell_type": "code",
   "execution_count": 12,
   "id": "d120dfc3-a222-4015-8f3c-aadfdd6a020a",
   "metadata": {},
   "outputs": [
    {
     "name": "stdout",
     "output_type": "stream",
     "text": [
      "3\n",
      "sisa 1 jgn di abisin\n",
      "-1\n",
      "Loop End\n"
     ]
    }
   ],
   "source": [
    "apel = 5\n",
    "while apel>0:\n",
    "    apel-=2\n",
    "    if apel == 1:\n",
    "        print('sisa 1 jgn di abisin')\n",
    "        continue\n",
    "    print(apel)\n",
    "print('Loop End')"
   ]
  },
  {
   "cell_type": "code",
   "execution_count": 11,
   "id": "ae8ddb36-d555-4bae-8d71-ff2199907089",
   "metadata": {},
   "outputs": [
    {
     "name": "stdout",
     "output_type": "stream",
     "text": [
      "4\n",
      "3\n",
      "2\n",
      "1\n",
      "0\n",
      "Loop End\n"
     ]
    }
   ],
   "source": [
    "apel = 5\n",
    "while apel>0:\n",
    "    apel-=1\n",
    "    print(apel)\n",
    "else:\n",
    "    print('Loop End')"
   ]
  },
  {
   "cell_type": "markdown",
   "id": "09e15522-7296-4d39-a49c-5c8dc3b73d02",
   "metadata": {},
   "source": [
    "## Nester If - Else & Loops"
   ]
  },
  {
   "cell_type": "code",
   "execution_count": 18,
   "id": "de60fbe9-4d7e-4566-b04d-17d168d8af17",
   "metadata": {},
   "outputs": [
    {
     "name": "stdin",
     "output_type": "stream",
     "text": [
      " 25\n"
     ]
    },
    {
     "name": "stdout",
     "output_type": "stream",
     "text": [
      "Boy\n"
     ]
    }
   ],
   "source": [
    "umur =int(input())\n",
    "gender = 'M'\n",
    "if umur < 18:\n",
    "    if gender == 'M':\n",
    "        print('Son')\n",
    "    else:\n",
    "        print('Daughter')\n",
    "elif umur > 18 and umur < 65:\n",
    "    if gender == 'M':\n",
    "        print('Boy')\n",
    "    else:\n",
    "        print('Girl')"
   ]
  },
  {
   "cell_type": "markdown",
   "id": "20690ca4-5b2d-4249-bc5b-d618d1af945b",
   "metadata": {},
   "source": [
    "## One line While Loops"
   ]
  },
  {
   "cell_type": "markdown",
   "id": "3a5fc21e-9508-47c7-8106-545b57c1dab6",
   "metadata": {},
   "source": [
    "## For LOOP"
   ]
  },
  {
   "cell_type": "code",
   "execution_count": 21,
   "id": "68c97328-b6bb-4130-b92c-ffdfa6703a8c",
   "metadata": {},
   "outputs": [
    {
     "name": "stdout",
     "output_type": "stream",
     "text": [
      "1\n",
      "2\n",
      "3\n",
      "4\n",
      "5\n"
     ]
    }
   ],
   "source": [
    "a = [1,2,3,4,5]\n",
    "for i in a:\n",
    "    print(i)"
   ]
  },
  {
   "cell_type": "code",
   "execution_count": 25,
   "id": "ed00b7b2-d069-4491-b14c-78ee041ed435",
   "metadata": {},
   "outputs": [
    {
     "name": "stdout",
     "output_type": "stream",
     "text": [
      "b\n",
      "u\n",
      "d\n",
      "i\n",
      "j\n",
      "o\n",
      "k\n",
      "o\n",
      "a\n",
      "n\n",
      "w\n",
      "a\n",
      "r\n"
     ]
    }
   ],
   "source": [
    "# Nester For Loop\n",
    "b=['budi','joko','anwar']\n",
    "for i in b:\n",
    "    for j in i:\n",
    "        print(j)"
   ]
  },
  {
   "cell_type": "code",
   "execution_count": 27,
   "id": "ebddff4f-4fd0-41c4-8300-97138bcb96d9",
   "metadata": {},
   "outputs": [
    {
     "name": "stdout",
     "output_type": "stream",
     "text": [
      "budi\n",
      "joko\n",
      "anwar\n"
     ]
    }
   ],
   "source": [
    "# Nester For Loop\n",
    "b=['budi','joko','anwar']\n",
    "for i in b:\n",
    "       print(i)"
   ]
  },
  {
   "cell_type": "code",
   "execution_count": 32,
   "id": "4b7708ff-490e-4917-9b9e-52c468777144",
   "metadata": {},
   "outputs": [
    {
     "name": "stdout",
     "output_type": "stream",
     "text": [
      "b\n",
      "u\n",
      "d\n",
      "i\n",
      "j\n",
      "o\n"
     ]
    }
   ],
   "source": [
    "# Nester For Loop\n",
    "b=['budi','joko','anwar']\n",
    "for i in b:\n",
    "    if i == 'anwar':\n",
    "        break\n",
    "    for j in i:\n",
    "        if j == 'k':\n",
    "            break\n",
    "        print(j)"
   ]
  },
  {
   "cell_type": "code",
   "execution_count": 50,
   "id": "a2336475-1684-40fd-9828-ef7a068b4af9",
   "metadata": {},
   "outputs": [
    {
     "name": "stdout",
     "output_type": "stream",
     "text": [
      "Jakarta\n"
     ]
    }
   ],
   "source": [
    "dictionary_a = {'A':'Bekasi','B':'Jakarta','C':'Medan'}\n",
    "for i in dictionary_a:\n",
    "    if i == 'B':\n",
    "        print(dictionary_a [i])\n",
    "        break\n",
    "    dictionary_a[i]\n"
   ]
  },
  {
   "cell_type": "code",
   "execution_count": 46,
   "id": "ac5f5772-d5b1-462a-89f0-a607aaf171d1",
   "metadata": {},
   "outputs": [
    {
     "data": {
      "text/plain": [
       "'Jakarta'"
      ]
     },
     "execution_count": 46,
     "metadata": {},
     "output_type": "execute_result"
    }
   ],
   "source": [
    "dictionary_a['B']"
   ]
  },
  {
   "cell_type": "code",
   "execution_count": 51,
   "id": "09ca07f3-9a50-4cdf-9b2b-aaa033c78e2e",
   "metadata": {},
   "outputs": [
    {
     "name": "stdout",
     "output_type": "stream",
     "text": [
      "Bekasi\n",
      "Jakarta\n",
      "Medan\n"
     ]
    }
   ],
   "source": [
    "dictionary_a = {'A':'Bekasi','B':'Jakarta','C':'Medan'}\n",
    "for i in dictionary_a:\n",
    "     print(dictionary_a [i])\n",
    "\n"
   ]
  },
  {
   "cell_type": "code",
   "execution_count": 64,
   "id": "eb447a9d-026f-43ed-b5db-0a602d360638",
   "metadata": {},
   "outputs": [
    {
     "name": "stdout",
     "output_type": "stream",
     "text": [
      "B\n",
      "D\n"
     ]
    }
   ],
   "source": [
    "dictionary_a = {'A':'Bekasi','B':'Jakarta','C':'Medan','D':'Jakarta'}\n",
    "for i in dictionary_a:\n",
    "    if dictionary_a[i]== 'Jakarta':\n",
    "        print(i)\n",
    "    dictionary_a[i]\n"
   ]
  },
  {
   "cell_type": "code",
   "execution_count": 69,
   "id": "631d40e1-56b2-4cad-a5e7-c85911034546",
   "metadata": {},
   "outputs": [
    {
     "name": "stdout",
     "output_type": "stream",
     "text": [
      "Jakarta\n",
      "Malang\n",
      "YogJakarta\n"
     ]
    }
   ],
   "source": [
    "dictionary_a = {'A':'Bekasi','B':'Jakarta','C':'Malang','D':'YogJakarta'}\n",
    "for i in dictionary_a:\n",
    "    if 'e' in dictionary_a[i] :\n",
    "        continue\n",
    "    print(dictionary_a[i])\n"
   ]
  },
  {
   "cell_type": "code",
   "execution_count": 68,
   "id": "3fcf27c5-6fbd-414a-a1e8-a617b72a6656",
   "metadata": {},
   "outputs": [
    {
     "name": "stdout",
     "output_type": "stream",
     "text": [
      "Bekasi\n",
      "Jakarta\n"
     ]
    }
   ],
   "source": [
    "dictionary_a = {'A':'Bekasi','B':'Jakarta','C':'Malang','D':'YogJakarta'}\n",
    "for i in dictionary_a:\n",
    "    if 'l' in dictionary_a[i] :\n",
    "        break\n",
    "    print(dictionary_a[i])\n"
   ]
  },
  {
   "cell_type": "code",
   "execution_count": 70,
   "id": "27c07bee-081d-43f6-87db-f418c5449a2c",
   "metadata": {},
   "outputs": [
    {
     "name": "stdout",
     "output_type": "stream",
     "text": [
      "Bekasi\n",
      "Jakarta\n",
      "Malang\n",
      "YogJakarta\n"
     ]
    }
   ],
   "source": [
    "dictionary_a = {'A':'Bekasi','B':'Jakarta','C':'Malang','D':'YogJakarta'}\n",
    "for i in dictionary_a:\n",
    "    if 'e' in dictionary_a[i] :\n",
    "        pass\n",
    "    print(dictionary_a[i])"
   ]
  },
  {
   "cell_type": "markdown",
   "id": "401bd3f5-ed56-4619-be91-2bc3c1a61916",
   "metadata": {},
   "source": [
    "- loop itu keselurahan iterasi objek 1 loop diatas banyaknya iterasi\n",
    "- iterasi adalah istilah untuk 1 putaran loop\n",
    "- continue akan memberhentikan iterasi dan lanjut ke iterasi berikutnya\n",
    "- break akan memberhentikan looping secara kesuluruhan (loop sisanya)"
   ]
  },
  {
   "cell_type": "code",
   "execution_count": 71,
   "id": "09214237-9288-405a-93ae-8158a8b17f76",
   "metadata": {},
   "outputs": [
    {
     "data": {
      "text/plain": [
       "dict_values(['Bekasi', 'Jakarta', 'Malang', 'YogJakarta'])"
      ]
     },
     "execution_count": 71,
     "metadata": {},
     "output_type": "execute_result"
    }
   ],
   "source": [
    "dictionary_a.values()"
   ]
  },
  {
   "cell_type": "code",
   "execution_count": 72,
   "id": "19afc2bd-cad1-4390-93fc-b7c381c114e3",
   "metadata": {},
   "outputs": [
    {
     "data": {
      "text/plain": [
       "dict_keys(['A', 'B', 'C', 'D'])"
      ]
     },
     "execution_count": 72,
     "metadata": {},
     "output_type": "execute_result"
    }
   ],
   "source": [
    "dictionary_a.keys()"
   ]
  },
  {
   "cell_type": "code",
   "execution_count": 76,
   "id": "dee4c8fc-ce76-4d94-a958-ef2711e1aa79",
   "metadata": {},
   "outputs": [
    {
     "name": "stdout",
     "output_type": "stream",
     "text": [
      "dict_values(['Bekasi', 'Jakarta', 'Malang', 'YogJakarta'])\n"
     ]
    }
   ],
   "source": [
    "print(dictionary_a.values())"
   ]
  },
  {
   "cell_type": "code",
   "execution_count": 77,
   "id": "ea3db4bd-120e-4807-8b41-79d6297a285c",
   "metadata": {},
   "outputs": [
    {
     "name": "stdout",
     "output_type": "stream",
     "text": [
      "range(0, 5)\n"
     ]
    }
   ],
   "source": [
    "print(range(5))"
   ]
  },
  {
   "cell_type": "code",
   "execution_count": 80,
   "id": "fdbd36bb-72bd-4f07-8410-94248fe26d21",
   "metadata": {},
   "outputs": [
    {
     "data": {
      "text/plain": [
       "['c', 'd']"
      ]
     },
     "execution_count": 80,
     "metadata": {},
     "output_type": "execute_result"
    }
   ],
   "source": [
    "a = ['a','b','c','d','f']\n",
    "a[2:4]"
   ]
  },
  {
   "cell_type": "code",
   "execution_count": 91,
   "id": "5fb40f4e-980f-4172-b459-fe1c286c4895",
   "metadata": {},
   "outputs": [
    {
     "name": "stdout",
     "output_type": "stream",
     "text": [
      "1\n",
      "2\n",
      "3\n",
      "4\n",
      "5\n",
      "6\n",
      "7\n",
      "8\n",
      "9\n",
      "10\n"
     ]
    }
   ],
   "source": [
    "for i in range(10):\n",
    "    print(i+1)\n",
    "    "
   ]
  },
  {
   "cell_type": "code",
   "execution_count": 93,
   "id": "3c2cfa82-57c8-400b-a00a-f87c5a1595c9",
   "metadata": {},
   "outputs": [
    {
     "name": "stdout",
     "output_type": "stream",
     "text": [
      "(1, 3)\n",
      "(2, 4)\n",
      "(4, 5)\n",
      "(5, 6)\n",
      "(6, 7)\n"
     ]
    }
   ],
   "source": [
    "a = [1,2,4,5,6]\n",
    "b = [3,4,5,6,7]\n",
    "for i in zip(a,b):\n",
    "    print(i)"
   ]
  },
  {
   "cell_type": "code",
   "execution_count": 94,
   "id": "6aa174d4-6b25-4c99-a774-b73ad0500dbb",
   "metadata": {},
   "outputs": [
    {
     "name": "stdout",
     "output_type": "stream",
     "text": [
      "4\n",
      "6\n",
      "9\n",
      "11\n",
      "13\n"
     ]
    }
   ],
   "source": [
    "a = [1,2,4,5,6]\n",
    "b = [3,4,5,6,7]\n",
    "for i,j in zip(a,b):\n",
    "    print(i+j)"
   ]
  },
  {
   "cell_type": "code",
   "execution_count": 96,
   "id": "7b296f00-8d77-4a6d-810d-17afd949132a",
   "metadata": {},
   "outputs": [
    {
     "name": "stdout",
     "output_type": "stream",
     "text": [
      "1 3 5\n",
      "2 4 6\n",
      "4 5 7\n",
      "5 6 8\n",
      "6 7 9\n"
     ]
    }
   ],
   "source": [
    "a = [1,2,4,5,6]\n",
    "b = [3,4,5,6,7]\n",
    "c = [5,6,7,8,9]\n",
    "for i,j,k in zip(a,b,c):\n",
    "    print(i,j,k)"
   ]
  },
  {
   "cell_type": "code",
   "execution_count": 97,
   "id": "09391202-f606-4a50-8b0e-0c44a0635cd4",
   "metadata": {},
   "outputs": [
    {
     "name": "stdout",
     "output_type": "stream",
     "text": [
      "9\n",
      "12\n",
      "16\n",
      "19\n",
      "22\n"
     ]
    }
   ],
   "source": [
    "a = [1,2,4,5,6]\n",
    "b = [3,4,5,6,7]\n",
    "c = [5,6,7,8,9]\n",
    "for i,j,k in zip(a,b,c):\n",
    "    print(i+j+k)"
   ]
  },
  {
   "cell_type": "code",
   "execution_count": 100,
   "id": "d6d6f744-2605-4ec6-948e-751c92c482f7",
   "metadata": {},
   "outputs": [
    {
     "name": "stdout",
     "output_type": "stream",
     "text": [
      "Genap\n",
      "1\n",
      "Genap\n",
      "3\n",
      "Genap\n",
      "5\n",
      "Genap\n",
      "7\n",
      "Genap\n",
      "9\n",
      "Genap\n",
      "11\n",
      "Genap\n",
      "13\n",
      "Genap\n",
      "15\n",
      "Genap\n",
      "17\n",
      "Genap\n",
      "19\n",
      "Genap\n"
     ]
    }
   ],
   "source": [
    "for i in range(21):\n",
    "    a=i%2\n",
    "    if a==1:\n",
    "        print(i)\n",
    "    else:\n",
    "        print('Genap')"
   ]
  },
  {
   "cell_type": "code",
   "execution_count": 104,
   "id": "9a3d5cbb-42ea-4c2b-a982-54909cb08ba6",
   "metadata": {},
   "outputs": [
    {
     "name": "stdout",
     "output_type": "stream",
     "text": [
      "1\n",
      "genap\n",
      "3\n",
      "genap\n",
      "5\n",
      "genap\n",
      "7\n",
      "genap\n",
      "9\n",
      "genap\n",
      "11\n",
      "genap\n",
      "13\n",
      "genap\n",
      "15\n",
      "genap\n",
      "17\n",
      "genap\n",
      "19\n",
      "genap\n"
     ]
    }
   ],
   "source": [
    "i = 1\n",
    "while i<21 :\n",
    "    if i%2 == 0:\n",
    "        print('genap')\n",
    "    else:\n",
    "        print(i)\n",
    "    i +=1"
   ]
  },
  {
   "cell_type": "code",
   "execution_count": null,
   "id": "b88f6f10-c2fe-46c3-b766-fce0ab4c46bd",
   "metadata": {},
   "outputs": [],
   "source": [
    "i = int(input())\n",
    "while y>i:\n",
    "    "
   ]
  },
  {
   "cell_type": "markdown",
   "id": "6e2fd3c2-2fb3-4923-9ccb-931eb1386475",
   "metadata": {},
   "source": [
    "## bikin piramida angka  \n",
    "misal 1-10 balik lagi 10-1\n",
    "- 1\n",
    "- 12\n",
    "- 123\n",
    "- 1234\n",
    "- 12345\n",
    "- 123456\n",
    "- 1234567\n",
    "- 12345678\n",
    "- 123456789\n",
    "- 12345678910\n",
    "- 123456789\n",
    "- 12345678\n",
    "- 1234567\n",
    "- 123456\n",
    "- 12345\n",
    "- 1234\n",
    "- 123\n",
    "- 12\n",
    "- 1"
   ]
  },
  {
   "cell_type": "code",
   "execution_count": null,
   "id": "284cd2b9-41ce-402d-bb00-54ce89f7d80a",
   "metadata": {},
   "outputs": [],
   "source": []
  }
 ],
 "metadata": {
  "kernelspec": {
   "display_name": "Python 3 (ipykernel)",
   "language": "python",
   "name": "python3"
  },
  "language_info": {
   "codemirror_mode": {
    "name": "ipython",
    "version": 3
   },
   "file_extension": ".py",
   "mimetype": "text/x-python",
   "name": "python",
   "nbconvert_exporter": "python",
   "pygments_lexer": "ipython3",
   "version": "3.9.13"
  }
 },
 "nbformat": 4,
 "nbformat_minor": 5
}
