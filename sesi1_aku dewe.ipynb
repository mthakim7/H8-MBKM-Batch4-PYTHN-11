{
 "cells": [
  {
   "cell_type": "code",
   "execution_count": 1,
   "id": "a0a9803b-27e1-4cb0-b3a3-84dfb6edb3d0",
   "metadata": {},
   "outputs": [
    {
     "name": "stdout",
     "output_type": "stream",
     "text": [
      "halo\n"
     ]
    }
   ],
   "source": [
    "print(\"halo\")"
   ]
  },
  {
   "cell_type": "code",
   "execution_count": null,
   "id": "756daad5-882f-48ae-996f-7a32d0b0d2eb",
   "metadata": {
    "tags": []
   },
   "outputs": [
    {
     "name": "stdout",
     "output_type": "stream",
     "text": [
      "halo\n"
     ]
    }
   ],
   "source": [
    "print('halo');"
   ]
  },
  {
   "cell_type": "code",
   "execution_count": 5,
   "id": "0244badb-33a7-4178-8a63-cd0b1565aba2",
   "metadata": {},
   "outputs": [
    {
     "name": "stdout",
     "output_type": "stream",
     "text": [
      "0\n"
     ]
    }
   ],
   "source": [
    "print(10^10);"
   ]
  },
  {
   "cell_type": "code",
   "execution_count": 6,
   "id": "c42f66e0-9132-4752-9ef7-367a355d4b6a",
   "metadata": {},
   "outputs": [
    {
     "name": "stdout",
     "output_type": "stream",
     "text": [
      "<class 'int'>\n"
     ]
    }
   ],
   "source": [
    "print(type(3))"
   ]
  },
  {
   "cell_type": "code",
   "execution_count": 7,
   "id": "c42874da-e4ca-4030-821a-9eccaea908b2",
   "metadata": {},
   "outputs": [
    {
     "data": {
      "text/plain": [
       "int"
      ]
     },
     "execution_count": 7,
     "metadata": {},
     "output_type": "execute_result"
    }
   ],
   "source": [
    "type(3)"
   ]
  },
  {
   "cell_type": "code",
   "execution_count": 10,
   "id": "a6a21ac0-5a73-48a9-876f-77984efc5e84",
   "metadata": {},
   "outputs": [],
   "source": [
    "# Float #"
   ]
  },
  {
   "cell_type": "code",
   "execution_count": 15,
   "id": "00be0081-59ba-4ff2-ba6e-e83f7f3b8276",
   "metadata": {},
   "outputs": [
    {
     "name": "stdout",
     "output_type": "stream",
     "text": [
      "2.5\n"
     ]
    }
   ],
   "source": [
    "print(2.5)"
   ]
  },
  {
   "cell_type": "code",
   "execution_count": 14,
   "id": "bd6611e9-0b51-42e1-8afe-e3651df72c06",
   "metadata": {},
   "outputs": [
    {
     "data": {
      "text/plain": [
       "float"
      ]
     },
     "execution_count": 14,
     "metadata": {},
     "output_type": "execute_result"
    }
   ],
   "source": [
    "type(2.5)"
   ]
  },
  {
   "cell_type": "code",
   "execution_count": 16,
   "id": "d6f6f33a-e7cd-42dc-9afb-346ed07cc8a0",
   "metadata": {},
   "outputs": [
    {
     "name": "stdout",
     "output_type": "stream",
     "text": [
      "42000000.0\n"
     ]
    }
   ],
   "source": [
    "print(4.2e7)"
   ]
  },
  {
   "cell_type": "code",
   "execution_count": 17,
   "id": "4e62433e-2e8d-4652-8546-1b86688a9784",
   "metadata": {},
   "outputs": [
    {
     "data": {
      "text/plain": [
       "float"
      ]
     },
     "execution_count": 17,
     "metadata": {},
     "output_type": "execute_result"
    }
   ],
   "source": [
    "type(4.2e7)"
   ]
  },
  {
   "cell_type": "code",
   "execution_count": 18,
   "id": "ba94ef85-0540-4ef0-ac0a-ae19afc4f5d1",
   "metadata": {},
   "outputs": [],
   "source": [
    " # STRING"
   ]
  },
  {
   "cell_type": "code",
   "execution_count": 19,
   "id": "d10c1acd-2d3b-4a8f-b214-9f98a72c0cdc",
   "metadata": {},
   "outputs": [
    {
     "name": "stdout",
     "output_type": "stream",
     "text": [
      "Hakim\n"
     ]
    }
   ],
   "source": [
    "print(\"Hakim\")"
   ]
  },
  {
   "cell_type": "code",
   "execution_count": 20,
   "id": "71bbe4f0-e8e2-4d9d-8a13-fbd2e969d723",
   "metadata": {},
   "outputs": [],
   "source": [
    "#Bolean"
   ]
  },
  {
   "cell_type": "code",
   "execution_count": 21,
   "id": "733699aa-ce61-4794-bf3f-7ccaa1989e5f",
   "metadata": {},
   "outputs": [
    {
     "data": {
      "text/plain": [
       "False"
      ]
     },
     "execution_count": 21,
     "metadata": {},
     "output_type": "execute_result"
    }
   ],
   "source": [
    "True\n",
    "False"
   ]
  },
  {
   "cell_type": "code",
   "execution_count": 22,
   "id": "700def03-9b02-4eb4-99a8-07e058a4ed05",
   "metadata": {},
   "outputs": [
    {
     "data": {
      "text/plain": [
       "bool"
      ]
     },
     "execution_count": 22,
     "metadata": {},
     "output_type": "execute_result"
    }
   ],
   "source": [
    "type(True)"
   ]
  },
  {
   "cell_type": "markdown",
   "id": "20961331-62c0-4a57-9c65-6937b2af8dc6",
   "metadata": {},
   "source": [
    " Ada 4 data type yang paling sering digunakan\n",
    " - integer\n",
    " - float\n",
    " - string\n",
    " - bolean"
   ]
  },
  {
   "cell_type": "code",
   "execution_count": 33,
   "id": "3094706d-62f7-450b-985d-8b12257b3230",
   "metadata": {},
   "outputs": [],
   "source": [
    "# Variabel"
   ]
  },
  {
   "cell_type": "code",
   "execution_count": 32,
   "id": "4417ce8b-0f18-43ba-ba6a-59a3097ca89c",
   "metadata": {},
   "outputs": [
    {
     "name": "stdout",
     "output_type": "stream",
     "text": [
      "10\n",
      "<class 'int'>\n",
      "aku\n",
      "<class 'str'>\n"
     ]
    }
   ],
   "source": [
    "a = 10\n",
    "print(a)\n",
    "print(type(a))\n",
    "b = \"aku\"\n",
    "print(b)\n",
    "print(type(b))"
   ]
  },
  {
   "cell_type": "code",
   "execution_count": 39,
   "id": "80dde6ca-ec4e-42e9-9c32-c8d6eec25faf",
   "metadata": {},
   "outputs": [
    {
     "name": "stdout",
     "output_type": "stream",
     "text": [
      "bangil malang\n"
     ]
    }
   ],
   "source": [
    "rumah = 'bangil'\n",
    "Rumah = 'malang'\n",
    "print(rumah, Rumah)"
   ]
  },
  {
   "cell_type": "markdown",
   "id": "bbc16ba5-a0b8-4dee-a97d-8ad66d8513bc",
   "metadata": {},
   "source": [
    "## Operator Aritmatika"
   ]
  },
  {
   "cell_type": "code",
   "execution_count": 41,
   "id": "9f606690-4346-4d31-9aaf-818e829cb5fc",
   "metadata": {},
   "outputs": [
    {
     "name": "stdout",
     "output_type": "stream",
     "text": [
      "50\n"
     ]
    }
   ],
   "source": [
    "a = 30\n",
    "b = 20\n",
    "print(a+b)"
   ]
  },
  {
   "cell_type": "code",
   "execution_count": 43,
   "id": "3185f435-c3c6-4755-8ffe-7ac10623800d",
   "metadata": {},
   "outputs": [
    {
     "name": "stdout",
     "output_type": "stream",
     "text": [
      "600\n",
      "1.5\n",
      "1\n",
      "10\n",
      "900\n"
     ]
    }
   ],
   "source": [
    "# perkalian\n",
    "print(a*b)\n",
    "# pembagian\n",
    "print(a/b)\n",
    "# pembulatan pembagian\n",
    "print(a//b)\n",
    "# modulo\n",
    "print(a%b)\n",
    "# pangkat\n",
    "print(a**2)b"
   ]
  },
  {
   "cell_type": "markdown",
   "id": "15159d53-b67f-45e9-acf8-3de4f73a650a",
   "metadata": {},
   "source": [
    "# Quiz 1"
   ]
  },
  {
   "cell_type": "code",
   "execution_count": 47,
   "id": "8997ff8c-7730-4b1e-805a-0d282b35db2a",
   "metadata": {},
   "outputs": [
    {
     "name": "stdout",
     "output_type": "stream",
     "text": [
      "86.0\n"
     ]
    }
   ],
   "source": [
    "# konversi 30 C ke Fahrenheit\n",
    "C = 30\n",
    "F = (C*(9/5))+32\n",
    "print(F)"
   ]
  },
  {
   "cell_type": "markdown",
   "id": "abd04d7c-736b-40d2-9778-f3f872e53c4d",
   "metadata": {
    "tags": []
   },
   "source": [
    "# Comparison Operators"
   ]
  },
  {
   "cell_type": "code",
   "execution_count": 65,
   "id": "6c53af14-0008-45e2-9714-13924f876e48",
   "metadata": {},
   "outputs": [],
   "source": [
    "b = 10\n",
    "c = 10\n",
    "d = 20\n",
    "v = 'rumah'\n",
    "w = 'rumah'\n",
    "s = 'RumaH'"
   ]
  },
  {
   "cell_type": "code",
   "execution_count": 68,
   "id": "b4bf902d-c501-449f-a592-8a2fa7f79352",
   "metadata": {},
   "outputs": [
    {
     "name": "stdout",
     "output_type": "stream",
     "text": [
      "True\n",
      "False\n",
      "True\n",
      "False\n",
      "False\n",
      "True\n"
     ]
    }
   ],
   "source": [
    "# persamaan (==);\n",
    "print(b == c)\n",
    "print(c == d)\n",
    "print(v == w)\n",
    "print(w == s)\n",
    "# tidak sama dengan (!=)\n",
    "print(b != c)\n",
    "print (c != d)"
   ]
  },
  {
   "cell_type": "markdown",
   "id": "7cf287e3-3dab-46f9-bb56-c49d22f11c44",
   "metadata": {},
   "source": [
    "# String Manipulation"
   ]
  },
  {
   "cell_type": "code",
   "execution_count": 74,
   "id": "26cc5ee7-d497-4eba-9150-254707f8dc93",
   "metadata": {},
   "outputs": [
    {
     "name": "stdout",
     "output_type": "stream",
     "text": [
      "football\n",
      "football legend\n"
     ]
    }
   ],
   "source": [
    "s = 'foot'\n",
    "t = 'ball'\n",
    "w = ' legend'\n",
    "# penambahan\n",
    "print(s+t)\n",
    "print(s+t+w)"
   ]
  },
  {
   "cell_type": "code",
   "execution_count": 75,
   "id": "854a577e-0f2d-4549-9d96-95a3e7403cd5",
   "metadata": {},
   "outputs": [
    {
     "name": "stdout",
     "output_type": "stream",
     "text": [
      "footfoot\n"
     ]
    }
   ],
   "source": [
    "# perkalian\n",
    "print(s*2)"
   ]
  },
  {
   "cell_type": "code",
   "execution_count": 76,
   "id": "5b4237d1-f731-46b3-94a0-2c58e904b4f7",
   "metadata": {},
   "outputs": [
    {
     "name": "stdout",
     "output_type": "stream",
     "text": [
      "True\n",
      "False\n"
     ]
    }
   ],
   "source": [
    "# in\n",
    "a='buah'\n",
    "print(a in 'saya mau beli buah')\n",
    "print(a in 'saya mau beli singkong')"
   ]
  },
  {
   "cell_type": "code",
   "execution_count": 77,
   "id": "048f721e-4a0b-4707-9cb2-a16b6aa97266",
   "metadata": {},
   "outputs": [
    {
     "name": "stdout",
     "output_type": "stream",
     "text": [
      "BUAH\n"
     ]
    }
   ],
   "source": [
    "# case convertion\n",
    "print(a.upper())"
   ]
  },
  {
   "cell_type": "code",
   "execution_count": 84,
   "id": "b3419de3-71d1-401b-83c0-9d922a374559",
   "metadata": {},
   "outputs": [
    {
     "name": "stdout",
     "output_type": "stream",
     "text": [
      "buah mangga\n"
     ]
    }
   ],
   "source": [
    "b='BuAh Mangga'\n",
    "print(b.lower())"
   ]
  },
  {
   "cell_type": "code",
   "execution_count": 86,
   "id": "9c81857a-38cb-4259-af51-3482561276d2",
   "metadata": {},
   "outputs": [
    {
     "name": "stdout",
     "output_type": "stream",
     "text": [
      "Buah mangga\n"
     ]
    }
   ],
   "source": [
    "print(b.capitalize())"
   ]
  },
  {
   "cell_type": "code",
   "execution_count": 87,
   "id": "40f0942d-f6d6-4a7a-914c-1d5f6f525a4e",
   "metadata": {},
   "outputs": [
    {
     "name": "stdout",
     "output_type": "stream",
     "text": [
      "Buah Mangga\n"
     ]
    }
   ],
   "source": [
    "print(b.title())"
   ]
  },
  {
   "cell_type": "code",
   "execution_count": 88,
   "id": "000d1faf-67ef-4a45-a1b5-d608a115af52",
   "metadata": {},
   "outputs": [
    {
     "name": "stdout",
     "output_type": "stream",
     "text": [
      "bUaH mANGGA\n"
     ]
    }
   ],
   "source": [
    "print(b.swapcase())"
   ]
  },
  {
   "cell_type": "markdown",
   "id": "e3ee4f2b-d694-40cc-a2be-5d554a13b6b5",
   "metadata": {},
   "source": [
    "# Python List"
   ]
  },
  {
   "cell_type": "code",
   "execution_count": 91,
   "id": "798f7def-5910-4f1a-8711-201dc20b9d55",
   "metadata": {},
   "outputs": [
    {
     "name": "stdout",
     "output_type": "stream",
     "text": [
      "['aku', 'anak', 'sehat']\n"
     ]
    },
    {
     "data": {
      "text/plain": [
       "list"
      ]
     },
     "execution_count": 91,
     "metadata": {},
     "output_type": "execute_result"
    }
   ],
   "source": [
    "c = ['aku','anak','sehat']\n",
    "print(c)\n",
    "type(c)"
   ]
  },
  {
   "cell_type": "code",
   "execution_count": 92,
   "id": "93681a8b-e2ee-4e29-a911-f9cbf788bc2e",
   "metadata": {},
   "outputs": [
    {
     "name": "stdout",
     "output_type": "stream",
     "text": [
      "['aku', 1, True, 3.7]\n"
     ]
    },
    {
     "data": {
      "text/plain": [
       "list"
      ]
     },
     "execution_count": 92,
     "metadata": {},
     "output_type": "execute_result"
    }
   ],
   "source": [
    "b = ['aku',1,True,3.7]\n",
    "print(b)\n",
    "type(b)"
   ]
  },
  {
   "cell_type": "code",
   "execution_count": 93,
   "id": "74db53f3-290a-49e4-a2e1-7897d3bc3ee7",
   "metadata": {},
   "outputs": [
    {
     "name": "stdout",
     "output_type": "stream",
     "text": [
      "False\n"
     ]
    }
   ],
   "source": [
    "c = ['sehat','anak','aku']\n",
    "print(a==c)"
   ]
  },
  {
   "cell_type": "code",
   "execution_count": 95,
   "id": "7081ac49-cc59-4cd2-ab96-40a520076050",
   "metadata": {},
   "outputs": [
    {
     "data": {
      "text/plain": [
       "tuple"
      ]
     },
     "execution_count": 95,
     "metadata": {},
     "output_type": "execute_result"
    }
   ],
   "source": [
    "d = 'aku','anak','sehat'\n",
    "type(d)"
   ]
  },
  {
   "cell_type": "code",
   "execution_count": 6,
   "id": "4b976b73-8a49-4f75-be35-d96e2dda3387",
   "metadata": {},
   "outputs": [
    {
     "name": "stdout",
     "output_type": "stream",
     "text": [
      "bar foo quux\n"
     ]
    }
   ],
   "source": [
    "#list can be accessed by Index\n",
    "f = ['foo','bar','bazz','qux','quux','corge']\n",
    "print(f[1],f[0],f[4])"
   ]
  },
  {
   "cell_type": "code",
   "execution_count": 7,
   "id": "1ae0d550-45d9-42a5-b174-34fc90bba797",
   "metadata": {},
   "outputs": [
    {
     "name": "stdout",
     "output_type": "stream",
     "text": [
      "['foo', 'bar', 'bazz', 'qux', 'quux', 'corge']\n"
     ]
    }
   ],
   "source": [
    "print(f)"
   ]
  },
  {
   "cell_type": "code",
   "execution_count": 8,
   "id": "3fbad976-cc73-4d1b-a292-b33d0fa5b486",
   "metadata": {},
   "outputs": [
    {
     "name": "stdout",
     "output_type": "stream",
     "text": [
      "['bar', 'bazz', 'qux']\n"
     ]
    }
   ],
   "source": [
    "print(f[1:4])"
   ]
  },
  {
   "cell_type": "code",
   "execution_count": 10,
   "id": "b8aeba7e-1d8b-4193-8e5a-e18d8c77d5a2",
   "metadata": {},
   "outputs": [
    {
     "name": "stdout",
     "output_type": "stream",
     "text": [
      "d\n",
      "bu\n"
     ]
    }
   ],
   "source": [
    "x = 'budi'\n",
    "print(x[2:3])\n",
    "print(x[0:2])"
   ]
  },
  {
   "cell_type": "code",
   "execution_count": 35,
   "id": "b4f49b72-e371-44d9-b71e-12054fe95128",
   "metadata": {},
   "outputs": [
    {
     "name": "stdout",
     "output_type": "stream",
     "text": [
      "i\n",
      "omi\n",
      "tmen\n",
      "kmte\n",
      "kmtn\n"
     ]
    }
   ],
   "source": [
    "# Quiz 2\n",
    "a = 'komitmen'\n",
    "print(a[3])\n",
    "print(a[1:4])\n",
    "print(a[4:8])\n",
    "print(a[0]+a[2]+a[4]+a[6])\n",
    "print(a[0]+a[2]+a[4]+a[7])"
   ]
  },
  {
   "cell_type": "code",
   "execution_count": 37,
   "id": "a7d6d674-ae10-44ec-af5b-4a4e05376715",
   "metadata": {},
   "outputs": [
    {
     "name": "stdout",
     "output_type": "stream",
     "text": [
      "1\n"
     ]
    }
   ],
   "source": [
    "print(a.index('o'))"
   ]
  },
  {
   "cell_type": "code",
   "execution_count": 43,
   "id": "bb8cc348-ca4d-4000-9805-00f70afdfea6",
   "metadata": {},
   "outputs": [
    {
     "name": "stdout",
     "output_type": "stream",
     "text": [
      "o\n"
     ]
    }
   ],
   "source": [
    "print(a[1:2:5])"
   ]
  },
  {
   "cell_type": "markdown",
   "id": "7bd9bdf7-d07f-42c1-80f4-c061215c48cb",
   "metadata": {},
   "source": [
    "### Modify List Values Based on its Index"
   ]
  },
  {
   "cell_type": "code",
   "execution_count": 45,
   "id": "1186d6fc-a771-47b2-a074-475a6e522c42",
   "metadata": {},
   "outputs": [],
   "source": [
    "f = ['foo','bar','bazz','qux','quux','corge']\n",
    "f[f.index('quux')]=10"
   ]
  },
  {
   "cell_type": "code",
   "execution_count": 46,
   "id": "0be27b5c-4d65-4dd5-9c9b-6e267b260b20",
   "metadata": {},
   "outputs": [
    {
     "name": "stdout",
     "output_type": "stream",
     "text": [
      "['foo', 'bar', 'bazz', 'qux', 10, 'corge']\n"
     ]
    }
   ],
   "source": [
    "print(f)"
   ]
  },
  {
   "cell_type": "code",
   "execution_count": 47,
   "id": "85ff886a-d053-443a-9c6f-2e9528382c1d",
   "metadata": {},
   "outputs": [
    {
     "name": "stdout",
     "output_type": "stream",
     "text": [
      "['foo', 'bar', 'bazz', 10, 'corge']\n"
     ]
    }
   ],
   "source": [
    "del f[f.index('qux')]\n",
    "print(f)"
   ]
  },
  {
   "cell_type": "code",
   "execution_count": 48,
   "id": "be10c561-9566-4cf9-b32b-e6d1431156ac",
   "metadata": {},
   "outputs": [
    {
     "name": "stdout",
     "output_type": "stream",
     "text": [
      "[1, 2, 3, 10, 'corge']\n"
     ]
    }
   ],
   "source": [
    "f[0:3] = [1,2,3]\n",
    "print(f)"
   ]
  },
  {
   "cell_type": "markdown",
   "id": "6fe75802-f582-4964-ad89-e23f6f014111",
   "metadata": {},
   "source": [
    "## Tuple"
   ]
  },
  {
   "cell_type": "code",
   "execution_count": 49,
   "id": "0809773b-2293-441f-ac25-38c3b5fb6d00",
   "metadata": {},
   "outputs": [
    {
     "name": "stdout",
     "output_type": "stream",
     "text": [
      "('aaa', 'bbb', 'vvv')\n"
     ]
    },
    {
     "data": {
      "text/plain": [
       "tuple"
      ]
     },
     "execution_count": 49,
     "metadata": {},
     "output_type": "execute_result"
    }
   ],
   "source": [
    "t = 'aaa', 'bbb', 'vvv'\n",
    "print(t)\n",
    "type(t)"
   ]
  },
  {
   "cell_type": "markdown",
   "id": "7393dc6a-3edd-47f3-84e4-ec7d7260b6a7",
   "metadata": {},
   "source": [
    "## Dictionary"
   ]
  },
  {
   "cell_type": "code",
   "execution_count": 55,
   "id": "ce5c396b-6d69-4552-9a4d-db788a9c9567",
   "metadata": {},
   "outputs": [
    {
     "name": "stdout",
     "output_type": "stream",
     "text": [
      "Rockies\n",
      "Red Sox\n"
     ]
    }
   ],
   "source": [
    "MLD_team = {\n",
    "    'Colorado':'Rockies',\n",
    "    'Boston':'Red Sox',\n",
    "    'Minnesota':'Twins',\n",
    "    'Milwaukee':'Brewers',\n",
    "    'Seattle':'Mariners'\n",
    "}\n",
    "print(MLD_team['Colorado'])\n",
    "print(MLD_team['Boston'])"
   ]
  },
  {
   "cell_type": "code",
   "execution_count": 56,
   "id": "eb6ae1a4-d256-4544-a143-c92988b5c37b",
   "metadata": {},
   "outputs": [
    {
     "name": "stdout",
     "output_type": "stream",
     "text": [
      "{'Colorado': 'Rockies', 'Boston': 'Red Sox', 'Minnesota': 'Twins', 'Milwaukee': 'Brewers', 'Seattle': 'Mariners', 'Kansas City': 'Royals'}\n"
     ]
    }
   ],
   "source": [
    "# assign data baru\n",
    "MLD_team['Kansas City']='Royals'\n",
    "print(MLD_team)"
   ]
  },
  {
   "cell_type": "code",
   "execution_count": 59,
   "id": "674846c9-a4c6-4c78-a794-deda76a080e9",
   "metadata": {},
   "outputs": [
    {
     "name": "stdout",
     "output_type": "stream",
     "text": [
      "{'Colorado': 'Rockies', 'Boston': 'Red Sox', 'Minnesota': 'Twins', 'Milwaukee': 'Brewers', 'Seattle': 'Seahawks', 'Kansas City': 'Royals'}\n"
     ]
    }
   ],
   "source": [
    "# update data (ganti)\n",
    "MLD_team['Seattle']='Seahawks'\n",
    "print(MLD_team)"
   ]
  },
  {
   "cell_type": "code",
   "execution_count": 60,
   "id": "10531ef5-510a-4b19-9cbd-34a218da295a",
   "metadata": {},
   "outputs": [
    {
     "name": "stdout",
     "output_type": "stream",
     "text": [
      "{'Boston': 'Red Sox', 'Minnesota': 'Twins', 'Milwaukee': 'Brewers', 'Seattle': 'Seahawks', 'Kansas City': 'Royals'}\n"
     ]
    }
   ],
   "source": [
    "# del command\n",
    "del MLD_team['Colorado']\n",
    "print(MLD_team)"
   ]
  },
  {
   "cell_type": "code",
   "execution_count": 61,
   "id": "ec866f61-71ce-46f9-85ad-05f394e8cd6d",
   "metadata": {},
   "outputs": [
    {
     "name": "stdout",
     "output_type": "stream",
     "text": [
      "{}\n"
     ]
    }
   ],
   "source": [
    "orang={}\n",
    "print(orang)"
   ]
  },
  {
   "cell_type": "code",
   "execution_count": 65,
   "id": "e17b1eba-1daf-42c4-812a-204a86170b45",
   "metadata": {},
   "outputs": [
    {
     "name": "stdout",
     "output_type": "stream",
     "text": [
      "{'Nama': 'Hakim', 'Kota': 'Malang', 'Umur': '23', 'Hobi': ('Sepak Bola', 'MOBA Game'), 'Sekolah': {'SMP': 'MTSN Bangil', 'SMA': 'MAN BANGIL'}}\n",
      "MAN BANGIL\n",
      "Sepak Bola\n"
     ]
    }
   ],
   "source": [
    "orang['Nama'] = 'Hakim'\n",
    "orang['Kota'] = 'Malang'\n",
    "orang['Umur'] = '23'\n",
    "orang['Hobi'] = 'Sepak Bola','MOBA Game'\n",
    "orang['Sekolah'] = {'SMP': 'MTSN Bangil', 'SMA': 'MAN BANGIL'}\n",
    "print(orang)\n",
    "print(orang['Sekolah']['SMA'])\n",
    "print(orang['Hobi'][0])"
   ]
  },
  {
   "cell_type": "markdown",
   "id": "932b87e2-1be3-452f-9249-df4e650e224e",
   "metadata": {},
   "source": [
    "## line continuation"
   ]
  },
  {
   "cell_type": "code",
   "execution_count": 73,
   "id": "7b27c3a2-3fe6-411b-875f-752c8cc0fbf1",
   "metadata": {},
   "outputs": [
    {
     "name": "stdout",
     "output_type": "stream",
     "text": [
      "True\n",
      "False\n",
      "False\n",
      "True\n",
      "True\n",
      "True\n"
     ]
    }
   ],
   "source": [
    "print(True and True)\n",
    "print(True and False)\n",
    "print(False and True)\n",
    "print(True or True)\n",
    "print(True or False)\n",
    "print(False or True)"
   ]
  },
  {
   "cell_type": "code",
   "execution_count": 82,
   "id": "4e55d729-04de-4b59-94b9-704561a6978d",
   "metadata": {},
   "outputs": [
    {
     "name": "stdout",
     "output_type": "stream",
     "text": [
      "False\n",
      "True\n",
      "False\n",
      "True\n",
      "True\n"
     ]
    }
   ],
   "source": [
    "umur1 = 10\n",
    "umur2 = 20\n",
    "umur3 = 71\n",
    "print(umur1>=11 and umur2>=18)\n",
    "print(umur1>=9 or umur2>=21)\n",
    "print(umur2>=9 and umur3<=18)\n",
    "print(umur3<=9 or umur2>=18)\n",
    "print(umur1>=9 and umur2>=18)"
   ]
  },
  {
   "cell_type": "markdown",
   "id": "4c4bb288-5424-4522-bc8e-d88eb0ae52de",
   "metadata": {},
   "source": [
    "## Materi Tambahan"
   ]
  },
  {
   "cell_type": "code",
   "execution_count": 93,
   "id": "af18eaa0-b801-47fc-93f2-03f2b8213176",
   "metadata": {},
   "outputs": [
    {
     "name": "stdout",
     "output_type": "stream",
     "text": [
      "['toyota', 'kijang', 'Isuzu']\n",
      "['toyota', 'Isuzu']\n",
      "['toyota', 'Isuzu', 'Innova']\n",
      "['Isuzu', 'Innova']\n"
     ]
    }
   ],
   "source": [
    "mobil = ['toyota', 'kijang']\n",
    "mobil.append('Isuzu')\n",
    "print(mobil)\n",
    "mobil.pop(1)\n",
    "print(mobil)\n",
    "kendaraan = mobil.copy()\n",
    "kendaraan.append('Innova')\n",
    "print(kendaraan)\n",
    "kendaraan.remove('toyota')\n",
    "print(kendaraan)"
   ]
  },
  {
   "cell_type": "code",
   "execution_count": null,
   "id": "1a124ee0-2a54-4ff2-b547-1049c8c9f67f",
   "metadata": {},
   "outputs": [],
   "source": []
  }
 ],
 "metadata": {
  "kernelspec": {
   "display_name": "Python 3 (ipykernel)",
   "language": "python",
   "name": "python3"
  },
  "language_info": {
   "codemirror_mode": {
    "name": "ipython",
    "version": 3
   },
   "file_extension": ".py",
   "mimetype": "text/x-python",
   "name": "python",
   "nbconvert_exporter": "python",
   "pygments_lexer": "ipython3",
   "version": "3.9.13"
  }
 },
 "nbformat": 4,
 "nbformat_minor": 5
}
