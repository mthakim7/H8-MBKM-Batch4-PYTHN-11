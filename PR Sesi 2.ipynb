{
 "cells": [
  {
   "cell_type": "code",
   "execution_count": 3,
   "id": "4ad13453-33ff-47e9-9cb7-a42bc15cb071",
   "metadata": {},
   "outputs": [],
   "source": [
    "import matplotlib.pyplot as plt\n",
    "import time"
   ]
  },
  {
   "cell_type": "code",
   "execution_count": 4,
   "id": "3b04258c",
   "metadata": {},
   "outputs": [
    {
     "name": "stdout",
     "output_type": "stream",
     "text": [
      "Selamat Datang di Permainan Piramida Angka by M.Taufiqul Hakim\n"
     ]
    },
    {
     "name": "stdin",
     "output_type": "stream",
     "text": [
      " Masukkan Angka Maksimal Piramida :  5\n"
     ]
    },
    {
     "name": "stdout",
     "output_type": "stream",
     "text": [
      "1 \n",
      "1 2 \n",
      "1 2 3 \n",
      "1 2 3 4 \n",
      "1 2 3 4 5  \n",
      "1 2 3 4  \n",
      "1 2 3  \n",
      "1 2  \n",
      "1  \n"
     ]
    }
   ],
   "source": [
    "time.sleep(0.5)\n",
    "print(\"Selamat Datang di Permainan Piramida Angka by M.Taufiqul Hakim\")\n",
    "time.sleep(2)\n",
    "angka = int(input(\" Masukkan Angka Maksimal Piramida : \"))\n",
    "\n",
    "for i in range(1,angka,1):\n",
    "    for j in range(i):\n",
    "        if (j+1)>=9:\n",
    "            print(j+1, end=(''))\n",
    "        else:\n",
    "            print(j+1, end=(' '))\n",
    "    print('')\n",
    "for i in range(angka,0,-1):\n",
    "    for j in range (i):\n",
    "        if (j+1)>=9:\n",
    "            print(j+1, end=(''))\n",
    "        else:\n",
    "            print(j+1, end=(' '))\n",
    "    print(' ')"
   ]
  },
  {
   "cell_type": "code",
   "execution_count": null,
   "id": "24b05209-e251-48b0-87be-e6aa4043ef47",
   "metadata": {
    "tags": []
   },
   "outputs": [],
   "source": [
    "# for i in range(2, 11, 2):\n",
    "    print(i)"
   ]
  },
  {
   "cell_type": "code",
   "execution_count": 50,
   "id": "997777b1-3252-4e93-8a41-96f4e65e3806",
   "metadata": {},
   "outputs": [
    {
     "name": "stdout",
     "output_type": "stream",
     "text": [
      "7\n",
      "5\n",
      "3\n",
      "1\n"
     ]
    }
   ],
   "source": [
    "for i in range(7,0,-2):\n",
    "    print(i)"
   ]
  },
  {
   "cell_type": "code",
   "execution_count": null,
   "id": "d32855e8-1c02-4768-9070-cc584e301428",
   "metadata": {},
   "outputs": [],
   "source": []
  }
 ],
 "metadata": {
  "kernelspec": {
   "display_name": "Python 3 (ipykernel)",
   "language": "python",
   "name": "python3"
  },
  "language_info": {
   "codemirror_mode": {
    "name": "ipython",
    "version": 3
   },
   "file_extension": ".py",
   "mimetype": "text/x-python",
   "name": "python",
   "nbconvert_exporter": "python",
   "pygments_lexer": "ipython3",
   "version": "3.9.13"
  }
 },
 "nbformat": 4,
 "nbformat_minor": 5
}
